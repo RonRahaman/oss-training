{
 "cells": [
  {
   "cell_type": "markdown",
   "id": "abd7c74f",
   "metadata": {
    "slideshow": {
     "slide_type": "subslide"
    }
   },
   "source": [
    "To use this notebook interactively, install the `bash_kernel` Python package with either:\n",
    "* `pip install bash_kernel`\n",
    "* `conda install -c conda-forge bash_kernel`"
   ]
  },
  {
   "cell_type": "markdown",
   "id": "3e3b7b24",
   "metadata": {
    "slideshow": {
     "slide_type": "slide"
    }
   },
   "source": [
    "# OSS Module 01 - Git Basics"
   ]
  },
  {
   "cell_type": "markdown",
   "id": "20ccabc9",
   "metadata": {
    "slideshow": {
     "slide_type": "slide"
    }
   },
   "source": [
    "# Section 1: What is version control?"
   ]
  },
  {
   "cell_type": "markdown",
   "id": "591b1a32",
   "metadata": {
    "slideshow": {
     "slide_type": "slide"
    }
   },
   "source": [
    "# Section 2: Git and GitHub setup"
   ]
  },
  {
   "cell_type": "markdown",
   "id": "85c3be63",
   "metadata": {
    "slideshow": {
     "slide_type": "slide"
    }
   },
   "source": [
    "# Section 3:  A Git project directory"
   ]
  },
  {
   "cell_type": "markdown",
   "id": "f92893e1",
   "metadata": {
    "slideshow": {
     "slide_type": "subslide"
    }
   },
   "source": [
    "## Parts of a local Git project\n",
    "\n",
    "When you download a Git repo, the contents are stored on your computer as normal files in a normal directory.  In Git terminology, these files are the **working tree**.  You can edit these files freely.  \n",
    "\n",
    "On your computer, changes to the files are stored in the **local repository** or local **database**.  Soon, we will learn how to store (or **commit**) new versions of the files; and how to retrieve (or **checkout**) previous versions of the files.  \n",
    "\n",
    "The contents of this repo (`oss-training`) are shown below.  The database and metadata are stored in the hidden `.git/` directory.  You can treat this as a black box, and your only interaction with the database and metadata should be through via `git` commands.  While some of the files in `.git/` are human-readible, they should *never* be manually edited, since manual edits can cause an inconsistent state."
   ]
  },
  {
   "cell_type": "code",
   "execution_count": 6,
   "id": "646381e1",
   "metadata": {
    "scrolled": true
   },
   "outputs": [
    {
     "name": "stdout",
     "output_type": "stream",
     "text": [
      "total 16\n",
      "drwxr-xr-x   8 rrahaman6  staff   256 Apr 11 11:34 \u001b[1m\u001b[36m.\u001b[39;49m\u001b[0m\n",
      "drwxr-xr-x  49 rrahaman6  staff  1568 Apr 11 10:51 \u001b[1m\u001b[36m..\u001b[39;49m\u001b[0m\n",
      "drwxr-xr-x  12 rrahaman6  staff   384 Apr 11 11:13 \u001b[1m\u001b[36m.git\u001b[39;49m\u001b[0m\n",
      "drwxr-xr-x   3 rrahaman6  staff    96 Apr 11 11:19 \u001b[1m\u001b[36m.ipynb_checkpoints\u001b[39;49m\u001b[0m\n",
      "-rw-r--r--   1 rrahaman6  staff    81 Apr 11 10:37 README.md\n",
      "drwxr-xr-x   4 rrahaman6  staff   128 Apr 11 11:27 \u001b[1m\u001b[36mimg\u001b[39;49m\u001b[0m\n",
      "-rw-r--r--   1 rrahaman6  staff  2729 Apr 11 11:33 oss-module-01-git.ipynb\n",
      "drwxr-xr-x   2 rrahaman6  staff    64 Apr 11 11:19 \u001b[1m\u001b[36msrc\u001b[39;49m\u001b[0m\n"
     ]
    }
   ],
   "source": [
    "ls -la"
   ]
  },
  {
   "cell_type": "markdown",
   "id": "e7702a13",
   "metadata": {
    "slideshow": {
     "slide_type": "subslide"
    }
   },
   "source": [
    "## Tracked vs. Untracked Files"
   ]
  },
  {
   "cell_type": "markdown",
   "id": "28ade16f",
   "metadata": {},
   "source": [
    "Git does not automatically add files from the working tree to the database.  Instead, the user must explicitly specify which files are stored in the database (**tracked**) and which are not (**untracked**).\n",
    "\n",
    "In this repo, the *tracked* files are: the README, Jupyter notebooks, `img/` directory, and `src/` directory.  If you edit and save this notebook, your working tree will have an *untracked* directory `.ipynb_checkpoints/` that are save files for Jupyter.  \n",
    "\n",
    "It's important to consider which files to *not* track.  In a Python project, you should not track byte code (`*.pyc` and `*.pyo` in `__pycache__` directories) since they will be automatically regenerated whenever someone else runs it with a different Python version.  Tracking them will just take up unnecessary space in the database.  "
   ]
  },
  {
   "cell_type": "markdown",
   "id": "6d8793e8",
   "metadata": {
    "slideshow": {
     "slide_type": "slide"
    }
   },
   "source": [
    "# Section 4: A Git Workflow from Start to Finish"
   ]
  },
  {
   "cell_type": "markdown",
   "id": "8cde607d",
   "metadata": {
    "slideshow": {
     "slide_type": "subslide"
    }
   },
   "source": [
    "## `git init`: Creating a local repo\n",
    "\n",
    "The `git init` command creates a new repo in the current directory.  Below, we create a new directory and initialize an repo inside it."
   ]
  },
  {
   "cell_type": "code",
   "execution_count": 10,
   "id": "aa02da5d",
   "metadata": {},
   "outputs": [
    {
     "name": "stdout",
     "output_type": "stream",
     "text": [
      "Initialized empty Git repository in /Users/rrahaman6/git_workflow/.git/\n"
     ]
    }
   ],
   "source": [
    "mkdir ~/git_workflow\n",
    "cd ~/git_workflow\n",
    "git init"
   ]
  },
  {
   "cell_type": "markdown",
   "id": "710266bc",
   "metadata": {},
   "source": [
    "You can see the `.git/` directory was created for the database.  "
   ]
  },
  {
   "cell_type": "code",
   "execution_count": 12,
   "id": "fed0e770",
   "metadata": {
    "scrolled": true
   },
   "outputs": [
    {
     "name": "stdout",
     "output_type": "stream",
     "text": [
      "total 0\n",
      "drwxr-xr-x    3 rrahaman6  staff    96B Apr 11 14:16 \u001b[1m\u001b[36m.\u001b[39;49m\u001b[0m\n",
      "drwxr-xr-x+ 191 rrahaman6  staff   6.0K Apr 11 14:16 \u001b[1m\u001b[36m..\u001b[39;49m\u001b[0m\n",
      "drwxr-xr-x    9 rrahaman6  staff   288B Apr 11 14:16 \u001b[1m\u001b[36m.git\u001b[39;49m\u001b[0m\n"
     ]
    }
   ],
   "source": [
    "ls -lha"
   ]
  },
  {
   "cell_type": "markdown",
   "id": "c8b89e94",
   "metadata": {
    "slideshow": {
     "slide_type": "subslide"
    }
   },
   "source": [
    "## `git help`: Getting help\n",
    "\n",
    "`git help <command>` will show a manual page for the given command.  They describe all the available options with examples at the bottom."
   ]
  },
  {
   "cell_type": "code",
   "execution_count": null,
   "id": "183ddf37",
   "metadata": {},
   "outputs": [],
   "source": [
    "git help init"
   ]
  },
  {
   "cell_type": "markdown",
   "id": "5139b9d4",
   "metadata": {
    "slideshow": {
     "slide_type": "subslide"
    }
   },
   "source": [
    "## `git status`: Show the state of the working tree\n",
    "\n",
    "`git status` shows the state of tracked files, untracked files, and the database. Right now, the working tree is empty, and the database is empty, so there is not much to report.  \n",
    "\n",
    "We already have a **branch** called `main`, which was created when the repo was initialized.  We will cover branches in detail soon.  For now, you can think of them like branches of a family tree that describe your project's history.  "
   ]
  },
  {
   "cell_type": "code",
   "execution_count": 14,
   "id": "b80037e2",
   "metadata": {},
   "outputs": [
    {
     "name": "stdout",
     "output_type": "stream",
     "text": [
      "On branch main\n",
      "\n",
      "No commits yet\n",
      "\n",
      "nothing to commit (create/copy files and use \"git add\" to track)\n"
     ]
    }
   ],
   "source": [
    "git status"
   ]
  }
 ],
 "metadata": {
  "celltoolbar": "Slideshow",
  "kernelspec": {
   "display_name": "Bash",
   "language": "bash",
   "name": "bash"
  },
  "language_info": {
   "codemirror_mode": "shell",
   "file_extension": ".sh",
   "mimetype": "text/x-sh",
   "name": "bash"
  }
 },
 "nbformat": 4,
 "nbformat_minor": 5
}
