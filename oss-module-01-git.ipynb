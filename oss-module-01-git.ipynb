{
 "cells": [
  {
   "cell_type": "markdown",
   "id": "218144c8",
   "metadata": {
    "slideshow": {
     "slide_type": "subslide"
    }
   },
   "source": [
    "To use this notebook interactively, install the `bash_kernel` Python package with either:\n",
    "* `pip install bash_kernel`\n",
    "* `conda install -c conda-forge bash_kernel`"
   ]
  },
  {
   "cell_type": "markdown",
   "id": "ea96b25f",
   "metadata": {
    "slideshow": {
     "slide_type": "slide"
    }
   },
   "source": [
    "# OSS Module 01 - Git Basics"
   ]
  },
  {
   "cell_type": "markdown",
   "id": "7952b90d",
   "metadata": {
    "slideshow": {
     "slide_type": "slide"
    }
   },
   "source": [
    "# Section 1: What is version control?"
   ]
  },
  {
   "cell_type": "markdown",
   "id": "2ca5f08b",
   "metadata": {
    "slideshow": {
     "slide_type": "slide"
    }
   },
   "source": [
    "# Section 2: Git and GitHub setup"
   ]
  },
  {
   "cell_type": "markdown",
   "id": "8a70a0a6",
   "metadata": {
    "slideshow": {
     "slide_type": "slide"
    }
   },
   "source": [
    "# Section 3:  A Git project directory"
   ]
  },
  {
   "cell_type": "markdown",
   "id": "90d93f4d",
   "metadata": {
    "slideshow": {
     "slide_type": "subslide"
    }
   },
   "source": [
    "## Parts of a local Git project\n",
    "\n",
    "When you download a Git repo, the contents are stored on your computer as normal files in a normal directory.  In Git terminology, these files are the **working tree**.  You can edit these files freely.  \n",
    "\n",
    "On your computer, changes to the files are stored in the **local repository** or local **database**.  Soon, we will learn how to store (or **commit**) new versions of the files; and how to retrieve (or **checkout**) previous versions of the files.  \n",
    "\n",
    "The contents of this repo (`oss-training`) are shown below.  The database and metadata are stored in the hidden `.git/` directory.  You can treat this as a black box, and your only interaction with the database and metadata should be through via `git` commands.  While some of the files in `.git/` are human-readible, they should *never* be manually edited, since manual edits can cause an inconsistent state."
   ]
  },
  {
   "cell_type": "code",
   "execution_count": 6,
   "id": "3c4f36e8",
   "metadata": {
    "scrolled": true
   },
   "outputs": [
    {
     "name": "stdout",
     "output_type": "stream",
     "text": [
      "total 16\n",
      "drwxr-xr-x   8 rrahaman6  staff   256 Apr 11 11:34 \u001b[1m\u001b[36m.\u001b[39;49m\u001b[0m\n",
      "drwxr-xr-x  49 rrahaman6  staff  1568 Apr 11 10:51 \u001b[1m\u001b[36m..\u001b[39;49m\u001b[0m\n",
      "drwxr-xr-x  12 rrahaman6  staff   384 Apr 11 11:13 \u001b[1m\u001b[36m.git\u001b[39;49m\u001b[0m\n",
      "drwxr-xr-x   3 rrahaman6  staff    96 Apr 11 11:19 \u001b[1m\u001b[36m.ipynb_checkpoints\u001b[39;49m\u001b[0m\n",
      "-rw-r--r--   1 rrahaman6  staff    81 Apr 11 10:37 README.md\n",
      "drwxr-xr-x   4 rrahaman6  staff   128 Apr 11 11:27 \u001b[1m\u001b[36mimg\u001b[39;49m\u001b[0m\n",
      "-rw-r--r--   1 rrahaman6  staff  2729 Apr 11 11:33 oss-module-01-git.ipynb\n",
      "drwxr-xr-x   2 rrahaman6  staff    64 Apr 11 11:19 \u001b[1m\u001b[36msrc\u001b[39;49m\u001b[0m\n"
     ]
    }
   ],
   "source": [
    "ls -la"
   ]
  },
  {
   "cell_type": "markdown",
   "id": "00e3fe66",
   "metadata": {
    "slideshow": {
     "slide_type": "subslide"
    }
   },
   "source": [
    "## Tracked vs. Untracked Files"
   ]
  },
  {
   "cell_type": "markdown",
   "id": "cbc1b8ff",
   "metadata": {},
   "source": [
    "Git does not automatically add files from the working tree to the database.  Instead, the user must explicitly specify which files are stored in the database (**tracked**) and which are not (**untracked**).\n",
    "\n",
    "In this repo, the *tracked* files are: the README, Jupyter notebooks, `img/` directory, and `src/` directory.  If you edit and save this notebook, your working tree will have an *untracked* directory `.ipynb_checkpoints/` that are save files for Jupyter.  \n",
    "\n",
    "It's important to consider which files to *not* track.  In a Python project, you should not track byte code (`*.pyc` and `*.pyo` in `__pycache__` directories) since they will be automatically regenerated whenever someone else runs it with a different Python version.  Tracking them will just take up unnecessary space in the database.  "
   ]
  },
  {
   "cell_type": "markdown",
   "id": "9cfa5e07",
   "metadata": {
    "slideshow": {
     "slide_type": "slide"
    }
   },
   "source": [
    "# Section 4: A Git Workflow from Start to Finish"
   ]
  },
  {
   "cell_type": "markdown",
   "id": "7be097dc",
   "metadata": {
    "slideshow": {
     "slide_type": "subslide"
    }
   },
   "source": [
    "## `git init`: Creating a local repo\n",
    "\n",
    "The `git init` command creates a new repo in the current directory.  Below, we create a new directory and initialize an repo inside it."
   ]
  },
  {
   "cell_type": "code",
   "execution_count": 10,
   "id": "7a6184cb",
   "metadata": {},
   "outputs": [
    {
     "name": "stdout",
     "output_type": "stream",
     "text": [
      "Initialized empty Git repository in /Users/rrahaman6/git_workflow/.git/\n"
     ]
    }
   ],
   "source": [
    "mkdir ~/git_workflow\n",
    "cd ~/git_workflow\n",
    "git init"
   ]
  },
  {
   "cell_type": "markdown",
   "id": "1a499d4f",
   "metadata": {},
   "source": [
    "You can see the `.git/` directory was created for the database.  "
   ]
  },
  {
   "cell_type": "code",
   "execution_count": 12,
   "id": "b53d83f5",
   "metadata": {
    "scrolled": true
   },
   "outputs": [
    {
     "name": "stdout",
     "output_type": "stream",
     "text": [
      "total 0\n",
      "drwxr-xr-x    3 rrahaman6  staff    96B Apr 11 14:16 \u001b[1m\u001b[36m.\u001b[39;49m\u001b[0m\n",
      "drwxr-xr-x+ 191 rrahaman6  staff   6.0K Apr 11 14:16 \u001b[1m\u001b[36m..\u001b[39;49m\u001b[0m\n",
      "drwxr-xr-x    9 rrahaman6  staff   288B Apr 11 14:16 \u001b[1m\u001b[36m.git\u001b[39;49m\u001b[0m\n"
     ]
    }
   ],
   "source": [
    "ls -lha"
   ]
  },
  {
   "cell_type": "markdown",
   "id": "761ce502",
   "metadata": {
    "slideshow": {
     "slide_type": "subslide"
    }
   },
   "source": [
    "## `git help`: Getting help\n",
    "\n",
    "`git help <command>` will show a manual page for the given command.  They describe all the available options with examples at the bottom."
   ]
  },
  {
   "cell_type": "code",
   "execution_count": 13,
   "id": "f7a3fa89",
   "metadata": {},
   "outputs": [
    {
     "name": "stdout",
     "output_type": "stream",
     "text": [
      "GIT-INIT(1)                       Git Manual                       GIT-INIT(1)\n",
      "\n",
      "NAME\n",
      "       git-init - Create an empty Git repository or reinitialize an existing\n",
      "       one\n",
      "\n",
      "SYNOPSIS\n",
      "       git init [-q | --quiet] [--bare] [--template=<template_directory>]\n",
      "                 [--separate-git-dir <git dir>] [--object-format=<format>]\n",
      "                 [-b <branch-name> | --initial-branch=<branch-name>]\n",
      "                 [--shared[=<permissions>]] [directory]\n",
      "\n",
      "\n",
      "DESCRIPTION\n",
      "       This command creates an empty Git repository - basically a .git\n",
      "       directory with subdirectories for objects, refs/heads, refs/tags, and\n",
      "       template files. An initial branch without any commits will be created\n",
      "       (see the --initial-branch option below for its name).\n",
      "\n",
      "       If the $GIT_DIR environment variable is set then it specifies a path to\n",
      "       use instead of ./.git for the base of the repository.\n",
      "\n",
      "       If the object storage directory is specified via the\n",
      "       $GIT_OBJECT_DIRECTORY environment variable then the sha1 directories\n",
      "       are created underneath - otherwise the default $GIT_DIR/objects\n",
      "       directory is used.\n",
      "\n",
      "       Running git init in an existing repository is safe. It will not\n",
      "       overwrite things that are already there. The primary reason for\n",
      "       rerunning git init is to pick up newly added templates (or to move the\n",
      "       repository to another place if --separate-git-dir is given).\n",
      "\n",
      "OPTIONS\n",
      "       -q, --quiet\n",
      "           Only print error and warning messages; all other output will be\n",
      "           suppressed.\n",
      "\n",
      "       --bare\n",
      "           Create a bare repository. If GIT_DIR environment is not set, it is\n",
      "           set to the current working directory.\n",
      "\n",
      "       --object-format=<format>\n",
      "           Specify the given object format (hash algorithm) for the\n",
      "           repository. The valid values are sha1 and (if enabled) sha256.\n",
      "           sha1 is the default.\n",
      "\n",
      "           THIS OPTION IS EXPERIMENTAL! SHA-256 support is experimental and\n",
      "           still in an early stage. A SHA-256 repository will in general not\n",
      "           be able to share work with \"regular\" SHA-1 repositories. It should\n",
      "           be assumed that, e.g., Git internal file formats in relation to\n",
      "           SHA-256 repositories may change in backwards-incompatible ways.\n",
      "           Only use --object-format=sha256 for testing purposes.\n",
      "\n",
      "       --template=<template_directory>\n",
      "           Specify the directory from which templates will be used. (See the\n",
      "           \"TEMPLATE DIRECTORY\" section below.)\n",
      "\n",
      "       --separate-git-dir=<git dir>\n",
      "           Instead of initializing the repository as a directory to either\n",
      "           $GIT_DIR or ./.git/, create a text file there containing the path\n",
      "           to the actual repository. This file acts as filesystem-agnostic Git\n",
      "           symbolic link to the repository.\n",
      "\n",
      "           If this is reinitialization, the repository will be moved to the\n",
      "           specified path.\n",
      "\n",
      "       -b <branch-name>, --initial-branch=<branch-name>\n",
      "           Use the specified name for the initial branch in the newly created\n",
      "           repository. If not specified, fall back to the default name\n",
      "           (currently master, but this is subject to change in the future; the\n",
      "           name can be customized via the init.defaultBranch configuration\n",
      "           variable).\n",
      "\n",
      "       --shared[=(false|true|umask|group|all|world|everybody|0xxx)]\n",
      "           Specify that the Git repository is to be shared amongst several\n",
      "           users. This allows users belonging to the same group to push into\n",
      "           that repository. When specified, the config variable\n",
      "           \"core.sharedRepository\" is set so that files and directories under\n",
      "           $GIT_DIR are created with the requested permissions. When not\n",
      "           specified, Git will use permissions reported by umask(2).\n",
      "\n",
      "           The option can have the following values, defaulting to group if no\n",
      "           value is given:\n",
      "\n",
      "           umask (or false)\n",
      "               Use permissions reported by umask(2). The default, when\n",
      "               --shared is not specified.\n",
      "\n",
      "           group (or true)\n",
      "               Make the repository group-writable, (and g+sx, since the git\n",
      "               group may be not the primary group of all users). This is used\n",
      "               to loosen the permissions of an otherwise safe umask(2) value.\n",
      "               Note that the umask still applies to the other permission bits\n",
      "               (e.g. if umask is 0022, using group will not remove read\n",
      "               privileges from other (non-group) users). See 0xxx for how to\n",
      "               exactly specify the repository permissions.\n",
      "\n",
      "           all (or world or everybody)\n",
      "               Same as group, but make the repository readable by all users.\n",
      "\n",
      "           0xxx\n",
      "               0xxx is an octal number and each file will have mode 0xxx.\n",
      "               0xxx will override users' umask(2) value (and not only loosen\n",
      "               permissions as group and all does).  0640 will create a\n",
      "               repository which is group-readable, but not group-writable or\n",
      "               accessible to others.  0660 will create a repo that is readable\n",
      "               and writable to the current user and group, but inaccessible to\n",
      "               others.\n",
      "\n",
      "       By default, the configuration flag receive.denyNonFastForwards is\n",
      "       enabled in shared repositories, so that you cannot force a non\n",
      "       fast-forwarding push into it.\n",
      "\n",
      "       If you provide a directory, the command is run inside it. If this\n",
      "       directory does not exist, it will be created.\n",
      "\n",
      "TEMPLATE DIRECTORY\n",
      "       Files and directories in the template directory whose name do not start\n",
      "       with a dot will be copied to the $GIT_DIR after it is created.\n",
      "\n",
      "       The template directory will be one of the following (in order):\n",
      "\n",
      "       •   the argument given with the --template option;\n",
      "\n",
      "       •   the contents of the $GIT_TEMPLATE_DIR environment variable;\n",
      "\n",
      "       •   the init.templateDir configuration variable; or\n",
      "\n",
      "       •   the default template directory: /usr/share/git-core/templates.\n",
      "\n",
      "       The default template directory includes some directory structure,\n",
      "       suggested \"exclude patterns\" (see gitignore(5)), and sample hook files.\n",
      "\n",
      "       The sample hooks are all disabled by default. To enable one of the\n",
      "       sample hooks rename it by removing its .sample suffix.\n",
      "\n",
      "       See githooks(5) for more general info on hook execution.\n",
      "\n",
      "EXAMPLES\n",
      "       Start a new Git repository for an existing code base\n",
      "\n",
      "               $ cd /path/to/my/codebase\n",
      "               $ git init      (1)\n",
      "               $ git add .     (2)\n",
      "               $ git commit    (3)\n",
      "\n",
      "           1. Create a /path/to/my/codebase/.git directory.\n",
      "           2. Add all existing files to the index.\n",
      "           3. Record the pristine state as the first commit in the history.\n",
      "\n",
      "GIT\n",
      "       Part of the git(1) suite\n",
      "\n",
      "Git 2.30.1.378.g1d4f23            02/08/2021                       GIT-INIT(1)\n"
     ]
    }
   ],
   "source": [
    "git help init"
   ]
  },
  {
   "cell_type": "markdown",
   "id": "cfc5e295",
   "metadata": {
    "slideshow": {
     "slide_type": "subslide"
    }
   },
   "source": [
    "## `git status`: Show the state of the working tree\n",
    "\n",
    "`git status` shows the state of tracked files, untracked files, and the database. Right now, the working tree is empty, and the database is empty, so there is not much to report.  \n",
    "\n",
    "We already have a **branch** called `main`, which was created when the repo was initialized.  We will cover branches in detail soon.  For now, you can think of them like branches of a family tree that describe your project's history.  "
   ]
  },
  {
   "cell_type": "code",
   "execution_count": 14,
   "id": "fbc0e074",
   "metadata": {},
   "outputs": [
    {
     "name": "stdout",
     "output_type": "stream",
     "text": [
      "On branch main\n",
      "\n",
      "No commits yet\n",
      "\n",
      "nothing to commit (create/copy files and use \"git add\" to track)\n"
     ]
    }
   ],
   "source": [
    "git status"
   ]
  }
 ],
 "metadata": {
  "celltoolbar": "Slideshow",
  "kernelspec": {
   "display_name": "Bash",
   "language": "bash",
   "name": "bash"
  },
  "language_info": {
   "codemirror_mode": "shell",
   "file_extension": ".sh",
   "mimetype": "text/x-sh",
   "name": "bash"
  }
 },
 "nbformat": 4,
 "nbformat_minor": 5
}
