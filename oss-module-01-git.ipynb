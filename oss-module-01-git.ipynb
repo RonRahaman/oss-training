{
 "cells": [
  {
   "cell_type": "markdown",
   "id": "abd7c74f",
   "metadata": {
    "slideshow": {
     "slide_type": "subslide"
    }
   },
   "source": [
    "To use this notebook interactively, install the `bash_kernel` Python package with either:\n",
    "* `pip install bash_kernel`\n",
    "* `conda install -c conda-forge bash_kernel`"
   ]
  },
  {
   "cell_type": "markdown",
   "id": "3e3b7b24",
   "metadata": {
    "slideshow": {
     "slide_type": "slide"
    }
   },
   "source": [
    "# OSS Module 01 - Git Basics"
   ]
  },
  {
   "cell_type": "markdown",
   "id": "20ccabc9",
   "metadata": {
    "slideshow": {
     "slide_type": "slide"
    }
   },
   "source": [
    "# Section 1: What is version control?"
   ]
  },
  {
   "cell_type": "markdown",
   "id": "591b1a32",
   "metadata": {
    "slideshow": {
     "slide_type": "slide"
    }
   },
   "source": [
    "# Section 2: Git and GitHub setup"
   ]
  },
  {
   "cell_type": "markdown",
   "id": "85c3be63",
   "metadata": {
    "slideshow": {
     "slide_type": "slide"
    }
   },
   "source": [
    "# Section 3:  A Git project directory"
   ]
  },
  {
   "cell_type": "markdown",
   "id": "f92893e1",
   "metadata": {
    "slideshow": {
     "slide_type": "subslide"
    }
   },
   "source": [
    "## Parts of a local Git project\n",
    "\n",
    "When you download a Git repo, the contents are stored on your computer as normal files in a normal directory.  In Git terminology, these files are the **working tree**.  You can edit these files freely.  \n",
    "\n",
    "On your computer, changes to the files are stored in the **local repository** or local **database**.  Soon, we will learn how to store (or **commit**) new versions of the files; and how to retrieve (or **checkout**) previous versions of the files.  \n",
    "\n",
    "The contents of this repo (`oss-training`) are shown below.  The database and metadata are stored in the hidden `.git/` directory.  You can treat this as a black box, and your only interaction with the database and metadata should be through via `git` commands.  While some of the files in `.git/` are human-readible, they should *never* be manually edited, since manual edits can cause an inconsistent state."
   ]
  },
  {
   "cell_type": "code",
   "execution_count": 1,
   "id": "646381e1",
   "metadata": {
    "scrolled": true
   },
   "outputs": [
    {
     "name": "stdout",
     "output_type": "stream",
     "text": [
      "total 40\n",
      "drwxr-xr-x  10 rrahaman6  staff   320 Apr 12 08:26 \u001b[1m\u001b[36m.\u001b[39;49m\u001b[0m\n",
      "drwxr-xr-x  49 rrahaman6  staff  1568 Apr 11 10:51 \u001b[1m\u001b[36m..\u001b[39;49m\u001b[0m\n",
      "-rw-r--r--@  1 rrahaman6  staff  6148 Apr 12 08:26 .DS_Store\n",
      "drwxr-xr-x  13 rrahaman6  staff   416 Apr 25 13:20 \u001b[1m\u001b[36m.git\u001b[39;49m\u001b[0m\n",
      "drwxr-xr-x   3 rrahaman6  staff    96 Apr 11 11:19 \u001b[1m\u001b[36m.ipynb_checkpoints\u001b[39;49m\u001b[0m\n",
      "-rw-r--r--   1 rrahaman6  staff    81 Apr 11 10:37 README.md\n",
      "drwxr-xr-x   3 rrahaman6  staff    96 Apr 11 14:16 \u001b[1m\u001b[36mgit_workflow\u001b[39;49m\u001b[0m\n",
      "drwxr-xr-x   4 rrahaman6  staff   128 Apr 11 11:27 \u001b[1m\u001b[36mimg\u001b[39;49m\u001b[0m\n",
      "-rw-r--r--   1 rrahaman6  staff  8088 Apr 11 14:46 oss-module-01-git.ipynb\n",
      "drwxr-xr-x   2 rrahaman6  staff    64 Apr 11 11:19 \u001b[1m\u001b[36msrc\u001b[39;49m\u001b[0m\n"
     ]
    }
   ],
   "source": [
    "ls -la"
   ]
  },
  {
   "cell_type": "markdown",
   "id": "e7702a13",
   "metadata": {
    "slideshow": {
     "slide_type": "subslide"
    }
   },
   "source": [
    "## Tracked vs. Untracked Files"
   ]
  },
  {
   "cell_type": "markdown",
   "id": "28ade16f",
   "metadata": {},
   "source": [
    "Git does not automatically add files from the working tree to the database.  Instead, the user must explicitly specify which files are stored in the database (**tracked**) and which are not (**untracked**).\n",
    "\n",
    "In this repo, the *tracked* files are: the README, Jupyter notebooks, `img/` directory, and `src/` directory.  If you edit and save this notebook, your working tree will have an *untracked* directory `.ipynb_checkpoints/` that are save files for Jupyter.  \n",
    "\n",
    "It's important to consider which files to *not* track.  In a Python project, you should not track byte code (`*.pyc` and `*.pyo` in `__pycache__` directories) since they will be automatically regenerated whenever someone else runs it with a different Python version.  Tracking them will just take up unnecessary space in the database.  "
   ]
  },
  {
   "cell_type": "markdown",
   "id": "6d8793e8",
   "metadata": {
    "slideshow": {
     "slide_type": "slide"
    }
   },
   "source": [
    "# Section 4: A Git Workflow from Start to Finish"
   ]
  },
  {
   "cell_type": "markdown",
   "id": "8cde607d",
   "metadata": {
    "slideshow": {
     "slide_type": "subslide"
    }
   },
   "source": [
    "## `git init`: Creating a local repo\n",
    "\n",
    "The `git init` command creates a new repo in the current directory.  Below, we create a new directory, `~/git_workfow` and initialize an repo inside it."
   ]
  },
  {
   "cell_type": "code",
   "execution_count": 2,
   "id": "aa02da5d",
   "metadata": {},
   "outputs": [
    {
     "name": "stdout",
     "output_type": "stream",
     "text": [
      "Initialized empty Git repository in /Users/rrahaman6/git_workflow/.git/\n"
     ]
    }
   ],
   "source": [
    "mkdir ~/git_workflow\n",
    "cd ~/git_workflow\n",
    "git init"
   ]
  },
  {
   "cell_type": "markdown",
   "id": "710266bc",
   "metadata": {},
   "source": [
    "You can see the `.git/` directory was created for the database.  "
   ]
  },
  {
   "cell_type": "code",
   "execution_count": 3,
   "id": "fed0e770",
   "metadata": {
    "scrolled": true
   },
   "outputs": [
    {
     "name": "stdout",
     "output_type": "stream",
     "text": [
      "total 0\n",
      "drwxr-xr-x    3 rrahaman6  staff    96B Apr 25 13:24 \u001b[1m\u001b[36m.\u001b[39;49m\u001b[0m\n",
      "drwxr-xr-x+ 192 rrahaman6  staff   6.0K Apr 25 13:24 \u001b[1m\u001b[36m..\u001b[39;49m\u001b[0m\n",
      "drwxr-xr-x    9 rrahaman6  staff   288B Apr 25 13:24 \u001b[1m\u001b[36m.git\u001b[39;49m\u001b[0m\n"
     ]
    }
   ],
   "source": [
    "ls -lha"
   ]
  },
  {
   "cell_type": "markdown",
   "id": "c8b89e94",
   "metadata": {
    "slideshow": {
     "slide_type": "subslide"
    }
   },
   "source": [
    "## `git help`: Getting help\n",
    "\n",
    "`git help <command>` will show a manual page for the given command.  They describe all the available options with examples at the bottom."
   ]
  },
  {
   "cell_type": "code",
   "execution_count": null,
   "id": "183ddf37",
   "metadata": {},
   "outputs": [],
   "source": [
    "git help init"
   ]
  },
  {
   "cell_type": "markdown",
   "id": "5139b9d4",
   "metadata": {
    "slideshow": {
     "slide_type": "subslide"
    }
   },
   "source": [
    "## `git status`: Show the state of the working tree\n",
    "\n",
    "`git status` shows the state of tracked files, untracked files, and the database. Right now, the working tree is empty, and the database is empty, so there is not much to report.  \n",
    "\n",
    "We already have a **branch** called `main`, which was created when the repo was initialized.  We will cover branches in detail soon.  For now, you can think of them like branches of a family tree that describe your project's history.  "
   ]
  },
  {
   "cell_type": "code",
   "execution_count": 5,
   "id": "b80037e2",
   "metadata": {
    "scrolled": true
   },
   "outputs": [
    {
     "name": "stdout",
     "output_type": "stream",
     "text": [
      "On branch main\n",
      "\n",
      "No commits yet\n",
      "\n",
      "nothing to commit (create/copy files and use \"git add\" to track)\n"
     ]
    }
   ],
   "source": [
    "git status"
   ]
  },
  {
   "cell_type": "markdown",
   "id": "d69a957b",
   "metadata": {
    "slideshow": {
     "slide_type": "subslide"
    }
   },
   "source": [
    "## Creating new files\n",
    "\n",
    "To create and edit files in your working tree, you can use any text editor.  In `~/git_workflow`, let's create two files.\n",
    "\n",
    "First, create a file named `README.md` file with these contents.  You might notice a mistake; don't correct it right now! :)"
   ]
  },
  {
   "cell_type": "markdown",
   "id": "95fac4ed",
   "metadata": {
    "slideshow": {
     "slide_type": "-"
    }
   },
   "source": [
    "``` text\n",
    "# Git Workflow\n",
    "\n",
    "This is an example repo for the GT OSPO VSIP Spring 2024 Program.  \n",
    "```"
   ]
  },
  {
   "cell_type": "markdown",
   "id": "9687a29f",
   "metadata": {
    "slideshow": {
     "slide_type": "-"
    }
   },
   "source": [
    "Then, let's create a Python source file named `my_abs.py` with these contents. We will be making changes to `my_abs.py` throughout this demo.  "
   ]
  },
  {
   "cell_type": "markdown",
   "id": "501744b5",
   "metadata": {},
   "source": [
    "``` python\n",
    "def my_abs(x):\n",
    "    if x < 0:\n",
    "        return -x\n",
    "    else:\n",
    "        return x\n",
    "```"
   ]
  },
  {
   "cell_type": "markdown",
   "id": "9ac355dd",
   "metadata": {},
   "source": [
    "## Untracked files\n",
    "\n",
    "When we look at at `git status`, we see that the new files are **untracked**.  Recall that untracked files are not recorded in repo's database.  Git does not autmatically track new files, and the user must be very intentional about what to track."
   ]
  },
  {
   "cell_type": "code",
   "execution_count": 5,
   "id": "872926e6",
   "metadata": {
    "scrolled": false
   },
   "outputs": [
    {
     "name": "stdout",
     "output_type": "stream",
     "text": [
      "On branch main\n",
      "\n",
      "No commits yet\n",
      "\n",
      "Untracked files:\n",
      "  (use \"git add <file>...\" to include in what will be committed)\n",
      "\t\u001b[31mREADME.md\u001b[m\n",
      "\t\u001b[31mmy_abs.py\u001b[m\n",
      "\n",
      "nothing added to commit but untracked files present (use \"git add\" to track)\n"
     ]
    }
   ],
   "source": [
    "git status"
   ]
  },
  {
   "cell_type": "markdown",
   "id": "a7f07472",
   "metadata": {},
   "source": [
    "## The state of files in a working tree\n",
    "\n",
    "To understand how to record changes to our new files, let's describe possible **states** of files in your working tree.  \n",
    "\n",
    "Files in the working tree are either tracked or untracked:\n",
    "\n",
    "* **Untracked**: No versions of the file are stored in the repo's database\n",
    "* **Tracked**:  One or more versions of the file are in the database\n",
    "\n",
    "Additionally, changes in tracked files are always in one of three states:\n",
    "\n",
    "* **Unmodified**:  The file in the working is tree are up-to-date with the database.  Git sometimes refers to these changes as \"up-to-date\".  \n",
    "* **Modfied**:  The file has changes that have not yet been stored in the database.  Furthermore, the user hasn't specified that these changes will be stored in the next database update.  \n",
    "* **Staged**: The file's changes that will be stored in the next database update.  Git sometimes refers to these as \"to be committed\".  \n",
    "\n",
    "\n",
    "<img src=\"img/lifecycle.png\" width=\"800\" />\n",
    "\n",
    "(Image credit:  Scott Chacon and Ben Straub.  Pro Git, [Section 2.2](https://git-scm.com/book/en/v2/Git-Basics-Recording-Changes-to-the-Repository))"
   ]
  },
  {
   "cell_type": "markdown",
   "id": "a10d953c",
   "metadata": {},
   "source": [
    "## `git add`: Stage new changes\n",
    "\n",
    "\n",
    "\n",
    "In our working copy of `git_workflow`, we have two untracked files: `README.md` and `my_abs.py`.  To record their changes, we need two steps (as shown in the [diagram above](#The-state-of-files-in-a-working-tree)):\n",
    "\n",
    "1. **Add the files:**  This changes their state from \"Untracked\" to \"Staged\".  At this point, the changes are *ready* to be stored in the database but *are not yet stored*.  \n",
    "2. **Commit**:  This changes their state from \"Staged\" to \"Unmodified\".  At this point, the changes have actually been stored in the database.\n",
    "\n",
    "To accomplish Step 1 (Untracked to Staged), we use `git add`.  Its usage is:\n",
    "\n",
    "```\n",
    "git add <file1> [<file2> ...]\n",
    "```"
   ]
  },
  {
   "cell_type": "code",
   "execution_count": 7,
   "id": "7e4401c2",
   "metadata": {},
   "outputs": [],
   "source": [
    "git add README.md my_abs.py"
   ]
  },
  {
   "cell_type": "markdown",
   "id": "ba33e58f",
   "metadata": {},
   "source": [
    "Now when we run `git status`, we can see that the files' changes are \"to be committed\", meaning that they are staged for the next database update."
   ]
  },
  {
   "cell_type": "code",
   "execution_count": 8,
   "id": "190df084",
   "metadata": {},
   "outputs": [
    {
     "name": "stdout",
     "output_type": "stream",
     "text": [
      "On branch main\n",
      "\n",
      "No commits yet\n",
      "\n",
      "Changes to be committed:\n",
      "  (use \"git rm --cached <file>...\" to unstage)\n",
      "\t\u001b[32mnew file:   README.md\u001b[m\n",
      "\t\u001b[32mnew file:   my_abs.py\u001b[m\n",
      "\n"
     ]
    }
   ],
   "source": [
    "git status"
   ]
  },
  {
   "cell_type": "markdown",
   "id": "8a03932e",
   "metadata": {},
   "source": [
    "## Modifying as staged file\n",
    "\n",
    "What happens when you've staged a file, but before you commit it, you realize you need to fix something?  \n",
    "\n",
    "For example, in `README.md`, we made a typo.  We wrote \"Spring 2024\" instead of \"Summer 2024\".  We'll go ahead and correct that change with our text editor, and then look at the `git status`:"
   ]
  },
  {
   "cell_type": "code",
   "execution_count": 9,
   "id": "61c2b92d",
   "metadata": {},
   "outputs": [
    {
     "name": "stdout",
     "output_type": "stream",
     "text": [
      "On branch main\n",
      "\n",
      "No commits yet\n",
      "\n",
      "Changes to be committed:\n",
      "  (use \"git rm --cached <file>...\" to unstage)\n",
      "\t\u001b[32mnew file:   README.md\u001b[m\n",
      "\t\u001b[32mnew file:   my_abs.py\u001b[m\n",
      "\n",
      "Changes not staged for commit:\n",
      "  (use \"git add <file>...\" to update what will be committed)\n",
      "  (use \"git restore <file>...\" to discard changes in working directory)\n",
      "\t\u001b[31mmodified:   README.md\u001b[m\n",
      "\n"
     ]
    }
   ],
   "source": [
    "git status"
   ]
  },
  {
   "cell_type": "markdown",
   "id": "74c39dd4",
   "metadata": {},
   "source": [
    "Git tells us:\n",
    "* `README.md` and `my_abs.py` have changes that are staged (\"to be committed\")\n",
    "* `README.md` also has changes that are not staged\n",
    "\n",
    "How can one file have both staged and unstaged changes?  The reason is that `git add` stages the state of the file **at the exact moment** you run `git add`.  So if you run `git add`, and make additional changes (like changing \"Spring\" to \"Summer\"), then those additional changes are not automatically staged.  "
   ]
  },
  {
   "cell_type": "markdown",
   "id": "9a659214",
   "metadata": {},
   "source": [
    "## Staging new content (again)\n",
    "\n",
    "To fix this, we'll run `git add` again to stage the new changes (\"Spring\" to \"Summer\").  You can see that Git suggests this, too, when it says: 'use \"git add <file>...\" to update what will be committed'"
   ]
  },
  {
   "cell_type": "code",
   "execution_count": 10,
   "id": "c1f0b76b",
   "metadata": {},
   "outputs": [],
   "source": [
    "git add README.md"
   ]
  },
  {
   "cell_type": "markdown",
   "id": "665ca9e9",
   "metadata": {},
   "source": [
    "Now we see that all the changes in `README.md` have been staged, since there are no \"Changes not staged for commit\" anymore.  "
   ]
  },
  {
   "cell_type": "code",
   "execution_count": 11,
   "id": "d44426c4",
   "metadata": {},
   "outputs": [
    {
     "name": "stdout",
     "output_type": "stream",
     "text": [
      "On branch main\n",
      "\n",
      "No commits yet\n",
      "\n",
      "Changes to be committed:\n",
      "  (use \"git rm --cached <file>...\" to unstage)\n",
      "\t\u001b[32mnew file:   README.md\u001b[m\n",
      "\t\u001b[32mnew file:   my_abs.py\u001b[m\n",
      "\n"
     ]
    }
   ],
   "source": [
    "git status"
   ]
  },
  {
   "cell_type": "markdown",
   "id": "392ae11f",
   "metadata": {},
   "source": [
    "## `git commit`: Updating the database\n",
    "\n",
    "Finally, we will use `git commit` to record staged changes to the database.  \n",
    "\n",
    "You can use the `-m` option to specify a **commit message** on the command line.  This is a short message that lets other humans know what changes you've made.  Many projects have conventions about what info should go into a commit message.  Ask your project manager for details.  \n",
    "\n",
    "(If you do not use `-m`, a text editor will pop up and prompt you to enter a message.  This is often less convenient than using `-m`)"
   ]
  },
  {
   "cell_type": "code",
   "execution_count": 12,
   "id": "465ad57a",
   "metadata": {},
   "outputs": [
    {
     "name": "stdout",
     "output_type": "stream",
     "text": [
      "[main (root-commit) d8b803d] First commit of my_abs (no try/except yet)\n",
      " 2 files changed, 8 insertions(+)\n",
      " create mode 100644 README.md\n",
      " create mode 100644 my_abs.py\n"
     ]
    }
   ],
   "source": [
    "git commit -m \"First commit of my_abs (no try/except yet)\""
   ]
  },
  {
   "cell_type": "markdown",
   "id": "c981fd1a",
   "metadata": {},
   "source": [
    "## `git log`:  Showing the repo's history\n",
    "\n",
    "Now that we actually have information in our repo's database, we can use `git log` to show the history.  `git log` has many options to show more or less information about the history."
   ]
  },
  {
   "cell_type": "code",
   "execution_count": 13,
   "id": "04fc8557",
   "metadata": {},
   "outputs": [
    {
     "name": "stdout",
     "output_type": "stream",
     "text": [
      "\u001b[33mcommit d8b803d9c647a9c4c981ba400c4f802074aa9724\u001b[m\u001b[33m (\u001b[m\u001b[1;36mHEAD -> \u001b[m\u001b[1;32mmain\u001b[m\u001b[33m)\u001b[m\n",
      "Author: Ron Rahaman <ron.rahaman@outlook.com>\n",
      "Date:   Fri Apr 26 12:10:26 2024 -0500\n",
      "\n",
      "    First commit of my_abs (no try/except yet)\n"
     ]
    }
   ],
   "source": [
    "git log"
   ]
  },
  {
   "cell_type": "code",
   "execution_count": null,
   "id": "69d9d032",
   "metadata": {},
   "outputs": [],
   "source": []
  }
 ],
 "metadata": {
  "celltoolbar": "Slideshow",
  "kernelspec": {
   "display_name": "Bash",
   "language": "bash",
   "name": "bash"
  },
  "language_info": {
   "codemirror_mode": "shell",
   "file_extension": ".sh",
   "mimetype": "text/x-sh",
   "name": "bash"
  }
 },
 "nbformat": 4,
 "nbformat_minor": 5
}
