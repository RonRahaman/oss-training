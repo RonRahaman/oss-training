{
 "cells": [
  {
   "cell_type": "markdown",
   "id": "abd7c74f",
   "metadata": {
    "slideshow": {
     "slide_type": "subslide"
    }
   },
   "source": [
    "To use this notebook interactively, install the `bash_kernel` Python package with either:\n",
    "* `pip install bash_kernel`\n",
    "* `conda install -c conda-forge bash_kernel`"
   ]
  },
  {
   "cell_type": "markdown",
   "id": "3e3b7b24",
   "metadata": {
    "slideshow": {
     "slide_type": "slide"
    }
   },
   "source": [
    "# OSS Module 01 - Git Basics"
   ]
  },
  {
   "cell_type": "markdown",
   "id": "20ccabc9",
   "metadata": {
    "slideshow": {
     "slide_type": "slide"
    }
   },
   "source": [
    "# Section 1: What is version control?"
   ]
  },
  {
   "cell_type": "markdown",
   "id": "591b1a32",
   "metadata": {
    "slideshow": {
     "slide_type": "slide"
    }
   },
   "source": [
    "# Section 2: Git and GitHub setup"
   ]
  },
  {
   "cell_type": "markdown",
   "id": "85c3be63",
   "metadata": {
    "slideshow": {
     "slide_type": "slide"
    }
   },
   "source": [
    "# Section 3:  A Git project directory"
   ]
  },
  {
   "cell_type": "markdown",
   "id": "f92893e1",
   "metadata": {
    "slideshow": {
     "slide_type": "subslide"
    }
   },
   "source": [
    "## Parts of a local Git project\n",
    "\n",
    "When you download a Git repo, the contents are stored on your computer as normal files in a normal directory.  In Git terminology, these files are the **working tree**.  You can edit these files freely.  \n",
    "\n",
    "On your computer, changes to the files are stored in the **local repository** or local **database**.  Soon, we will learn how to store (or **commit**) new versions of the files; and how to retrieve (or **checkout**) previous versions of the files.  \n",
    "\n",
    "The contents of this repo (`oss-training`) are shown below.  The database and metadata are stored in the hidden `.git/` directory.  You can treat this as a black box, and your only interaction with the database and metadata should be through via `git` commands.  While some of the files in `.git/` are human-readible, they should *never* be manually edited, since manual edits can cause an inconsistent state."
   ]
  },
  {
   "cell_type": "code",
   "execution_count": 1,
   "id": "646381e1",
   "metadata": {
    "scrolled": true
   },
   "outputs": [
    {
     "name": "stdout",
     "output_type": "stream",
     "text": [
      "total 40\n",
      "drwxr-xr-x  10 rrahaman6  staff   320 Apr 12 08:26 \u001b[1m\u001b[36m.\u001b[39;49m\u001b[0m\n",
      "drwxr-xr-x  49 rrahaman6  staff  1568 Apr 11 10:51 \u001b[1m\u001b[36m..\u001b[39;49m\u001b[0m\n",
      "-rw-r--r--@  1 rrahaman6  staff  6148 Apr 12 08:26 .DS_Store\n",
      "drwxr-xr-x  13 rrahaman6  staff   416 Apr 25 13:20 \u001b[1m\u001b[36m.git\u001b[39;49m\u001b[0m\n",
      "drwxr-xr-x   3 rrahaman6  staff    96 Apr 11 11:19 \u001b[1m\u001b[36m.ipynb_checkpoints\u001b[39;49m\u001b[0m\n",
      "-rw-r--r--   1 rrahaman6  staff    81 Apr 11 10:37 README.md\n",
      "drwxr-xr-x   3 rrahaman6  staff    96 Apr 11 14:16 \u001b[1m\u001b[36mgit_workflow\u001b[39;49m\u001b[0m\n",
      "drwxr-xr-x   4 rrahaman6  staff   128 Apr 11 11:27 \u001b[1m\u001b[36mimg\u001b[39;49m\u001b[0m\n",
      "-rw-r--r--   1 rrahaman6  staff  8088 Apr 11 14:46 oss-module-01-git.ipynb\n",
      "drwxr-xr-x   2 rrahaman6  staff    64 Apr 11 11:19 \u001b[1m\u001b[36msrc\u001b[39;49m\u001b[0m\n"
     ]
    }
   ],
   "source": [
    "ls -la"
   ]
  },
  {
   "cell_type": "markdown",
   "id": "e7702a13",
   "metadata": {
    "slideshow": {
     "slide_type": "subslide"
    }
   },
   "source": [
    "## Tracked vs. Untracked Files"
   ]
  },
  {
   "cell_type": "markdown",
   "id": "28ade16f",
   "metadata": {},
   "source": [
    "Git does not automatically add files from the working tree to the database.  Instead, the user must explicitly specify which files are stored in the database (**tracked**) and which are not (**untracked**).\n",
    "\n",
    "In this repo, the *tracked* files are: the README, Jupyter notebooks, `img/` directory, and `src/` directory.  If you edit and save this notebook, your working tree will have an *untracked* directory `.ipynb_checkpoints/` that are save files for Jupyter.  \n",
    "\n",
    "It's important to consider which files to *not* track.  In a Python project, you should not track byte code (`*.pyc` and `*.pyo` in `__pycache__` directories) since they will be automatically regenerated whenever someone else runs it with a different Python version.  Tracking them will just take up unnecessary space in the database.  "
   ]
  },
  {
   "cell_type": "markdown",
   "id": "6d8793e8",
   "metadata": {
    "slideshow": {
     "slide_type": "slide"
    }
   },
   "source": [
    "# Section 4: A Git Workflow from Start to Finish"
   ]
  },
  {
   "cell_type": "markdown",
   "id": "25dee2c5",
   "metadata": {},
   "source": [
    "# Section 4.1: Creating a Repo and Committing Files"
   ]
  },
  {
   "cell_type": "markdown",
   "id": "8cde607d",
   "metadata": {
    "slideshow": {
     "slide_type": "subslide"
    }
   },
   "source": [
    "## `git init`: Creating a local repo\n",
    "\n",
    "The `git init` command creates a new repo in the current directory.  Below, we create a new directory, `~/git_workfow` and initialize an repo inside it."
   ]
  },
  {
   "cell_type": "code",
   "execution_count": 2,
   "id": "aa02da5d",
   "metadata": {},
   "outputs": [
    {
     "name": "stdout",
     "output_type": "stream",
     "text": [
      "Initialized empty Git repository in /Users/rrahaman6/git_workflow/.git/\n"
     ]
    }
   ],
   "source": [
    "mkdir ~/git_workflow\n",
    "cd ~/git_workflow\n",
    "git init"
   ]
  },
  {
   "cell_type": "markdown",
   "id": "710266bc",
   "metadata": {},
   "source": [
    "You can see the `.git/` directory was created for the database.  "
   ]
  },
  {
   "cell_type": "code",
   "execution_count": 3,
   "id": "fed0e770",
   "metadata": {
    "scrolled": true
   },
   "outputs": [
    {
     "name": "stdout",
     "output_type": "stream",
     "text": [
      "total 0\n",
      "drwxr-xr-x    3 rrahaman6  staff    96B Apr 25 13:24 \u001b[1m\u001b[36m.\u001b[39;49m\u001b[0m\n",
      "drwxr-xr-x+ 192 rrahaman6  staff   6.0K Apr 25 13:24 \u001b[1m\u001b[36m..\u001b[39;49m\u001b[0m\n",
      "drwxr-xr-x    9 rrahaman6  staff   288B Apr 25 13:24 \u001b[1m\u001b[36m.git\u001b[39;49m\u001b[0m\n"
     ]
    }
   ],
   "source": [
    "ls -lha"
   ]
  },
  {
   "cell_type": "markdown",
   "id": "c8b89e94",
   "metadata": {
    "slideshow": {
     "slide_type": "subslide"
    }
   },
   "source": [
    "## `git help`: Getting help\n",
    "\n",
    "`git help <command>` will show a manual page for the given command.  They describe all the available options with examples at the bottom."
   ]
  },
  {
   "cell_type": "code",
   "execution_count": null,
   "id": "183ddf37",
   "metadata": {},
   "outputs": [],
   "source": [
    "git help init"
   ]
  },
  {
   "cell_type": "markdown",
   "id": "5139b9d4",
   "metadata": {
    "slideshow": {
     "slide_type": "subslide"
    }
   },
   "source": [
    "## `git status`: Show the state of the working tree\n",
    "\n",
    "`git status` shows the state of tracked files, untracked files, and the database. Right now, the working tree is empty, and the database is empty, so there is not much to report.  \n",
    "\n",
    "We already have a **branch** called `main`, which was created when the repo was initialized.  We will cover branches in detail soon.  For now, you can think of them like branches of a family tree that describe your project's history.  "
   ]
  },
  {
   "cell_type": "code",
   "execution_count": 5,
   "id": "b80037e2",
   "metadata": {
    "scrolled": true
   },
   "outputs": [
    {
     "name": "stdout",
     "output_type": "stream",
     "text": [
      "On branch main\n",
      "\n",
      "No commits yet\n",
      "\n",
      "nothing to commit (create/copy files and use \"git add\" to track)\n"
     ]
    }
   ],
   "source": [
    "git status"
   ]
  },
  {
   "cell_type": "markdown",
   "id": "d69a957b",
   "metadata": {
    "slideshow": {
     "slide_type": "subslide"
    }
   },
   "source": [
    "## Creating new files\n",
    "\n",
    "To create and edit files in your working tree, you can use any text editor.  In `~/git_workflow`, let's create two files.\n",
    "\n",
    "First, create a file named `README.md` file with these contents.  You might notice a mistake; don't correct it right now! :)"
   ]
  },
  {
   "cell_type": "markdown",
   "id": "95fac4ed",
   "metadata": {
    "slideshow": {
     "slide_type": "-"
    }
   },
   "source": [
    "``` text\n",
    "# Git Workflow\n",
    "\n",
    "This is an example repo for the GT OSPO VSIP Spring 2024 Program.  \n",
    "```"
   ]
  },
  {
   "cell_type": "markdown",
   "id": "9687a29f",
   "metadata": {
    "slideshow": {
     "slide_type": "-"
    }
   },
   "source": [
    "Then, let's create a Python source file named `my_abs.py` with these contents. We will be making changes to `my_abs.py` throughout this demo.  "
   ]
  },
  {
   "cell_type": "markdown",
   "id": "501744b5",
   "metadata": {},
   "source": [
    "``` python\n",
    "def my_abs(x):\n",
    "    if x < 0:\n",
    "        return -x\n",
    "    else:\n",
    "        return x\n",
    "```"
   ]
  },
  {
   "cell_type": "markdown",
   "id": "9ac355dd",
   "metadata": {},
   "source": [
    "## Untracked files\n",
    "\n",
    "When we look at at `git status`, we see that the new files are **untracked**.  Recall that untracked files are not recorded in repo's database.  Git does not autmatically track new files, and the user must be very intentional about what to track."
   ]
  },
  {
   "cell_type": "code",
   "execution_count": 5,
   "id": "872926e6",
   "metadata": {
    "scrolled": false
   },
   "outputs": [
    {
     "name": "stdout",
     "output_type": "stream",
     "text": [
      "On branch main\n",
      "\n",
      "No commits yet\n",
      "\n",
      "Untracked files:\n",
      "  (use \"git add <file>...\" to include in what will be committed)\n",
      "\t\u001b[31mREADME.md\u001b[m\n",
      "\t\u001b[31mmy_abs.py\u001b[m\n",
      "\n",
      "nothing added to commit but untracked files present (use \"git add\" to track)\n"
     ]
    }
   ],
   "source": [
    "git status"
   ]
  },
  {
   "cell_type": "markdown",
   "id": "89702ef6",
   "metadata": {},
   "source": [
    "## The state of files in a working tree\n",
    "\n",
    "To understand how to record changes to our new files, let's describe possible **states** of files in your working tree.  \n",
    "\n",
    "Files in the working tree are either tracked or untracked:\n",
    "\n",
    "* **Untracked**: No versions of the file are stored in the repo's database\n",
    "* **Tracked**:  One or more versions of the file are in the database\n",
    "\n",
    "Additionally, changes in tracked files are always in one of three states:\n",
    "\n",
    "* **Unmodified**:  The file in the working is tree are up-to-date with the database.  Git sometimes refers to these changes as \"up-to-date\".  \n",
    "* **Modfied**:  The file has changes that have not yet been stored in the database.  Furthermore, the user hasn't specified that these changes will be stored in the next database update.  \n",
    "* **Staged**: The file's changes that will be stored in the next database update.  Git sometimes refers to these as \"to be committed\".  \n",
    "\n",
    "\n",
    "<img src=\"img/lifecycle.png\" width=\"800\" />\n",
    "\n",
    "\n",
    "(Image credit:  Scott Chacon and Ben Straub.  Pro Git, [Section 2.2](https://git-scm.com/book/en/v2/Git-Basics-Recording-Changes-to-the-Repository))"
   ]
  },
  {
   "cell_type": "markdown",
   "id": "2b8e6717",
   "metadata": {},
   "source": [
    "## `git add`: Stage new changes\n",
    "\n",
    "\n",
    "\n",
    "In our working copy of `git_workflow`, we have two untracked files: `README.md` and `my_abs.py`.  To record their changes, we need two steps (as shown in the [diagram above](#The-state-of-files-in-a-working-tree)):\n",
    "\n",
    "1. **Add the files:**  This changes their state from \"Untracked\" to \"Staged\".  At this point, the changes are *ready* to be stored in the database but *are not yet stored*.  \n",
    "2. **Commit**:  This changes their state from \"Staged\" to \"Unmodified\".  At this point, the changes have actually been stored in the database.\n",
    "\n",
    "To accomplish Step 1 (Untracked to Staged), we use `git add`.  Its usage is:\n",
    "\n",
    "```\n",
    "git add <file1> [<file2> ...]\n",
    "```"
   ]
  },
  {
   "cell_type": "code",
   "execution_count": 7,
   "id": "859b6869",
   "metadata": {},
   "outputs": [],
   "source": [
    "git add README.md my_abs.py"
   ]
  },
  {
   "cell_type": "markdown",
   "id": "ff64cf5f",
   "metadata": {},
   "source": [
    "Now when we run `git status`, we can see that the files' changes are \"to be committed\", meaning that they are staged for the next database update."
   ]
  },
  {
   "cell_type": "code",
   "execution_count": 8,
   "id": "090c4e57",
   "metadata": {},
   "outputs": [
    {
     "name": "stdout",
     "output_type": "stream",
     "text": [
      "On branch main\n",
      "\n",
      "No commits yet\n",
      "\n",
      "Changes to be committed:\n",
      "  (use \"git rm --cached <file>...\" to unstage)\n",
      "\t\u001b[32mnew file:   README.md\u001b[m\n",
      "\t\u001b[32mnew file:   my_abs.py\u001b[m\n",
      "\n"
     ]
    }
   ],
   "source": [
    "git status"
   ]
  },
  {
   "cell_type": "markdown",
   "id": "0c333292",
   "metadata": {},
   "source": [
    "## Modifying as staged file\n",
    "\n",
    "What happens when you've staged a file, but before you commit it, you realize you need to fix something?  \n",
    "\n",
    "For example, in `README.md`, we made a typo.  We wrote \"Spring 2024\" instead of \"Summer 2024\".  We'll go ahead and correct that change with our text editor, and then look at the `git status`:"
   ]
  },
  {
   "cell_type": "code",
   "execution_count": 9,
   "id": "b756cc40",
   "metadata": {},
   "outputs": [
    {
     "name": "stdout",
     "output_type": "stream",
     "text": [
      "On branch main\n",
      "\n",
      "No commits yet\n",
      "\n",
      "Changes to be committed:\n",
      "  (use \"git rm --cached <file>...\" to unstage)\n",
      "\t\u001b[32mnew file:   README.md\u001b[m\n",
      "\t\u001b[32mnew file:   my_abs.py\u001b[m\n",
      "\n",
      "Changes not staged for commit:\n",
      "  (use \"git add <file>...\" to update what will be committed)\n",
      "  (use \"git restore <file>...\" to discard changes in working directory)\n",
      "\t\u001b[31mmodified:   README.md\u001b[m\n",
      "\n"
     ]
    }
   ],
   "source": [
    "git status"
   ]
  },
  {
   "cell_type": "markdown",
   "id": "2c9da184",
   "metadata": {},
   "source": [
    "Git tells us:\n",
    "* `README.md` and `my_abs.py` have changes that are staged (\"to be committed\")\n",
    "* `README.md` also has changes that are not staged\n",
    "\n",
    "How can one file have both staged and unstaged changes?  The reason is that `git add` stages the state of the file **at the exact moment** you run `git add`.  So if you run `git add`, and make additional changes (like changing \"Spring\" to \"Summer\"), then those additional changes are not automatically staged.  "
   ]
  },
  {
   "cell_type": "markdown",
   "id": "a37ddf49",
   "metadata": {},
   "source": [
    "## Staging new content (again)\n",
    "\n",
    "To fix this, we'll run `git add` again to stage the new changes (\"Spring\" to \"Summer\").  You can see that Git suggests this, too, when it says: 'use \"git add <file>...\" to update what will be committed'"
   ]
  },
  {
   "cell_type": "code",
   "execution_count": 10,
   "id": "5828a35b",
   "metadata": {},
   "outputs": [],
   "source": [
    "git add README.md"
   ]
  },
  {
   "cell_type": "markdown",
   "id": "726333c6",
   "metadata": {},
   "source": [
    "Now we see that all the changes in `README.md` have been staged, since there are no \"Changes not staged for commit\" anymore.  "
   ]
  },
  {
   "cell_type": "code",
   "execution_count": 11,
   "id": "466532d7",
   "metadata": {},
   "outputs": [
    {
     "name": "stdout",
     "output_type": "stream",
     "text": [
      "On branch main\n",
      "\n",
      "No commits yet\n",
      "\n",
      "Changes to be committed:\n",
      "  (use \"git rm --cached <file>...\" to unstage)\n",
      "\t\u001b[32mnew file:   README.md\u001b[m\n",
      "\t\u001b[32mnew file:   my_abs.py\u001b[m\n",
      "\n"
     ]
    }
   ],
   "source": [
    "git status"
   ]
  },
  {
   "cell_type": "markdown",
   "id": "3353da43",
   "metadata": {},
   "source": [
    "## `git commit`: Updating the database\n",
    "\n",
    "Finally, we will use `git commit` to record staged changes to the database.  \n",
    "\n",
    "You can use the `-m` option to specify a **commit message** on the command line.  This is a short message that lets other humans know what changes you've made.  Many projects have conventions about what info should go into a commit message.  Ask your project manager for details.  \n",
    "\n",
    "(If you do not use `-m`, a text editor will pop up and prompt you to enter a message.  This is often less convenient than using `-m`)"
   ]
  },
  {
   "cell_type": "code",
   "execution_count": 12,
   "id": "056a8e5f",
   "metadata": {},
   "outputs": [
    {
     "name": "stdout",
     "output_type": "stream",
     "text": [
      "[main (root-commit) d8b803d] First commit of my_abs (no try/except yet)\n",
      " 2 files changed, 8 insertions(+)\n",
      " create mode 100644 README.md\n",
      " create mode 100644 my_abs.py\n"
     ]
    }
   ],
   "source": [
    "git commit -m \"First commit of my_abs (no try/except yet)\""
   ]
  },
  {
   "cell_type": "markdown",
   "id": "9edf34d9",
   "metadata": {},
   "source": [
    "## `git log`:  Showing the repo's history\n",
    "\n",
    "Now that we actually have information in our repo's database, we can use `git log` to show the history.  `git log` has many options to show more or less information about the history."
   ]
  },
  {
   "cell_type": "code",
   "execution_count": 13,
   "id": "a9de7a78",
   "metadata": {},
   "outputs": [
    {
     "name": "stdout",
     "output_type": "stream",
     "text": [
      "\u001b[33mcommit d8b803d9c647a9c4c981ba400c4f802074aa9724\u001b[m\u001b[33m (\u001b[m\u001b[1;36mHEAD -> \u001b[m\u001b[1;32mmain\u001b[m\u001b[33m)\u001b[m\n",
      "Author: Ron Rahaman <ron.rahaman@outlook.com>\n",
      "Date:   Fri Apr 26 12:10:26 2024 -0500\n",
      "\n",
      "    First commit of my_abs (no try/except yet)\n"
     ]
    }
   ],
   "source": [
    "git log"
   ]
  },
  {
   "cell_type": "markdown",
   "id": "42b77580",
   "metadata": {},
   "source": [
    "# Section 4.2: Working with Remotes"
   ]
  },
  {
   "cell_type": "code",
   "execution_count": 15,
   "id": "2bc4c813",
   "metadata": {},
   "outputs": [],
   "source": [
    "git remote add origin git@github.gatech.edu:rrahaman6/git_workflow.git"
   ]
  },
  {
   "cell_type": "code",
   "execution_count": 16,
   "id": "18949389",
   "metadata": {},
   "outputs": [
    {
     "name": "stdout",
     "output_type": "stream",
     "text": [
      "origin\tgit@github.gatech.edu:rrahaman6/git_workflow.git (fetch)\n",
      "origin\tgit@github.gatech.edu:rrahaman6/git_workflow.git (push)\n"
     ]
    }
   ],
   "source": [
    "git remote -v"
   ]
  },
  {
   "cell_type": "code",
   "execution_count": 17,
   "id": "16dcaa55",
   "metadata": {},
   "outputs": [
    {
     "name": "stdout",
     "output_type": "stream",
     "text": [
      "Enumerating objects: 4, done.\n",
      "Counting objects: 100% (4/4), done.\n",
      "Delta compression using up to 12 threads\n",
      "Compressing objects: 100% (4/4), done.\n",
      "Writing objects: 100% (4/4), 409 bytes | 409.00 KiB/s, done.\n",
      "Total 4 (delta 0), reused 0 (delta 0), pack-reused 0\n",
      "To github.gatech.edu:rrahaman6/git_workflow.git\n",
      " * [new branch]      main -> main\n",
      "Branch 'main' set up to track remote branch 'main' from 'origin'.\n"
     ]
    }
   ],
   "source": [
    "git push -u origin main"
   ]
  },
  {
   "cell_type": "markdown",
   "id": "361f94b1",
   "metadata": {},
   "source": [
    "# Section 4.4: Adding more changes"
   ]
  },
  {
   "cell_type": "markdown",
   "id": "ce0babf9",
   "metadata": {},
   "source": [
    "## Modifying an unmodified file\n",
    "\n",
    "Copy/paste this into my_abs.py\n",
    "\n",
    "\n",
    "``` python\n",
    "import math\n",
    "\n",
    "def my_abs(x):\n",
    "    try:\n",
    "        if x < 0:\n",
    "            return -x\n",
    "        else:\n",
    "            return x\n",
    "    except TypeError:\n",
    "        return math.nan\n",
    "```"
   ]
  },
  {
   "cell_type": "code",
   "execution_count": 18,
   "id": "f934ebba",
   "metadata": {},
   "outputs": [
    {
     "name": "stdout",
     "output_type": "stream",
     "text": [
      "\u001b[1mdiff --git a/my_abs.py b/my_abs.py\u001b[m\n",
      "\u001b[1mindex 9946665..89857d3 100644\u001b[m\n",
      "\u001b[1m--- a/my_abs.py\u001b[m\n",
      "\u001b[1m+++ b/my_abs.py\u001b[m\n",
      "\u001b[36m@@ -1,5 +1,10 @@\u001b[m\n",
      "\u001b[32m+\u001b[m\u001b[32mimport math\u001b[m\n",
      "\u001b[32m+\u001b[m\n",
      " def my_abs(x):\u001b[m\n",
      "\u001b[31m-    if x < 0:\u001b[m\n",
      "\u001b[31m-        return -x\u001b[m\n",
      "\u001b[31m-    else:\u001b[m\n",
      "\u001b[31m-        return x\u001b[m\n",
      "\u001b[32m+\u001b[m\u001b[32m    try:\u001b[m\n",
      "\u001b[32m+\u001b[m\u001b[32m        if x < 0:\u001b[m\n",
      "\u001b[32m+\u001b[m\u001b[32m            return -x\u001b[m\n",
      "\u001b[32m+\u001b[m\u001b[32m        else:\u001b[m\n",
      "\u001b[32m+\u001b[m\u001b[32m            return x\u001b[m\n",
      "\u001b[32m+\u001b[m\u001b[32m    except TypeError:\u001b[m\n",
      "\u001b[32m+\u001b[m\u001b[32m        return math.nan\u001b[m\n"
     ]
    }
   ],
   "source": [
    "git diff"
   ]
  },
  {
   "cell_type": "code",
   "execution_count": 19,
   "id": "e748b00c",
   "metadata": {},
   "outputs": [
    {
     "name": "stdout",
     "output_type": "stream",
     "text": [
      "On branch main\n",
      "Your branch is up to date with 'origin/main'.\n",
      "\n",
      "Changes not staged for commit:\n",
      "  (use \"git add <file>...\" to update what will be committed)\n",
      "  (use \"git restore <file>...\" to discard changes in working directory)\n",
      "\t\u001b[31mmodified:   my_abs.py\u001b[m\n",
      "\n",
      "no changes added to commit (use \"git add\" and/or \"git commit -a\")\n"
     ]
    }
   ],
   "source": [
    "git status"
   ]
  },
  {
   "cell_type": "code",
   "execution_count": 20,
   "id": "7ee60091",
   "metadata": {},
   "outputs": [
    {
     "name": "stdout",
     "output_type": "stream",
     "text": [
      "[main 57e0d0c] Added try/except\n",
      " 1 file changed, 9 insertions(+), 4 deletions(-)\n"
     ]
    }
   ],
   "source": [
    "git commit -am \"Added try/except\""
   ]
  },
  {
   "cell_type": "code",
   "execution_count": 22,
   "id": "03b68f5d",
   "metadata": {},
   "outputs": [
    {
     "name": "stdout",
     "output_type": "stream",
     "text": [
      "* \u001b[33m57e0d0c\u001b[m\u001b[33m (\u001b[m\u001b[1;36mHEAD -> \u001b[m\u001b[1;32mmain\u001b[m\u001b[33m)\u001b[m Added try/except\n",
      "* \u001b[33md8b803d\u001b[m\u001b[33m (\u001b[m\u001b[1;31morigin/main\u001b[m\u001b[33m)\u001b[m First commit of my_abs (no try/except yet)\n"
     ]
    }
   ],
   "source": [
    "git log --oneline --graph --branches --remotes "
   ]
  },
  {
   "cell_type": "code",
   "execution_count": 23,
   "id": "a780c175",
   "metadata": {},
   "outputs": [
    {
     "name": "stdout",
     "output_type": "stream",
     "text": [
      "Enumerating objects: 5, done.\n",
      "Counting objects: 100% (5/5), done.\n",
      "Delta compression using up to 12 threads\n",
      "Compressing objects: 100% (3/3), done.\n",
      "Writing objects: 100% (3/3), 379 bytes | 379.00 KiB/s, done.\n",
      "Total 3 (delta 0), reused 0 (delta 0), pack-reused 0\n",
      "To github.gatech.edu:rrahaman6/git_workflow.git\n",
      "   d8b803d..57e0d0c  main -> main\n"
     ]
    }
   ],
   "source": [
    "git push"
   ]
  },
  {
   "cell_type": "markdown",
   "id": "ab02d745",
   "metadata": {},
   "source": [
    "# Section 6: Branches"
   ]
  },
  {
   "cell_type": "markdown",
   "id": "928ce8e5",
   "metadata": {},
   "source": [
    "## Checking out a commit"
   ]
  },
  {
   "cell_type": "code",
   "execution_count": 24,
   "id": "06f0a17c",
   "metadata": {},
   "outputs": [
    {
     "name": "stdout",
     "output_type": "stream",
     "text": [
      "Note: switching to 'd8b803d'.\n",
      "\n",
      "You are in 'detached HEAD' state. You can look around, make experimental\n",
      "changes and commit them, and you can discard any commits you make in this\n",
      "state without impacting any branches by switching back to a branch.\n",
      "\n",
      "If you want to create a new branch to retain commits you create, you may\n",
      "do so (now or later) by using -c with the switch command. Example:\n",
      "\n",
      "  git switch -c <new-branch-name>\n",
      "\n",
      "Or undo this operation with:\n",
      "\n",
      "  git switch -\n",
      "\n",
      "Turn off this advice by setting config variable advice.detachedHead to false\n",
      "\n",
      "HEAD is now at d8b803d First commit of my_abs (no try/except yet)\n"
     ]
    }
   ],
   "source": [
    "git checkout d8b803d"
   ]
  },
  {
   "cell_type": "code",
   "execution_count": 25,
   "id": "d58aeba8",
   "metadata": {},
   "outputs": [
    {
     "name": "stdout",
     "output_type": "stream",
     "text": [
      "* \u001b[33m57e0d0c\u001b[m\u001b[33m (\u001b[m\u001b[1;31morigin/main\u001b[m\u001b[33m, \u001b[m\u001b[1;32mmain\u001b[m\u001b[33m)\u001b[m Added try/except\n",
      "* \u001b[33md8b803d\u001b[m\u001b[33m (\u001b[m\u001b[1;36mHEAD\u001b[m\u001b[33m)\u001b[m First commit of my_abs (no try/except yet)\n"
     ]
    }
   ],
   "source": [
    "git log --oneline --graph --branches --remotes "
   ]
  },
  {
   "cell_type": "code",
   "execution_count": 26,
   "id": "5fc0b17d",
   "metadata": {},
   "outputs": [
    {
     "name": "stdout",
     "output_type": "stream",
     "text": [
      "def my_abs(x):\n",
      "    if x < 0:\n",
      "        return -x\n",
      "    else:\n",
      "        return x\n"
     ]
    }
   ],
   "source": [
    "cat my_abs.py"
   ]
  },
  {
   "cell_type": "markdown",
   "id": "5dab8c42",
   "metadata": {},
   "source": [
    "## Checking out a branch"
   ]
  },
  {
   "cell_type": "code",
   "execution_count": 27,
   "id": "948b9057",
   "metadata": {},
   "outputs": [
    {
     "name": "stdout",
     "output_type": "stream",
     "text": [
      "Previous HEAD position was d8b803d First commit of my_abs (no try/except yet)\n",
      "Switched to branch 'main'\n",
      "Your branch is up to date with 'origin/main'.\n"
     ]
    }
   ],
   "source": [
    "git checkout main"
   ]
  },
  {
   "cell_type": "code",
   "execution_count": 28,
   "id": "8d1457ac",
   "metadata": {},
   "outputs": [
    {
     "name": "stdout",
     "output_type": "stream",
     "text": [
      "* \u001b[33m57e0d0c\u001b[m\u001b[33m (\u001b[m\u001b[1;36mHEAD -> \u001b[m\u001b[1;32mmain\u001b[m\u001b[33m, \u001b[m\u001b[1;31morigin/main\u001b[m\u001b[33m)\u001b[m Added try/except\n",
      "* \u001b[33md8b803d\u001b[m First commit of my_abs (no try/except yet)\n"
     ]
    }
   ],
   "source": [
    "git log --oneline --graph --branches --remotes "
   ]
  },
  {
   "cell_type": "code",
   "execution_count": 29,
   "id": "ba62a4ef",
   "metadata": {},
   "outputs": [
    {
     "name": "stdout",
     "output_type": "stream",
     "text": [
      "import math\n",
      "\n",
      "def my_abs(x):\n",
      "    try:\n",
      "        if x < 0:\n",
      "            return -x\n",
      "        else:\n",
      "            return x\n",
      "    except TypeError:\n",
      "        return math.nan\n"
     ]
    }
   ],
   "source": [
    "cat my_abs.py"
   ]
  },
  {
   "cell_type": "markdown",
   "id": "ff116d0a",
   "metadata": {},
   "source": [
    "## Creating a topic branch"
   ]
  },
  {
   "cell_type": "code",
   "execution_count": 30,
   "id": "a5d7d48d",
   "metadata": {},
   "outputs": [
    {
     "name": "stdout",
     "output_type": "stream",
     "text": [
      "Switched to a new branch 'types'\n"
     ]
    }
   ],
   "source": [
    "git checkout -b types"
   ]
  },
  {
   "cell_type": "code",
   "execution_count": 31,
   "id": "63cd1fc4",
   "metadata": {},
   "outputs": [
    {
     "name": "stdout",
     "output_type": "stream",
     "text": [
      "* \u001b[33m57e0d0c\u001b[m\u001b[33m (\u001b[m\u001b[1;36mHEAD -> \u001b[m\u001b[1;32mtypes\u001b[m\u001b[33m, \u001b[m\u001b[1;31morigin/main\u001b[m\u001b[33m, \u001b[m\u001b[1;32mmain\u001b[m\u001b[33m)\u001b[m Added try/except\n",
      "* \u001b[33md8b803d\u001b[m First commit of my_abs (no try/except yet)\n"
     ]
    }
   ],
   "source": [
    "git log --oneline --graph --branches --remotes "
   ]
  },
  {
   "cell_type": "markdown",
   "id": "1dd250f5",
   "metadata": {},
   "source": [
    "Copy this to `my_abs.py`\n",
    "\n",
    "``` python\n",
    "import math\n",
    "import numbers\n",
    "\n",
    "def my_abs(x):\n",
    "    if isinstance(x, numbers.Real):\n",
    "        if x < 0:\n",
    "            return -x\n",
    "        else:\n",
    "            return x\n",
    "    elif isinstance(x, numbers.Complex):\n",
    "        return math.sqrt(\n",
    "            x.real ** 2 + x.imag ** 2)\n",
    "    else:\n",
    "        return math.nan\n",
    "```"
   ]
  },
  {
   "cell_type": "code",
   "execution_count": 32,
   "id": "59406121",
   "metadata": {},
   "outputs": [
    {
     "name": "stdout",
     "output_type": "stream",
     "text": [
      "\u001b[1mdiff --git a/my_abs.py b/my_abs.py\u001b[m\n",
      "\u001b[1mindex 89857d3..8f24e5a 100644\u001b[m\n",
      "\u001b[1m--- a/my_abs.py\u001b[m\n",
      "\u001b[1m+++ b/my_abs.py\u001b[m\n",
      "\u001b[36m@@ -1,10 +1,14 @@\u001b[m\n",
      " import math\u001b[m\n",
      "\u001b[32m+\u001b[m\u001b[32mimport numbers\u001b[m\n",
      " \u001b[m\n",
      " def my_abs(x):\u001b[m\n",
      "\u001b[31m-    try:\u001b[m\n",
      "\u001b[32m+\u001b[m\u001b[32m    if isinstance(x, numbers.Real):\u001b[m\n",
      "         if x < 0:\u001b[m\n",
      "             return -x\u001b[m\n",
      "         else:\u001b[m\n",
      "             return x\u001b[m\n",
      "\u001b[31m-    except TypeError:\u001b[m\n",
      "\u001b[32m+\u001b[m\u001b[32m    elif isinstance(x, numbers.Complex):\u001b[m\n",
      "\u001b[32m+\u001b[m\u001b[32m        return math.sqrt(\u001b[m\n",
      "\u001b[32m+\u001b[m\u001b[32m            x.real ** 2 + x.imag ** 2)\u001b[m\n",
      "\u001b[32m+\u001b[m\u001b[32m    else:\u001b[m\n",
      "         return math.nan\u001b[m\n"
     ]
    }
   ],
   "source": [
    "git diff"
   ]
  },
  {
   "cell_type": "code",
   "execution_count": 33,
   "id": "4675de8e",
   "metadata": {},
   "outputs": [
    {
     "name": "stdout",
     "output_type": "stream",
     "text": [
      "[types 759be88] Using type checks\n",
      " 1 file changed, 6 insertions(+), 2 deletions(-)\n"
     ]
    }
   ],
   "source": [
    "git commit -am \"Using type checks\""
   ]
  },
  {
   "cell_type": "code",
   "execution_count": 34,
   "id": "38710e6a",
   "metadata": {},
   "outputs": [
    {
     "name": "stdout",
     "output_type": "stream",
     "text": [
      "* \u001b[33m759be88\u001b[m\u001b[33m (\u001b[m\u001b[1;36mHEAD -> \u001b[m\u001b[1;32mtypes\u001b[m\u001b[33m)\u001b[m Using type checks\n",
      "* \u001b[33m57e0d0c\u001b[m\u001b[33m (\u001b[m\u001b[1;31morigin/main\u001b[m\u001b[33m, \u001b[m\u001b[1;32mmain\u001b[m\u001b[33m)\u001b[m Added try/except\n",
      "* \u001b[33md8b803d\u001b[m First commit of my_abs (no try/except yet)\n"
     ]
    }
   ],
   "source": [
    "git log --oneline --graph --branches --remotes "
   ]
  },
  {
   "cell_type": "markdown",
   "id": "f8b265af",
   "metadata": {},
   "source": [
    "## Making another topic branch"
   ]
  },
  {
   "cell_type": "code",
   "execution_count": 35,
   "id": "52a4bd22",
   "metadata": {},
   "outputs": [
    {
     "name": "stdout",
     "output_type": "stream",
     "text": [
      "Switched to branch 'main'\n",
      "Your branch is up to date with 'origin/main'.\n"
     ]
    }
   ],
   "source": [
    "git checkout main"
   ]
  },
  {
   "cell_type": "code",
   "execution_count": 36,
   "id": "e699f4fb",
   "metadata": {},
   "outputs": [
    {
     "name": "stdout",
     "output_type": "stream",
     "text": [
      "Switched to a new branch 'almost-eq'\n"
     ]
    }
   ],
   "source": [
    "git checkout -b almost-eq"
   ]
  },
  {
   "cell_type": "markdown",
   "id": "238ad726",
   "metadata": {},
   "source": [
    "Copy this to `my_abs.py`\n",
    "\n",
    "``` python\n",
    "import math\n",
    "\n",
    "def my_abs(x):\n",
    "    try:\n",
    "        if x < 0:\n",
    "            return -x\n",
    "        else:\n",
    "            return x\n",
    "    except TypeError:\n",
    "        return math.nan\n",
    "\n",
    "def my_almost_eq(x, y):\n",
    "    return my_abs(x - y) < 1e-16\n",
    "```"
   ]
  },
  {
   "cell_type": "code",
   "execution_count": 37,
   "id": "5eb75914",
   "metadata": {},
   "outputs": [
    {
     "name": "stdout",
     "output_type": "stream",
     "text": [
      "\u001b[1mdiff --git a/my_abs.py b/my_abs.py\u001b[m\n",
      "\u001b[1mindex 89857d3..33c40f9 100644\u001b[m\n",
      "\u001b[1m--- a/my_abs.py\u001b[m\n",
      "\u001b[1m+++ b/my_abs.py\u001b[m\n",
      "\u001b[36m@@ -8,3 +8,6 @@\u001b[m \u001b[mdef my_abs(x):\u001b[m\n",
      "             return x\u001b[m\n",
      "     except TypeError:\u001b[m\n",
      "         return math.nan\u001b[m\n",
      "\u001b[32m+\u001b[m\n",
      "\u001b[32m+\u001b[m\u001b[32mdef my_almost_eq(x, y):\u001b[m\n",
      "\u001b[32m+\u001b[m\u001b[32m    return my_abs(x - y) < 1e-16\u001b[m\n"
     ]
    }
   ],
   "source": [
    "git diff"
   ]
  },
  {
   "cell_type": "code",
   "execution_count": 38,
   "id": "11c9d176",
   "metadata": {},
   "outputs": [
    {
     "name": "stdout",
     "output_type": "stream",
     "text": [
      "[almost-eq 2d7cc73] Added my_almost_eq\n",
      " 1 file changed, 3 insertions(+)\n"
     ]
    }
   ],
   "source": [
    "git commit -am \"Added my_almost_eq\""
   ]
  },
  {
   "cell_type": "code",
   "execution_count": 39,
   "id": "8b3c995f",
   "metadata": {},
   "outputs": [
    {
     "name": "stdout",
     "output_type": "stream",
     "text": [
      "* \u001b[33m2d7cc73\u001b[m\u001b[33m (\u001b[m\u001b[1;36mHEAD -> \u001b[m\u001b[1;32malmost-eq\u001b[m\u001b[33m)\u001b[m Added my_almost_eq\n",
      "\u001b[31m|\u001b[m * \u001b[33m759be88\u001b[m\u001b[33m (\u001b[m\u001b[1;32mtypes\u001b[m\u001b[33m)\u001b[m Using type checks\n",
      "\u001b[31m|\u001b[m\u001b[31m/\u001b[m  \n",
      "* \u001b[33m57e0d0c\u001b[m\u001b[33m (\u001b[m\u001b[1;31morigin/main\u001b[m\u001b[33m, \u001b[m\u001b[1;32mmain\u001b[m\u001b[33m)\u001b[m Added try/except\n",
      "* \u001b[33md8b803d\u001b[m First commit of my_abs (no try/except yet)\n"
     ]
    }
   ],
   "source": [
    "git log --oneline --graph --branches --remotes "
   ]
  },
  {
   "cell_type": "markdown",
   "id": "d691b56e",
   "metadata": {},
   "source": [
    "## `git merge`: A fast-forward merge"
   ]
  },
  {
   "cell_type": "code",
   "execution_count": 40,
   "id": "4aaea794",
   "metadata": {},
   "outputs": [
    {
     "name": "stdout",
     "output_type": "stream",
     "text": [
      "Switched to branch 'main'\n",
      "Your branch is up to date with 'origin/main'.\n"
     ]
    }
   ],
   "source": [
    "git checkout main"
   ]
  },
  {
   "cell_type": "code",
   "execution_count": 41,
   "id": "a04025a4",
   "metadata": {},
   "outputs": [
    {
     "name": "stdout",
     "output_type": "stream",
     "text": [
      "* \u001b[33m2d7cc73\u001b[m\u001b[33m (\u001b[m\u001b[1;32malmost-eq\u001b[m\u001b[33m)\u001b[m Added my_almost_eq\n",
      "\u001b[31m|\u001b[m * \u001b[33m759be88\u001b[m\u001b[33m (\u001b[m\u001b[1;32mtypes\u001b[m\u001b[33m)\u001b[m Using type checks\n",
      "\u001b[31m|\u001b[m\u001b[31m/\u001b[m  \n",
      "* \u001b[33m57e0d0c\u001b[m\u001b[33m (\u001b[m\u001b[1;36mHEAD -> \u001b[m\u001b[1;32mmain\u001b[m\u001b[33m, \u001b[m\u001b[1;31morigin/main\u001b[m\u001b[33m)\u001b[m Added try/except\n",
      "* \u001b[33md8b803d\u001b[m First commit of my_abs (no try/except yet)\n"
     ]
    }
   ],
   "source": [
    "git log --oneline --graph --branches --remotes "
   ]
  },
  {
   "cell_type": "code",
   "execution_count": 42,
   "id": "905910d5",
   "metadata": {},
   "outputs": [
    {
     "name": "stdout",
     "output_type": "stream",
     "text": [
      "Updating 57e0d0c..759be88\n",
      "Fast-forward\n",
      " my_abs.py | 8 \u001b[32m++++++\u001b[m\u001b[31m--\u001b[m\n",
      " 1 file changed, 6 insertions(+), 2 deletions(-)\n"
     ]
    }
   ],
   "source": [
    "git merge types"
   ]
  },
  {
   "cell_type": "code",
   "execution_count": 43,
   "id": "82ab3e68",
   "metadata": {},
   "outputs": [
    {
     "name": "stdout",
     "output_type": "stream",
     "text": [
      "* \u001b[33m2d7cc73\u001b[m\u001b[33m (\u001b[m\u001b[1;32malmost-eq\u001b[m\u001b[33m)\u001b[m Added my_almost_eq\n",
      "\u001b[31m|\u001b[m * \u001b[33m759be88\u001b[m\u001b[33m (\u001b[m\u001b[1;36mHEAD -> \u001b[m\u001b[1;32mmain\u001b[m\u001b[33m, \u001b[m\u001b[1;32mtypes\u001b[m\u001b[33m)\u001b[m Using type checks\n",
      "\u001b[31m|\u001b[m\u001b[31m/\u001b[m  \n",
      "* \u001b[33m57e0d0c\u001b[m\u001b[33m (\u001b[m\u001b[1;31morigin/main\u001b[m\u001b[33m)\u001b[m Added try/except\n",
      "* \u001b[33md8b803d\u001b[m First commit of my_abs (no try/except yet)\n"
     ]
    }
   ],
   "source": [
    "git log --oneline --graph --branches --remotes "
   ]
  },
  {
   "cell_type": "markdown",
   "id": "816cab49",
   "metadata": {},
   "source": [
    "## `git merge`:  A merge commit"
   ]
  },
  {
   "cell_type": "code",
   "execution_count": null,
   "id": "b65c7904",
   "metadata": {},
   "outputs": [],
   "source": [
    "git log"
   ]
  },
  {
   "cell_type": "code",
   "execution_count": null,
   "id": "444b4f5e",
   "metadata": {},
   "outputs": [],
   "source": [
    "git log --oneline --graph --branches --remotes "
   ]
  },
  {
   "cell_type": "code",
   "execution_count": null,
   "id": "161c3283",
   "metadata": {},
   "outputs": [],
   "source": []
  }
 ],
 "metadata": {
  "celltoolbar": "Slideshow",
  "kernelspec": {
   "display_name": "Bash",
   "language": "bash",
   "name": "bash"
  },
  "language_info": {
   "codemirror_mode": "shell",
   "file_extension": ".sh",
   "mimetype": "text/x-sh",
   "name": "bash"
  }
 },
 "nbformat": 4,
 "nbformat_minor": 5
}
