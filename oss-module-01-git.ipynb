{
 "cells": [
  {
   "cell_type": "markdown",
   "id": "abd7c74f",
   "metadata": {
    "slideshow": {
     "slide_type": "subslide"
    }
   },
   "source": [
    "To use this notebook interactively, install the `bash_kernel` Python package with either:\n",
    "* `pip install bash_kernel`\n",
    "* `conda install -c conda-forge bash_kernel`"
   ]
  },
  {
   "cell_type": "markdown",
   "id": "3e3b7b24",
   "metadata": {
    "slideshow": {
     "slide_type": "slide"
    }
   },
   "source": [
    "# OSS Module 01 - Git Basics"
   ]
  },
  {
   "cell_type": "markdown",
   "id": "4f6cff3a-b7f7-46c6-92d9-d1173907b93d",
   "metadata": {},
   "source": [
    "# Contents\n",
    "- [1: What is version control?](#1:-What-is-version-control?)\n",
    "- [2: Git and GitHub Setup](#2:-Git-and-GitHub-setup)\n",
    "- [3: A Git project directory](#3:-A-Git-project-directory)\n",
    "- [4: A Git workflow from start to finish](#4:-A-Git-workflow-from-start-to-finish)\n",
    "  * [4.1 : Creating a repo and committing files](#4.1:-Creating-a-repo-and-committing-files)"
   ]
  },
  {
   "cell_type": "markdown",
   "id": "20ccabc9",
   "metadata": {
    "slideshow": {
     "slide_type": "slide"
    }
   },
   "source": [
    "# 1: What is version control?"
   ]
  },
  {
   "cell_type": "markdown",
   "id": "591b1a32",
   "metadata": {
    "slideshow": {
     "slide_type": "slide"
    }
   },
   "source": [
    "# Section 2: Git and GitHub setup"
   ]
  },
  {
   "cell_type": "markdown",
   "id": "85c3be63",
   "metadata": {
    "slideshow": {
     "slide_type": "slide"
    }
   },
   "source": [
    "# 3: A Git project directory"
   ]
  },
  {
   "attachments": {},
   "cell_type": "markdown",
   "id": "f92893e1",
   "metadata": {
    "slideshow": {
     "slide_type": "subslide"
    }
   },
   "source": [
    "## Parts of a Git Project Directory\n",
    "\n",
    "The contents of a Git repo are stored on your computer as normal files in a normal directory.  In Git terminology, these files are the **working tree**.  You can edit these files freely with your usual text editors and IDEs.  \n",
    "\n",
    "On your computer, changes to the files are stored in the **local repository** (or local **database**).  Soon, we will learn how to store (or **commit**) new versions of the files; and how to retrieve (or **checkout**) previous versions of the files.  \n",
    "\n",
    "A small project directory is shown below. \n",
    "* The database and metadata are stored in the hidden `.git/` directory.  You can treat this as a black box, and your only interaction with the database and metadata should be via `git` commands.\n",
    "* `my_program.py` and `README.md` are files you are actively working on.  You definitely want to record these in the local repo.\n",
    "* `__pycache__` contains intermediate bytecode from running your Python program.  You probably do *not* want to record these in the local repo...\n",
    "\n",
    "``` Console\n",
    "~/my_git_project$ ls -la\n",
    "total 95\n",
    "drwxr-xr-x  4 gburdell  staff   6 Jan 25 12:33 .\n",
    "drwx--x--x 43 gburdell  staff  97 Jan 25 12:33 ..\n",
    "drwxr-xr-x  7 gburdell  staff  10 Jan 25 12:33 .git\n",
    "-rw-r--r--  1 gburdell  staff  69 Jan 25 12:32 my_program.py\n",
    "drwxr-xr-x  2 gburdell  staff   3 Jan 25 12:33 __pycache__\n",
    "-rw-r--r--  1 gburdell  staff  51 Jan 25 12:33 README.md\n",
    "```"
   ]
  },
  {
   "cell_type": "markdown",
   "id": "e7702a13",
   "metadata": {
    "slideshow": {
     "slide_type": "subslide"
    }
   },
   "source": [
    "## Tracked vs. Untracked Files"
   ]
  },
  {
   "cell_type": "markdown",
   "id": "28ade16f",
   "metadata": {},
   "source": [
    "Git does not automatically add files from the working tree to the repo.  Instead, the user must explicitly specify which files are stored in the repo (**tracked**) and which are not (**untracked**).  It's important to consider which files to *not* track.  \n",
    "\n",
    "In a Python project, you should not track byte code (`*.pyc` and `*.pyo` in `__pycache__` directories) since they will be automatically regenerated whenever someone else runs it with a different operating system or Python version.  Tracking them will just take up unnecessary space in the database. \n",
    "\n",
    "For C/C++ and other compiled languages, you should not track build artifacts (`*.o` files, libraries, executables) for a simlar reason.  These artifacts will usually not work on a different operating system."
   ]
  },
  {
   "cell_type": "markdown",
   "id": "968cbaf4-5c6c-4f9b-887e-91a2b087e886",
   "metadata": {
    "slideshow": {
     "slide_type": "slide"
    }
   },
   "source": [
    "# 4: Working with a Git repo"
   ]
  },
  {
   "cell_type": "markdown",
   "id": "83f29ae7-5875-49d1-92c3-0e8d6d728ec2",
   "metadata": {},
   "source": [
    "In this section, we will create a local repo, add files, and work remote repo on GitHub"
   ]
  },
  {
   "cell_type": "markdown",
   "id": "25dee2c5",
   "metadata": {},
   "source": [
    "## 4.1: Creating a repo and committing files"
   ]
  },
  {
   "cell_type": "markdown",
   "id": "8cde607d",
   "metadata": {
    "slideshow": {
     "slide_type": "subslide"
    }
   },
   "source": [
    "### `git init`: Creating a local repo\n",
    "\n",
    "The `git init` command creates a local repo in the current directory.  Let's create a new directory, `~/git-workflow` and initialize a repo inside it.  \n",
    "\n",
    "(You can use a directory with a different name and location, if you like.)"
   ]
  },
  {
   "cell_type": "code",
   "execution_count": 3,
   "id": "aa02da5d",
   "metadata": {},
   "outputs": [
    {
     "name": "stdout",
     "output_type": "stream",
     "text": [
      "Initialized empty Git repository in /Users/gburdell/git-workflow/.git/\n"
     ]
    }
   ],
   "source": [
    "mkdir ~/git-workflow\n",
    "cd ~/git-workflow\n",
    "git init"
   ]
  },
  {
   "cell_type": "markdown",
   "id": "710266bc",
   "metadata": {},
   "source": [
    "You can see the `.git/` directory was created for the database and metadata.  "
   ]
  },
  {
   "cell_type": "code",
   "execution_count": 4,
   "id": "fed0e770",
   "metadata": {},
   "outputs": [
    {
     "name": "stdout",
     "output_type": "stream",
     "text": [
      "total 0\n",
      "drwxr-xr-x    3 gburdell  staff    96B May  7 20:36 \u001b[1m\u001b[36m.\u001b[39;49m\u001b[0m\n",
      "drwxr-xr-x+ 191 gburdell  staff   6.0K May  7 20:36 \u001b[1m\u001b[36m..\u001b[39;49m\u001b[0m\n",
      "drwxr-xr-x    9 gburdell  staff   288B May  7 20:36 \u001b[1m\u001b[36m.git\u001b[39;49m\u001b[0m\n"
     ]
    }
   ],
   "source": [
    "ls -lha"
   ]
  },
  {
   "cell_type": "markdown",
   "id": "5139b9d4",
   "metadata": {
    "slideshow": {
     "slide_type": "subslide"
    }
   },
   "source": [
    "### `git status`: Show the state of the working tree\n",
    "\n",
    "`git status` shows the state of tracked files, untracked files, and the database. Right now, the working tree is empty, and the database is empty, so there's not much to report.  \n",
    "\n",
    "We already have a **branch** called `main`, which was created when the repo was initialized.  We'll cover branches in detail soon.  For now, you can think of them like branches of a family tree that describe your project's history.  "
   ]
  },
  {
   "cell_type": "code",
   "execution_count": 5,
   "id": "b80037e2",
   "metadata": {},
   "outputs": [
    {
     "name": "stdout",
     "output_type": "stream",
     "text": [
      "On branch main\n",
      "\n",
      "No commits yet\n",
      "\n",
      "nothing to commit (create/copy files and use \"git add\" to track)\n"
     ]
    }
   ],
   "source": [
    "git status"
   ]
  },
  {
   "cell_type": "markdown",
   "id": "d69a957b",
   "metadata": {
    "slideshow": {
     "slide_type": "subslide"
    }
   },
   "source": [
    "### Creating new files\n",
    "\n",
    "To create and edit files in your working tree, you can use any text editor.  In `~/git_workflow`, let's create two files.\n",
    "\n",
    "* First, create a file named `README.md` file with these contents.  You might notice a mistake, but don't correct it right now! :)"
   ]
  },
  {
   "cell_type": "markdown",
   "id": "95fac4ed",
   "metadata": {
    "slideshow": {
     "slide_type": "-"
    }
   },
   "source": [
    "``` text\n",
    "# Git Workflow\n",
    "\n",
    "This is an example repo for the GT OSPO VSIP Spring 2024 Program.  \n",
    "```"
   ]
  },
  {
   "cell_type": "markdown",
   "id": "9687a29f",
   "metadata": {
    "slideshow": {
     "slide_type": "-"
    }
   },
   "source": [
    "* Then, let's create a Python source file named `my_abs.py` with these contents. We will be making changes to `my_abs.py` throughout this demo.  "
   ]
  },
  {
   "cell_type": "markdown",
   "id": "501744b5",
   "metadata": {},
   "source": [
    "``` python\n",
    "def my_abs(x):\n",
    "    if x < 0:\n",
    "        return -x\n",
    "    else:\n",
    "        return x\n",
    "```"
   ]
  },
  {
   "cell_type": "markdown",
   "id": "9ac355dd",
   "metadata": {},
   "source": [
    "### Untracked files\n",
    "\n",
    "`git status` reports that the new files are **untracked**.  Recall that untracked files are not recorded in repo's database, and that Git does not automatically track new files.  Git helpfully suggests that we should track them with the `git add` command, and we'll do that soon.  But first let's discuss the possible **states** for files in your working tree.  Knowing these states can help you troubleshoot many issues when you're working with your repo. "
   ]
  },
  {
   "cell_type": "code",
   "execution_count": 6,
   "id": "872926e6",
   "metadata": {},
   "outputs": [
    {
     "name": "stdout",
     "output_type": "stream",
     "text": [
      "On branch main\n",
      "\n",
      "No commits yet\n",
      "\n",
      "Untracked files:\n",
      "  (use \"git add <file>...\" to include in what will be committed)\n",
      "\t\u001b[31mREADME.md\u001b[m\n",
      "\t\u001b[31mmy_abs.py\u001b[m\n",
      "\n",
      "nothing added to commit but untracked files present (use \"git add\" to track)\n"
     ]
    }
   ],
   "source": [
    "git status"
   ]
  },
  {
   "cell_type": "markdown",
   "id": "89702ef6",
   "metadata": {},
   "source": [
    "### The state of files in a working tree\n",
    "\n",
    "Files in the working tree are either tracked or untracked:\n",
    "\n",
    "* **Untracked**: No versions of the file are stored in the repo's database\n",
    "* **Tracked**:  One or more versions of the file are in the database\n",
    "\n",
    "Additionally, changes in tracked files are always in one of three states:\n",
    "\n",
    "* **Unmodified**:  The file in the working is tree are up-to-date with the database.  Git sometimes refers to these changes as \"up-to-date\".  \n",
    "* **Modfied**:  The file has changes that have not yet been stored in the database.  Furthermore, the user hasn't specified that these changes will be stored in the next database update.  \n",
    "* **Staged**: The file's changes that will be stored in the next database update.  Git sometimes refers to these as \"to be committed\".  \n",
    "\n",
    "\n",
    "<img src=\"img/lifecycle.png\" width=\"800\" />\n",
    "\n",
    "\n",
    "(Image credit:  Scott Chacon and Ben Straub.  Pro Git, [Section 2.2](https://git-scm.com/book/en/v2/Git-Basics-Recording-Changes-to-the-Repository))"
   ]
  },
  {
   "cell_type": "markdown",
   "id": "2b8e6717",
   "metadata": {},
   "source": [
    "### `git add`: Stage new changes\n",
    "\n",
    "\n",
    "\n",
    "In our working copy of `git_workflow`, we have two untracked files: `README.md` and `my_abs.py`.  To record their changes, we need two steps (as shown in the [diagram above](#The-state-of-files-in-a-working-tree)):\n",
    "\n",
    "1. **Add the files:**  This changes the files' states from \"Untracked\" to \"Staged\".  At this point, the changes are *ready* to be stored in the database but *are not yet stored*.  \n",
    "2. **Commit**:  This changes their state from \"Staged\" to \"Unmodified\".  At this point, the changes have actually been stored in the database.\n",
    "\n",
    "To accomplish Step 1 (Untracked ➞ Staged), we use `git add`.  Its usage is:\n",
    "\n",
    "```\n",
    "git add <file1> [<file2> ...]\n",
    "```"
   ]
  },
  {
   "cell_type": "code",
   "execution_count": 7,
   "id": "859b6869",
   "metadata": {},
   "outputs": [],
   "source": [
    "git add README.md my_abs.py"
   ]
  },
  {
   "cell_type": "markdown",
   "id": "ff64cf5f",
   "metadata": {},
   "source": [
    "Now `git status` shows the files have changes that are \"to be committed\".  This means the changes are staged for the next database update.  But remember that the database has **not** actually been updated."
   ]
  },
  {
   "cell_type": "code",
   "execution_count": 8,
   "id": "090c4e57",
   "metadata": {},
   "outputs": [
    {
     "name": "stdout",
     "output_type": "stream",
     "text": [
      "On branch main\n",
      "\n",
      "No commits yet\n",
      "\n",
      "Changes to be committed:\n",
      "  (use \"git rm --cached <file>...\" to unstage)\n",
      "\t\u001b[32mnew file:   README.md\u001b[m\n",
      "\t\u001b[32mnew file:   my_abs.py\u001b[m\n",
      "\n"
     ]
    }
   ],
   "source": [
    "git status"
   ]
  },
  {
   "cell_type": "markdown",
   "id": "0c333292",
   "metadata": {},
   "source": [
    "### Modifying a staged file\n",
    "\n",
    "What happens when you've staged a file, but before you commit it, you realize you need to fix something?  For example, in `README.md`, we made a typo.  We wrote \"Spring 2024\" instead of \"Summer 2024\".  \n",
    "\n",
    "Let's correct `README.md` with our text editor, and then look at the `git status`:"
   ]
  },
  {
   "cell_type": "code",
   "execution_count": 9,
   "id": "b756cc40",
   "metadata": {},
   "outputs": [
    {
     "name": "stdout",
     "output_type": "stream",
     "text": [
      "On branch main\n",
      "\n",
      "No commits yet\n",
      "\n",
      "Changes to be committed:\n",
      "  (use \"git rm --cached <file>...\" to unstage)\n",
      "\t\u001b[32mnew file:   README.md\u001b[m\n",
      "\t\u001b[32mnew file:   my_abs.py\u001b[m\n",
      "\n",
      "Changes not staged for commit:\n",
      "  (use \"git add <file>...\" to update what will be committed)\n",
      "  (use \"git restore <file>...\" to discard changes in working directory)\n",
      "\t\u001b[31mmodified:   README.md\u001b[m\n",
      "\n"
     ]
    }
   ],
   "source": [
    "git status"
   ]
  },
  {
   "cell_type": "markdown",
   "id": "2c9da184",
   "metadata": {},
   "source": [
    "Git tells us:\n",
    "* `README.md` and `my_abs.py` have changes that are staged (\"to be committed\")\n",
    "* `README.md` also has changes that are not staged\n",
    "\n",
    "How can one file have both staged and unstaged changes?  The reason is that `git add` stages the state of the file **at the exact moment** you run `git add`.  So if you run `git add`, and make additional changes afterwards (like changing \"Spring\" to \"Summer\"), then those additional changes are not automatically staged.  "
   ]
  },
  {
   "cell_type": "markdown",
   "id": "a37ddf49",
   "metadata": {},
   "source": [
    "### Staging new content (again)\n",
    "\n",
    "To fix this, we'll run `git add` again to stage the new changes (\"Spring\" to \"Summer\").  You can see that Git suggests this, too, when it says: 'use \"git add <file>...\" to update what will be committed'"
   ]
  },
  {
   "cell_type": "code",
   "execution_count": 10,
   "id": "5828a35b",
   "metadata": {},
   "outputs": [],
   "source": [
    "git add README.md"
   ]
  },
  {
   "cell_type": "markdown",
   "id": "726333c6",
   "metadata": {},
   "source": [
    "Now we see that all the changes in `README.md` have been staged, since there are no \"Changes not staged for commit\" anymore.  "
   ]
  },
  {
   "cell_type": "code",
   "execution_count": 11,
   "id": "466532d7",
   "metadata": {},
   "outputs": [
    {
     "name": "stdout",
     "output_type": "stream",
     "text": [
      "On branch main\n",
      "\n",
      "No commits yet\n",
      "\n",
      "Changes to be committed:\n",
      "  (use \"git rm --cached <file>...\" to unstage)\n",
      "\t\u001b[32mnew file:   README.md\u001b[m\n",
      "\t\u001b[32mnew file:   my_abs.py\u001b[m\n",
      "\n"
     ]
    }
   ],
   "source": [
    "git status"
   ]
  },
  {
   "cell_type": "markdown",
   "id": "3353da43",
   "metadata": {},
   "source": [
    "### `git commit`: Updating the database\n",
    "\n",
    "Finally, we'll use `git commit` to record the previously-staged changes to the database.  \n",
    "\n",
    "You can use the `-m` option to specify a **commit message** on the command line.  This is a short message that lets other humans know what changes you've made.  Many projects have conventions about what info should go into a commit message.  Ask your project manager for details.  \n",
    "\n",
    "(If you do not use `-m`, a text editor will pop up and prompt you to enter a message.)"
   ]
  },
  {
   "cell_type": "code",
   "execution_count": 12,
   "id": "056a8e5f",
   "metadata": {},
   "outputs": [
    {
     "name": "stdout",
     "output_type": "stream",
     "text": [
      "[main (root-commit) 02b19f4] First commit of my_abs (no try/except yet)\n",
      " 2 files changed, 9 insertions(+)\n",
      " create mode 100644 README.md\n",
      " create mode 100644 my_abs.py\n"
     ]
    }
   ],
   "source": [
    "git commit -m \"First commit of my_abs (no try/except yet)\""
   ]
  },
  {
   "cell_type": "markdown",
   "id": "9edf34d9",
   "metadata": {},
   "source": [
    "### `git log`:  Showing the repo's history\n",
    "\n",
    "Now that we actually have information in our repo's database, we can use `git log` to show the history.  `git log` has many options to show more or less information about the history.  You can run `git help log` to see all the available options."
   ]
  },
  {
   "cell_type": "code",
   "execution_count": 13,
   "id": "a9de7a78",
   "metadata": {},
   "outputs": [
    {
     "name": "stdout",
     "output_type": "stream",
     "text": [
      "\u001b[33mcommit 02b19f4848824bbacc3bce833cb33ad29a2e784d\u001b[m\u001b[33m (\u001b[m\u001b[1;36mHEAD -> \u001b[m\u001b[1;32mmain\u001b[m\u001b[33m)\u001b[m\n",
      "Author: George Burdell <gburdell@gatech.edu>\n",
      "Date:   Tue May 7 20:38:23 2024 -0500\n",
      "\n",
      "    First commit of my_abs (no try/except yet)\n"
     ]
    }
   ],
   "source": [
    "git log"
   ]
  },
  {
   "cell_type": "markdown",
   "id": "42b77580",
   "metadata": {},
   "source": [
    "## 4.2: Working with Remotes"
   ]
  },
  {
   "cell_type": "markdown",
   "id": "ef522de3-8816-44f6-833a-109292934f67",
   "metadata": {},
   "source": [
    "Up to this point, we've only made changes to the **local** repo on our computer.  We haven't touched GitHub at all.  Now, we are going to create a **remote** repo on GitHub and upload our local repo to it."
   ]
  },
  {
   "cell_type": "markdown",
   "id": "83cbda43-3cc4-4f20-98ca-f059918ed4eb",
   "metadata": {},
   "source": [
    "### Creating a remote repo\n",
    "\n",
    "From the front page of [GitHub](https://github.com), you can create a new repo by clicking on the the \"+\" button on the top menu bar.  You can also go directly to https://github.com/new"
   ]
  },
  {
   "cell_type": "markdown",
   "id": "c615be0f",
   "metadata": {},
   "source": [
    "<img src=\"img/working-with-remote-01.png\" width=\"500\" />"
   ]
  },
  {
   "cell_type": "markdown",
   "id": "ac850852-4cdf-4944-9a77-557fe8e0f043",
   "metadata": {},
   "source": [
    "You should now see the \"Create a new repository\" page.  Since we are uploading an existing repository (instead of creating a new one), we'll only need a few options.\n",
    "\n",
    "* **Repository template**:  GitHub has starter templates (with directories and some boilerplate code) for common types of projects.  We'll select \"No template\".\n",
    "* **Owner**:  The repo's owner can be an individual account or an organization (a group of accounts).  A GitHub organization is a powerful tool for collaborating and managing permissions, and more likely than not, you'll be working in an organization for your VSIP project.  For this tutorial, let's use your individual GitHub account.\n",
    "* **Repository name**: This will be the last part of the repo's URL.  When someone clones your repo, it will also be the default name for the project directory.  Let's give it the same name as your existing project directory.\n",
    "* **Visibility**: You can make your repo either Public or Private, whichever you prefer\n",
    "* **Initialize this repository** and below:  Since we are uploading an existing repo, we should not create a `README`, `.gitignore`, or license.\n",
    "\n",
    "When you're finished, click the \"Create repository\" button"
   ]
  },
  {
   "cell_type": "markdown",
   "id": "1ef02fe7",
   "metadata": {},
   "source": [
    "<img src=\"img/working-with-remote-02.png\" width=\"500\" />"
   ]
  },
  {
   "cell_type": "markdown",
   "id": "6d6e1a09-7c52-4642-9c16-aa72a4c9c8b9",
   "metadata": {},
   "source": [
    "You will now be taken to your repo's webpage, and you should see the following info.  "
   ]
  },
  {
   "cell_type": "markdown",
   "id": "002a62ad",
   "metadata": {},
   "source": [
    "<img src=\"img/working-with-remote-03.png\" width=\"600\" />"
   ]
  },
  {
   "cell_type": "code",
   "execution_count": 20,
   "id": "2bc4c813",
   "metadata": {},
   "outputs": [],
   "source": [
    "git remote add origin git@github.com:GeorgeBurdell/git-workflow.git"
   ]
  },
  {
   "cell_type": "code",
   "execution_count": 21,
   "id": "18949389",
   "metadata": {},
   "outputs": [
    {
     "name": "stdout",
     "output_type": "stream",
     "text": [
      "origin\tgit@github.com:GeorgeBurdell/git-workflow.git (fetch)\n",
      "origin\tgit@github.com:GeorgeBurdell/git-workflow.git (push)\n"
     ]
    }
   ],
   "source": [
    "git remote -v"
   ]
  },
  {
   "cell_type": "code",
   "execution_count": 22,
   "id": "16dcaa55",
   "metadata": {},
   "outputs": [
    {
     "name": "stdout",
     "output_type": "stream",
     "text": [
      "Enumerating objects: 4, done.\n",
      "Counting objects: 100% (4/4), done.\n",
      "Delta compression using up to 12 threads\n",
      "Compressing objects: 100% (4/4), done.\n",
      "Writing objects: 100% (4/4), 408 bytes | 408.00 KiB/s, done.\n",
      "Total 4 (delta 0), reused 0 (delta 0), pack-reused 0\n",
      "To github.com:GeorgeBurdell/git-workflow.git\n",
      " * [new branch]      main -> main\n",
      "Branch 'main' set up to track remote branch 'main' from 'origin'.\n"
     ]
    }
   ],
   "source": [
    "git push -u origin main"
   ]
  },
  {
   "cell_type": "markdown",
   "id": "e9685405",
   "metadata": {},
   "source": [
    "## Section 4.3: Downloading a repo"
   ]
  },
  {
   "cell_type": "code",
   "execution_count": 23,
   "id": "37f2d5fb",
   "metadata": {},
   "outputs": [],
   "source": [
    "mkdir ~/somewhere-else\n",
    "cd ~/somewhere-else"
   ]
  },
  {
   "cell_type": "code",
   "execution_count": 24,
   "id": "6169ac49",
   "metadata": {},
   "outputs": [
    {
     "name": "stdout",
     "output_type": "stream",
     "text": [
      "Cloning into 'git-workflow'...\n",
      "remote: Enumerating objects: 4, done.\u001b[K\n",
      "remote: Counting objects: 100% (4/4), done.\u001b[K\n",
      "remote: Compressing objects: 100% (4/4), done.\u001b[K\n",
      "remote: Total 4 (delta 0), reused 4 (delta 0), pack-reused 0\u001b[K\n",
      "Receiving objects: 100% (4/4), done.\n"
     ]
    }
   ],
   "source": [
    "git clone git@github.com:GeorgeBurdell/git-workflow.git"
   ]
  },
  {
   "cell_type": "code",
   "execution_count": 26,
   "id": "148cf943",
   "metadata": {},
   "outputs": [],
   "source": [
    "cd ~/somewhere-else/git-workflow"
   ]
  },
  {
   "cell_type": "code",
   "execution_count": 30,
   "id": "d710c2e0",
   "metadata": {},
   "outputs": [
    {
     "name": "stdout",
     "output_type": "stream",
     "text": [
      "total 16\n",
      "drwxr-xr-x   5 gburdell  staff  160 May  7 20:43 \u001b[1m\u001b[36m.\u001b[39;49m\u001b[0m\n",
      "drwxr-xr-x   3 gburdell  staff   96 May  7 20:43 \u001b[1m\u001b[36m..\u001b[39;49m\u001b[0m\n",
      "drwxr-xr-x  12 gburdell  staff  384 May  7 20:43 \u001b[1m\u001b[36m.git\u001b[39;49m\u001b[0m\n",
      "-rw-r--r--   1 gburdell  staff   84 May  7 20:43 README.md\n",
      "-rw-r--r--   1 gburdell  staff   75 May  7 20:43 my_abs.py\n"
     ]
    }
   ],
   "source": [
    "ls -la"
   ]
  },
  {
   "cell_type": "code",
   "execution_count": 31,
   "id": "76b7d8be",
   "metadata": {},
   "outputs": [
    {
     "name": "stdout",
     "output_type": "stream",
     "text": [
      "\u001b[33mcommit 02b19f4848824bbacc3bce833cb33ad29a2e784d\u001b[m\u001b[33m (\u001b[m\u001b[1;36mHEAD -> \u001b[m\u001b[1;32mmain\u001b[m\u001b[33m, \u001b[m\u001b[1;31morigin/main\u001b[m\u001b[33m, \u001b[m\u001b[1;31morigin/HEAD\u001b[m\u001b[33m)\u001b[m\n",
      "Author: George Burdell <gburdell@gatech.edu>\n",
      "Date:   Tue May 7 20:38:23 2024 -0500\n",
      "\n",
      "    First commit of my_abs (no try/except yet)\n"
     ]
    }
   ],
   "source": [
    "git log"
   ]
  },
  {
   "cell_type": "markdown",
   "id": "361f94b1",
   "metadata": {},
   "source": [
    "# Section 4.4: Adding more changes"
   ]
  },
  {
   "cell_type": "code",
   "execution_count": 32,
   "id": "6b8d48d9",
   "metadata": {},
   "outputs": [],
   "source": [
    "cd ~/git-workflow"
   ]
  },
  {
   "cell_type": "markdown",
   "id": "ce0babf9",
   "metadata": {},
   "source": [
    "## Modifying an unmodified file\n",
    "\n",
    "Copy/paste this into my_abs.py\n",
    "\n",
    "\n",
    "``` python\n",
    "import math\n",
    "\n",
    "def my_abs(x):\n",
    "    try:\n",
    "        if x < 0:\n",
    "            return -x\n",
    "        else:\n",
    "            return x\n",
    "    except TypeError:\n",
    "        return math.nan\n",
    "```"
   ]
  },
  {
   "cell_type": "code",
   "execution_count": 33,
   "id": "f934ebba",
   "metadata": {},
   "outputs": [
    {
     "name": "stdout",
     "output_type": "stream",
     "text": [
      "\u001b[1mdiff --git a/my_abs.py b/my_abs.py\u001b[m\n",
      "\u001b[1mindex fc89810..64431e6 100644\u001b[m\n",
      "\u001b[1m--- a/my_abs.py\u001b[m\n",
      "\u001b[1m+++ b/my_abs.py\u001b[m\n",
      "\u001b[36m@@ -1,6 +1,11 @@\u001b[m\n",
      "\u001b[32m+\u001b[m\u001b[32mimport math\u001b[m\n",
      "\u001b[32m+\u001b[m\n",
      " def my_abs(x):\u001b[m\n",
      "\u001b[31m-    if x < 0:\u001b[m\n",
      "\u001b[31m-        return -x\u001b[m\n",
      "\u001b[31m-    else:\u001b[m\n",
      "\u001b[31m-        return x\u001b[m\n",
      "\u001b[32m+\u001b[m\u001b[32m    try:\u001b[m\n",
      "\u001b[32m+\u001b[m\u001b[32m        if x < 0:\u001b[m\n",
      "\u001b[32m+\u001b[m\u001b[32m            return -x\u001b[m\n",
      "\u001b[32m+\u001b[m\u001b[32m        else:\u001b[m\n",
      "\u001b[32m+\u001b[m\u001b[32m            return x\u001b[m\n",
      "\u001b[32m+\u001b[m\u001b[32m    except TypeError:\u001b[m\n",
      "\u001b[32m+\u001b[m\u001b[32m        return math.nan\u001b[m\n",
      " \u001b[m\n"
     ]
    }
   ],
   "source": [
    "git diff"
   ]
  },
  {
   "cell_type": "code",
   "execution_count": 34,
   "id": "e748b00c",
   "metadata": {},
   "outputs": [
    {
     "name": "stdout",
     "output_type": "stream",
     "text": [
      "On branch main\n",
      "Your branch is up to date with 'origin/main'.\n",
      "\n",
      "Changes not staged for commit:\n",
      "  (use \"git add <file>...\" to update what will be committed)\n",
      "  (use \"git restore <file>...\" to discard changes in working directory)\n",
      "\t\u001b[31mmodified:   my_abs.py\u001b[m\n",
      "\n",
      "no changes added to commit (use \"git add\" and/or \"git commit -a\")\n"
     ]
    }
   ],
   "source": [
    "git status"
   ]
  },
  {
   "cell_type": "code",
   "execution_count": 35,
   "id": "7ee60091",
   "metadata": {},
   "outputs": [
    {
     "name": "stdout",
     "output_type": "stream",
     "text": [
      "[main c3c4498] Added try/except\n",
      " 1 file changed, 9 insertions(+), 4 deletions(-)\n"
     ]
    }
   ],
   "source": [
    "git commit -am \"Added try/except\""
   ]
  },
  {
   "cell_type": "code",
   "execution_count": 36,
   "id": "03b68f5d",
   "metadata": {},
   "outputs": [
    {
     "name": "stdout",
     "output_type": "stream",
     "text": [
      "* \u001b[33mc3c4498\u001b[m\u001b[33m (\u001b[m\u001b[1;36mHEAD -> \u001b[m\u001b[1;32mmain\u001b[m\u001b[33m)\u001b[m Added try/except\n",
      "* \u001b[33m02b19f4\u001b[m\u001b[33m (\u001b[m\u001b[1;31morigin/main\u001b[m\u001b[33m)\u001b[m First commit of my_abs (no try/except yet)\n"
     ]
    }
   ],
   "source": [
    "git log --oneline --graph --branches --remotes "
   ]
  },
  {
   "cell_type": "code",
   "execution_count": 37,
   "id": "a780c175",
   "metadata": {},
   "outputs": [
    {
     "name": "stdout",
     "output_type": "stream",
     "text": [
      "Enumerating objects: 5, done.\n",
      "Counting objects: 100% (5/5), done.\n",
      "Delta compression using up to 12 threads\n",
      "Compressing objects: 100% (3/3), done.\n",
      "Writing objects: 100% (3/3), 376 bytes | 376.00 KiB/s, done.\n",
      "Total 3 (delta 0), reused 0 (delta 0), pack-reused 0\n",
      "To github.com:GeorgeBurdell/git-workflow.git\n",
      "   02b19f4..c3c4498  main -> main\n"
     ]
    }
   ],
   "source": [
    "git push"
   ]
  },
  {
   "cell_type": "markdown",
   "id": "ab02d745",
   "metadata": {},
   "source": [
    "# Section 6: Branches"
   ]
  },
  {
   "cell_type": "markdown",
   "id": "58560ff3-3f7d-4bd4-bc8b-ccbc75e7e7f9",
   "metadata": {},
   "source": [
    "## Our branches\n",
    "\n",
    "<img src=\"img/branches-01.png\" width=\"400\" />"
   ]
  },
  {
   "cell_type": "markdown",
   "id": "928ce8e5",
   "metadata": {},
   "source": [
    "## Checking out a commit"
   ]
  },
  {
   "cell_type": "code",
   "execution_count": 46,
   "id": "06f0a17c",
   "metadata": {},
   "outputs": [
    {
     "name": "stdout",
     "output_type": "stream",
     "text": [
      "Note: switching to '02b19f4'.\n",
      "\n",
      "You are in 'detached HEAD' state. You can look around, make experimental\n",
      "changes and commit them, and you can discard any commits you make in this\n",
      "state without impacting any branches by switching back to a branch.\n",
      "\n",
      "If you want to create a new branch to retain commits you create, you may\n",
      "do so (now or later) by using -c with the switch command. Example:\n",
      "\n",
      "  git switch -c <new-branch-name>\n",
      "\n",
      "Or undo this operation with:\n",
      "\n",
      "  git switch -\n",
      "\n",
      "Turn off this advice by setting config variable advice.detachedHead to false\n",
      "\n",
      "HEAD is now at 02b19f4 First commit of my_abs (no try/except yet)\n"
     ]
    }
   ],
   "source": [
    "git checkout 02b19f4"
   ]
  },
  {
   "cell_type": "code",
   "execution_count": 47,
   "id": "d58aeba8",
   "metadata": {},
   "outputs": [
    {
     "name": "stdout",
     "output_type": "stream",
     "text": [
      "* \u001b[33mc3c4498\u001b[m\u001b[33m (\u001b[m\u001b[1;31morigin/main\u001b[m\u001b[33m, \u001b[m\u001b[1;32mmain\u001b[m\u001b[33m)\u001b[m Added try/except\n",
      "* \u001b[33m02b19f4\u001b[m\u001b[33m (\u001b[m\u001b[1;36mHEAD\u001b[m\u001b[33m)\u001b[m First commit of my_abs (no try/except yet)\n"
     ]
    }
   ],
   "source": [
    "git log --oneline --graph --branches --remotes "
   ]
  },
  {
   "cell_type": "markdown",
   "id": "e638c66f-f54c-4032-8d05-e89a2a736899",
   "metadata": {},
   "source": [
    "<img src=\"img/branches-02.png\" width=\"400\" />"
   ]
  },
  {
   "cell_type": "code",
   "execution_count": 48,
   "id": "5fc0b17d",
   "metadata": {},
   "outputs": [
    {
     "name": "stdout",
     "output_type": "stream",
     "text": [
      "def my_abs(x):\n",
      "    if x < 0:\n",
      "        return -x\n",
      "    else:\n",
      "        return x\n",
      "\n"
     ]
    }
   ],
   "source": [
    "cat my_abs.py"
   ]
  },
  {
   "cell_type": "markdown",
   "id": "5dab8c42",
   "metadata": {},
   "source": [
    "## Checking out a branch"
   ]
  },
  {
   "cell_type": "code",
   "execution_count": 49,
   "id": "948b9057",
   "metadata": {},
   "outputs": [
    {
     "name": "stdout",
     "output_type": "stream",
     "text": [
      "Previous HEAD position was 02b19f4 First commit of my_abs (no try/except yet)\n",
      "Switched to branch 'main'\n",
      "Your branch is up to date with 'origin/main'.\n"
     ]
    }
   ],
   "source": [
    "git checkout main"
   ]
  },
  {
   "cell_type": "code",
   "execution_count": 50,
   "id": "8d1457ac",
   "metadata": {},
   "outputs": [
    {
     "name": "stdout",
     "output_type": "stream",
     "text": [
      "* \u001b[33mc3c4498\u001b[m\u001b[33m (\u001b[m\u001b[1;36mHEAD -> \u001b[m\u001b[1;32mmain\u001b[m\u001b[33m, \u001b[m\u001b[1;31morigin/main\u001b[m\u001b[33m)\u001b[m Added try/except\n",
      "* \u001b[33m02b19f4\u001b[m First commit of my_abs (no try/except yet)\n"
     ]
    }
   ],
   "source": [
    "git log --oneline --graph --branches --remotes "
   ]
  },
  {
   "cell_type": "markdown",
   "id": "57221b97-baca-450d-862b-9e3b1c515af9",
   "metadata": {},
   "source": [
    "<img src=\"img/branches-03.png\" width=\"400\" />"
   ]
  },
  {
   "cell_type": "code",
   "execution_count": 51,
   "id": "ba62a4ef",
   "metadata": {},
   "outputs": [
    {
     "name": "stdout",
     "output_type": "stream",
     "text": [
      "import math\n",
      "\n",
      "def my_abs(x):\n",
      "    try:\n",
      "        if x < 0:\n",
      "            return -x\n",
      "        else:\n",
      "            return x\n",
      "    except TypeError:\n",
      "        return math.nan\n",
      "\n"
     ]
    }
   ],
   "source": [
    "cat my_abs.py"
   ]
  },
  {
   "cell_type": "markdown",
   "id": "ff116d0a",
   "metadata": {},
   "source": [
    "## Creating a topic branch"
   ]
  },
  {
   "cell_type": "code",
   "execution_count": 52,
   "id": "a5d7d48d",
   "metadata": {},
   "outputs": [
    {
     "name": "stdout",
     "output_type": "stream",
     "text": [
      "Switched to a new branch 'types'\n"
     ]
    }
   ],
   "source": [
    "git checkout -b types"
   ]
  },
  {
   "cell_type": "markdown",
   "id": "4fc385ee-6e94-4b57-ba79-ff297c3bd275",
   "metadata": {},
   "source": [
    "<img src=\"img/branches-04.png\" width=\"400\" />"
   ]
  },
  {
   "cell_type": "code",
   "execution_count": 53,
   "id": "63cd1fc4",
   "metadata": {},
   "outputs": [
    {
     "name": "stdout",
     "output_type": "stream",
     "text": [
      "* \u001b[33mc3c4498\u001b[m\u001b[33m (\u001b[m\u001b[1;36mHEAD -> \u001b[m\u001b[1;32mtypes\u001b[m\u001b[33m, \u001b[m\u001b[1;31morigin/main\u001b[m\u001b[33m, \u001b[m\u001b[1;32mmain\u001b[m\u001b[33m)\u001b[m Added try/except\n",
      "* \u001b[33m02b19f4\u001b[m First commit of my_abs (no try/except yet)\n"
     ]
    }
   ],
   "source": [
    "git log --oneline --graph --branches --remotes "
   ]
  },
  {
   "cell_type": "markdown",
   "id": "1dd250f5",
   "metadata": {},
   "source": [
    "Copy this to `my_abs.py`\n",
    "\n",
    "``` python\n",
    "import math\n",
    "import numbers\n",
    "\n",
    "def my_abs(x):\n",
    "    if isinstance(x, numbers.Real):\n",
    "        if x < 0:\n",
    "            return -x\n",
    "        else:\n",
    "            return x\n",
    "    elif isinstance(x, numbers.Complex):\n",
    "        return math.sqrt(\n",
    "            x.real ** 2 + x.imag ** 2)\n",
    "    else:\n",
    "        return math.nan\n",
    "```"
   ]
  },
  {
   "cell_type": "code",
   "execution_count": 54,
   "id": "59406121",
   "metadata": {},
   "outputs": [
    {
     "name": "stdout",
     "output_type": "stream",
     "text": [
      "\u001b[1mdiff --git a/my_abs.py b/my_abs.py\u001b[m\n",
      "\u001b[1mindex 64431e6..bf90a6f 100644\u001b[m\n",
      "\u001b[1m--- a/my_abs.py\u001b[m\n",
      "\u001b[1m+++ b/my_abs.py\u001b[m\n",
      "\u001b[36m@@ -1,11 +1,15 @@\u001b[m\n",
      " import math\u001b[m\n",
      "\u001b[32m+\u001b[m\u001b[32mimport numbers\u001b[m\n",
      " \u001b[m\n",
      " def my_abs(x):\u001b[m\n",
      "\u001b[31m-    try:\u001b[m\n",
      "\u001b[32m+\u001b[m\u001b[32m    if isinstance(x, numbers.Real):\u001b[m\n",
      "         if x < 0:\u001b[m\n",
      "             return -x\u001b[m\n",
      "         else:\u001b[m\n",
      "             return x\u001b[m\n",
      "\u001b[31m-    except TypeError:\u001b[m\n",
      "\u001b[32m+\u001b[m\u001b[32m    elif isinstance(x, numbers.Complex):\u001b[m\n",
      "\u001b[32m+\u001b[m\u001b[32m        return math.sqrt(\u001b[m\n",
      "\u001b[32m+\u001b[m\u001b[32m            x.real ** 2 + x.imag ** 2)\u001b[m\n",
      "\u001b[32m+\u001b[m\u001b[32m    else:\u001b[m\n",
      "         return math.nan\u001b[m\n",
      " \u001b[m\n"
     ]
    }
   ],
   "source": [
    "git diff"
   ]
  },
  {
   "cell_type": "code",
   "execution_count": 55,
   "id": "4675de8e",
   "metadata": {},
   "outputs": [
    {
     "name": "stdout",
     "output_type": "stream",
     "text": [
      "[types 864205a] Using type checks\n",
      " 1 file changed, 6 insertions(+), 2 deletions(-)\n"
     ]
    }
   ],
   "source": [
    "git commit -am \"Using type checks\""
   ]
  },
  {
   "cell_type": "code",
   "execution_count": 56,
   "id": "38710e6a",
   "metadata": {},
   "outputs": [
    {
     "name": "stdout",
     "output_type": "stream",
     "text": [
      "* \u001b[33m864205a\u001b[m\u001b[33m (\u001b[m\u001b[1;36mHEAD -> \u001b[m\u001b[1;32mtypes\u001b[m\u001b[33m)\u001b[m Using type checks\n",
      "* \u001b[33mc3c4498\u001b[m\u001b[33m (\u001b[m\u001b[1;31morigin/main\u001b[m\u001b[33m, \u001b[m\u001b[1;32mmain\u001b[m\u001b[33m)\u001b[m Added try/except\n",
      "* \u001b[33m02b19f4\u001b[m First commit of my_abs (no try/except yet)\n"
     ]
    }
   ],
   "source": [
    "git log --oneline --graph --branches --remotes "
   ]
  },
  {
   "cell_type": "markdown",
   "id": "724ad325-05f9-4006-96e9-052562de1a68",
   "metadata": {},
   "source": [
    "<img src=\"img/branches-05.png\" width=\"500\" />"
   ]
  },
  {
   "cell_type": "markdown",
   "id": "f8b265af",
   "metadata": {},
   "source": [
    "## Making another topic branch"
   ]
  },
  {
   "cell_type": "code",
   "execution_count": 57,
   "id": "52a4bd22",
   "metadata": {},
   "outputs": [
    {
     "name": "stdout",
     "output_type": "stream",
     "text": [
      "Switched to branch 'main'\n",
      "Your branch is up to date with 'origin/main'.\n"
     ]
    }
   ],
   "source": [
    "git checkout main"
   ]
  },
  {
   "cell_type": "code",
   "execution_count": 58,
   "id": "e699f4fb",
   "metadata": {},
   "outputs": [
    {
     "name": "stdout",
     "output_type": "stream",
     "text": [
      "Switched to a new branch 'almost-eq'\n"
     ]
    }
   ],
   "source": [
    "git checkout -b almost-eq"
   ]
  },
  {
   "cell_type": "markdown",
   "id": "521c1227-82ee-497d-b2f6-b0ef0b9e9f85",
   "metadata": {},
   "source": [
    "<img src=\"img/branches-06.png\" width=\"500\" />"
   ]
  },
  {
   "cell_type": "markdown",
   "id": "238ad726",
   "metadata": {},
   "source": [
    "Copy this to `my_abs.py`\n",
    "\n",
    "``` python\n",
    "import math\n",
    "\n",
    "def my_abs(x):\n",
    "    try:\n",
    "        if x < 0:\n",
    "            return -x\n",
    "        else:\n",
    "            return x\n",
    "    except TypeError:\n",
    "        return math.nan\n",
    "\n",
    "def my_almost_eq(x, y):\n",
    "    return my_abs(x - y) < 1e-16\n",
    "```"
   ]
  },
  {
   "cell_type": "code",
   "execution_count": 59,
   "id": "5eb75914",
   "metadata": {},
   "outputs": [
    {
     "name": "stdout",
     "output_type": "stream",
     "text": [
      "\u001b[1mdiff --git a/my_abs.py b/my_abs.py\u001b[m\n",
      "\u001b[1mindex 64431e6..efa815d 100644\u001b[m\n",
      "\u001b[1m--- a/my_abs.py\u001b[m\n",
      "\u001b[1m+++ b/my_abs.py\u001b[m\n",
      "\u001b[36m@@ -9,3 +9,6 @@\u001b[m \u001b[mdef my_abs(x):\u001b[m\n",
      "     except TypeError:\u001b[m\n",
      "         return math.nan\u001b[m\n",
      " \u001b[m\n",
      "\u001b[32m+\u001b[m\u001b[32mdef my_almost_eq(x, y):\u001b[m\n",
      "\u001b[32m+\u001b[m\u001b[32m    return my_abs(x - y) < 1e-16\u001b[m\n",
      "\u001b[32m+\u001b[m\n"
     ]
    }
   ],
   "source": [
    "git diff"
   ]
  },
  {
   "cell_type": "code",
   "execution_count": 60,
   "id": "11c9d176",
   "metadata": {},
   "outputs": [
    {
     "name": "stdout",
     "output_type": "stream",
     "text": [
      "[almost-eq 557e440] Added my_almost_eq\n",
      " 1 file changed, 3 insertions(+)\n"
     ]
    }
   ],
   "source": [
    "git commit -am \"Added my_almost_eq\""
   ]
  },
  {
   "cell_type": "code",
   "execution_count": 61,
   "id": "8b3c995f",
   "metadata": {},
   "outputs": [
    {
     "name": "stdout",
     "output_type": "stream",
     "text": [
      "* \u001b[33m557e440\u001b[m\u001b[33m (\u001b[m\u001b[1;36mHEAD -> \u001b[m\u001b[1;32malmost-eq\u001b[m\u001b[33m)\u001b[m Added my_almost_eq\n",
      "\u001b[31m|\u001b[m * \u001b[33m864205a\u001b[m\u001b[33m (\u001b[m\u001b[1;32mtypes\u001b[m\u001b[33m)\u001b[m Using type checks\n",
      "\u001b[31m|\u001b[m\u001b[31m/\u001b[m  \n",
      "* \u001b[33mc3c4498\u001b[m\u001b[33m (\u001b[m\u001b[1;31morigin/main\u001b[m\u001b[33m, \u001b[m\u001b[1;32mmain\u001b[m\u001b[33m)\u001b[m Added try/except\n",
      "* \u001b[33m02b19f4\u001b[m First commit of my_abs (no try/except yet)\n"
     ]
    }
   ],
   "source": [
    "git log --oneline --graph --branches --remotes "
   ]
  },
  {
   "cell_type": "markdown",
   "id": "3b0ac54a-4887-4299-a007-ad1377185374",
   "metadata": {},
   "source": [
    "<img src=\"img/branches-07.png\" width=\"500\" />"
   ]
  },
  {
   "cell_type": "markdown",
   "id": "d691b56e",
   "metadata": {},
   "source": [
    "## `git merge`: A fast-forward merge"
   ]
  },
  {
   "cell_type": "code",
   "execution_count": 62,
   "id": "4aaea794",
   "metadata": {},
   "outputs": [
    {
     "name": "stdout",
     "output_type": "stream",
     "text": [
      "Switched to branch 'main'\n",
      "Your branch is up to date with 'origin/main'.\n"
     ]
    }
   ],
   "source": [
    "git checkout main"
   ]
  },
  {
   "cell_type": "code",
   "execution_count": 63,
   "id": "a04025a4",
   "metadata": {},
   "outputs": [
    {
     "name": "stdout",
     "output_type": "stream",
     "text": [
      "* \u001b[33m557e440\u001b[m\u001b[33m (\u001b[m\u001b[1;32malmost-eq\u001b[m\u001b[33m)\u001b[m Added my_almost_eq\n",
      "\u001b[31m|\u001b[m * \u001b[33m864205a\u001b[m\u001b[33m (\u001b[m\u001b[1;32mtypes\u001b[m\u001b[33m)\u001b[m Using type checks\n",
      "\u001b[31m|\u001b[m\u001b[31m/\u001b[m  \n",
      "* \u001b[33mc3c4498\u001b[m\u001b[33m (\u001b[m\u001b[1;36mHEAD -> \u001b[m\u001b[1;32mmain\u001b[m\u001b[33m, \u001b[m\u001b[1;31morigin/main\u001b[m\u001b[33m)\u001b[m Added try/except\n",
      "* \u001b[33m02b19f4\u001b[m First commit of my_abs (no try/except yet)\n"
     ]
    }
   ],
   "source": [
    "git log --oneline --graph --branches --remotes "
   ]
  },
  {
   "cell_type": "markdown",
   "id": "399bfb38-5180-4bdb-91f6-563c16209073",
   "metadata": {},
   "source": [
    "<img src=\"img/branches-08.png\" width=\"500\" />"
   ]
  },
  {
   "cell_type": "code",
   "execution_count": 64,
   "id": "905910d5",
   "metadata": {},
   "outputs": [
    {
     "name": "stdout",
     "output_type": "stream",
     "text": [
      "Updating c3c4498..864205a\n",
      "Fast-forward\n",
      " my_abs.py | 8 \u001b[32m++++++\u001b[m\u001b[31m--\u001b[m\n",
      " 1 file changed, 6 insertions(+), 2 deletions(-)\n"
     ]
    }
   ],
   "source": [
    "git merge types"
   ]
  },
  {
   "cell_type": "code",
   "execution_count": 65,
   "id": "82ab3e68",
   "metadata": {},
   "outputs": [
    {
     "name": "stdout",
     "output_type": "stream",
     "text": [
      "* \u001b[33m557e440\u001b[m\u001b[33m (\u001b[m\u001b[1;32malmost-eq\u001b[m\u001b[33m)\u001b[m Added my_almost_eq\n",
      "\u001b[31m|\u001b[m * \u001b[33m864205a\u001b[m\u001b[33m (\u001b[m\u001b[1;36mHEAD -> \u001b[m\u001b[1;32mmain\u001b[m\u001b[33m, \u001b[m\u001b[1;32mtypes\u001b[m\u001b[33m)\u001b[m Using type checks\n",
      "\u001b[31m|\u001b[m\u001b[31m/\u001b[m  \n",
      "* \u001b[33mc3c4498\u001b[m\u001b[33m (\u001b[m\u001b[1;31morigin/main\u001b[m\u001b[33m)\u001b[m Added try/except\n",
      "* \u001b[33m02b19f4\u001b[m First commit of my_abs (no try/except yet)\n"
     ]
    }
   ],
   "source": [
    "git log --oneline --graph --branches --remotes "
   ]
  },
  {
   "cell_type": "markdown",
   "id": "100ee7df-ccc8-4537-8480-b4a2e6ba1a4f",
   "metadata": {},
   "source": [
    "<img src=\"img/branches-09.png\" width=\"500\" />"
   ]
  },
  {
   "cell_type": "markdown",
   "id": "816cab49",
   "metadata": {},
   "source": [
    "## `git merge`:  A merge commit"
   ]
  },
  {
   "cell_type": "code",
   "execution_count": 66,
   "id": "f7a94715",
   "metadata": {},
   "outputs": [
    {
     "name": "stdout",
     "output_type": "stream",
     "text": [
      "Auto-merging my_abs.py\n",
      "Merge made by the 'recursive' strategy.\n",
      " my_abs.py | 3 \u001b[32m+++\u001b[m\n",
      " 1 file changed, 3 insertions(+)\n"
     ]
    }
   ],
   "source": [
    "git merge --no-edit almost-eq"
   ]
  },
  {
   "cell_type": "code",
   "execution_count": 67,
   "id": "a188b9d7",
   "metadata": {},
   "outputs": [
    {
     "name": "stdout",
     "output_type": "stream",
     "text": [
      "*   \u001b[33m0dfda78\u001b[m\u001b[33m (\u001b[m\u001b[1;36mHEAD -> \u001b[m\u001b[1;32mmain\u001b[m\u001b[33m)\u001b[m Merge branch 'almost-eq'\n",
      "\u001b[31m|\u001b[m\u001b[32m\\\u001b[m  \n",
      "\u001b[31m|\u001b[m * \u001b[33m557e440\u001b[m\u001b[33m (\u001b[m\u001b[1;32malmost-eq\u001b[m\u001b[33m)\u001b[m Added my_almost_eq\n",
      "* \u001b[32m|\u001b[m \u001b[33m864205a\u001b[m\u001b[33m (\u001b[m\u001b[1;32mtypes\u001b[m\u001b[33m)\u001b[m Using type checks\n",
      "\u001b[32m|\u001b[m\u001b[32m/\u001b[m  \n",
      "* \u001b[33mc3c4498\u001b[m\u001b[33m (\u001b[m\u001b[1;31morigin/main\u001b[m\u001b[33m)\u001b[m Added try/except\n",
      "* \u001b[33m02b19f4\u001b[m First commit of my_abs (no try/except yet)\n"
     ]
    }
   ],
   "source": [
    "git log --oneline --graph --branches --remotes "
   ]
  },
  {
   "cell_type": "markdown",
   "id": "635e717b-edc2-487b-b9b3-26578b38380e",
   "metadata": {},
   "source": [
    "<img src=\"img/branches-10.png\" width=\"500\" />"
   ]
  },
  {
   "cell_type": "code",
   "execution_count": 68,
   "id": "771ac698",
   "metadata": {},
   "outputs": [
    {
     "name": "stdout",
     "output_type": "stream",
     "text": [
      "import math\n",
      "import numbers\n",
      "\n",
      "def my_abs(x):\n",
      "    if isinstance(x, numbers.Real):\n",
      "        if x < 0:\n",
      "            return -x\n",
      "        else:\n",
      "            return x\n",
      "    elif isinstance(x, numbers.Complex):\n",
      "        return math.sqrt(\n",
      "            x.real ** 2 + x.imag ** 2)\n",
      "    else:\n",
      "        return math.nan\n",
      "\n",
      "def my_almost_eq(x, y):\n",
      "    return my_abs(x - y) < 1e-16\n",
      "\n"
     ]
    }
   ],
   "source": [
    "cat my_abs.py"
   ]
  },
  {
   "cell_type": "markdown",
   "id": "0f783365",
   "metadata": {},
   "source": [
    "# Branches and remotes"
   ]
  },
  {
   "cell_type": "code",
   "execution_count": 69,
   "id": "0f7b36a4",
   "metadata": {},
   "outputs": [
    {
     "name": "stdout",
     "output_type": "stream",
     "text": [
      "*   \u001b[33m0dfda78\u001b[m\u001b[33m (\u001b[m\u001b[1;36mHEAD -> \u001b[m\u001b[1;32mmain\u001b[m\u001b[33m)\u001b[m Merge branch 'almost-eq'\n",
      "\u001b[31m|\u001b[m\u001b[32m\\\u001b[m  \n",
      "\u001b[31m|\u001b[m * \u001b[33m557e440\u001b[m\u001b[33m (\u001b[m\u001b[1;32malmost-eq\u001b[m\u001b[33m)\u001b[m Added my_almost_eq\n",
      "* \u001b[32m|\u001b[m \u001b[33m864205a\u001b[m\u001b[33m (\u001b[m\u001b[1;32mtypes\u001b[m\u001b[33m)\u001b[m Using type checks\n",
      "\u001b[32m|\u001b[m\u001b[32m/\u001b[m  \n",
      "* \u001b[33mc3c4498\u001b[m\u001b[33m (\u001b[m\u001b[1;31morigin/main\u001b[m\u001b[33m)\u001b[m Added try/except\n",
      "* \u001b[33m02b19f4\u001b[m First commit of my_abs (no try/except yet)\n"
     ]
    }
   ],
   "source": [
    "git log --oneline --graph --branches --remotes "
   ]
  },
  {
   "cell_type": "code",
   "execution_count": 70,
   "id": "24b22605",
   "metadata": {},
   "outputs": [
    {
     "name": "stdout",
     "output_type": "stream",
     "text": [
      "Enumerating objects: 11, done.\n",
      "Counting objects: 100% (11/11), done.\n",
      "Delta compression using up to 12 threads\n",
      "Compressing objects: 100% (9/9), done.\n",
      "Writing objects: 100% (9/9), 1018 bytes | 509.00 KiB/s, done.\n",
      "Total 9 (delta 3), reused 0 (delta 0), pack-reused 0\n",
      "remote: Resolving deltas: 100% (3/3), completed with 1 local object.\u001b[K\n",
      "To github.com:GeorgeBurdell/git-workflow.git\n",
      "   c3c4498..0dfda78  main -> main\n"
     ]
    }
   ],
   "source": [
    "git push"
   ]
  },
  {
   "cell_type": "code",
   "execution_count": 71,
   "id": "c077e8cc",
   "metadata": {},
   "outputs": [
    {
     "name": "stdout",
     "output_type": "stream",
     "text": [
      "*   \u001b[33m0dfda78\u001b[m\u001b[33m (\u001b[m\u001b[1;36mHEAD -> \u001b[m\u001b[1;32mmain\u001b[m\u001b[33m, \u001b[m\u001b[1;31morigin/main\u001b[m\u001b[33m)\u001b[m Merge branch 'almost-eq'\n",
      "\u001b[31m|\u001b[m\u001b[32m\\\u001b[m  \n",
      "\u001b[31m|\u001b[m * \u001b[33m557e440\u001b[m\u001b[33m (\u001b[m\u001b[1;32malmost-eq\u001b[m\u001b[33m)\u001b[m Added my_almost_eq\n",
      "* \u001b[32m|\u001b[m \u001b[33m864205a\u001b[m\u001b[33m (\u001b[m\u001b[1;32mtypes\u001b[m\u001b[33m)\u001b[m Using type checks\n",
      "\u001b[32m|\u001b[m\u001b[32m/\u001b[m  \n",
      "* \u001b[33mc3c4498\u001b[m Added try/except\n",
      "* \u001b[33m02b19f4\u001b[m First commit of my_abs (no try/except yet)\n"
     ]
    }
   ],
   "source": [
    "git log --oneline --graph --branches --remotes "
   ]
  },
  {
   "cell_type": "markdown",
   "id": "61c338e3-8119-490d-8d96-d9caf3ed7cd6",
   "metadata": {},
   "source": [
    "<img src=\"img/branches-11.png\" width=\"500\" />"
   ]
  },
  {
   "cell_type": "markdown",
   "id": "0f294954",
   "metadata": {},
   "source": [
    "## Back to somewhere-else"
   ]
  },
  {
   "cell_type": "code",
   "execution_count": 72,
   "id": "44d43acf",
   "metadata": {},
   "outputs": [],
   "source": [
    "cd ~/somewhere-else/git-workflow"
   ]
  },
  {
   "cell_type": "code",
   "execution_count": 73,
   "id": "5d3de2dc",
   "metadata": {
    "jupyter": {
     "source_hidden": true
    }
   },
   "outputs": [
    {
     "name": "stdout",
     "output_type": "stream",
     "text": [
      "* \u001b[33m02b19f4\u001b[m\u001b[33m (\u001b[m\u001b[1;36mHEAD -> \u001b[m\u001b[1;32mmain\u001b[m\u001b[33m, \u001b[m\u001b[1;31morigin/main\u001b[m\u001b[33m, \u001b[m\u001b[1;31morigin/HEAD\u001b[m\u001b[33m)\u001b[m First commit of my_abs (no try/except yet)\n"
     ]
    }
   ],
   "source": [
    "git log --oneline --graph --branches --remotes "
   ]
  },
  {
   "cell_type": "markdown",
   "id": "ec662f84-b735-4f7a-9942-c135660a51a7",
   "metadata": {},
   "source": [
    "<img src=\"img/branches-12.png\" width=\"400\" />"
   ]
  },
  {
   "cell_type": "code",
   "execution_count": 74,
   "id": "a110a14b",
   "metadata": {},
   "outputs": [
    {
     "name": "stdout",
     "output_type": "stream",
     "text": [
      "def my_abs(x):\n",
      "    if x < 0:\n",
      "        return -x\n",
      "    else:\n",
      "        return x\n",
      "\n"
     ]
    }
   ],
   "source": [
    "cat my_abs.py"
   ]
  },
  {
   "cell_type": "code",
   "execution_count": 75,
   "id": "f3dd25cc",
   "metadata": {},
   "outputs": [
    {
     "name": "stdout",
     "output_type": "stream",
     "text": [
      "remote: Enumerating objects: 14, done.\u001b[K\n",
      "remote: Counting objects: 100% (14/14), done.\u001b[K\n",
      "remote: Compressing objects: 100% (9/9), done.\u001b[K\n",
      "remote: Total 12 (delta 3), reused 12 (delta 3), pack-reused 0\u001b[K\n",
      "Unpacking objects: 100% (12/12), 1.29 KiB | 55.00 KiB/s, done.\n",
      "From github.com:GeorgeBurdell/git-workflow\n",
      "   02b19f4..0dfda78  main       -> origin/main\n"
     ]
    }
   ],
   "source": [
    "git fetch"
   ]
  },
  {
   "cell_type": "code",
   "execution_count": 76,
   "id": "f17d2633",
   "metadata": {
    "jupyter": {
     "source_hidden": true
    }
   },
   "outputs": [
    {
     "name": "stdout",
     "output_type": "stream",
     "text": [
      "*   \u001b[33m0dfda78\u001b[m\u001b[33m (\u001b[m\u001b[1;31morigin/main\u001b[m\u001b[33m, \u001b[m\u001b[1;31morigin/HEAD\u001b[m\u001b[33m)\u001b[m Merge branch 'almost-eq'\n",
      "\u001b[31m|\u001b[m\u001b[32m\\\u001b[m  \n",
      "\u001b[31m|\u001b[m * \u001b[33m557e440\u001b[m Added my_almost_eq\n",
      "* \u001b[32m|\u001b[m \u001b[33m864205a\u001b[m Using type checks\n",
      "\u001b[32m|\u001b[m\u001b[32m/\u001b[m  \n",
      "* \u001b[33mc3c4498\u001b[m Added try/except\n",
      "* \u001b[33m02b19f4\u001b[m\u001b[33m (\u001b[m\u001b[1;36mHEAD -> \u001b[m\u001b[1;32mmain\u001b[m\u001b[33m)\u001b[m First commit of my_abs (no try/except yet)\n"
     ]
    }
   ],
   "source": [
    "git log --oneline --graph --branches --remotes "
   ]
  },
  {
   "cell_type": "markdown",
   "id": "71f647a8-19bf-48be-be5d-8fab1467a6c3",
   "metadata": {},
   "source": [
    "<img src=\"img/branches-13.png\" width=\"500\" />"
   ]
  },
  {
   "cell_type": "code",
   "execution_count": 77,
   "id": "7e2afebf",
   "metadata": {},
   "outputs": [
    {
     "name": "stdout",
     "output_type": "stream",
     "text": [
      "Updating 02b19f4..0dfda78\n",
      "Fast-forward\n",
      " my_abs.py | 18 \u001b[32m+++++++++++++++\u001b[m\u001b[31m---\u001b[m\n",
      " 1 file changed, 15 insertions(+), 3 deletions(-)\n"
     ]
    }
   ],
   "source": [
    "git merge origin/main"
   ]
  },
  {
   "cell_type": "code",
   "execution_count": 78,
   "id": "2c41fafd",
   "metadata": {
    "jupyter": {
     "source_hidden": true
    }
   },
   "outputs": [
    {
     "name": "stdout",
     "output_type": "stream",
     "text": [
      "*   \u001b[33m0dfda78\u001b[m\u001b[33m (\u001b[m\u001b[1;36mHEAD -> \u001b[m\u001b[1;32mmain\u001b[m\u001b[33m, \u001b[m\u001b[1;31morigin/main\u001b[m\u001b[33m, \u001b[m\u001b[1;31morigin/HEAD\u001b[m\u001b[33m)\u001b[m Merge branch 'almost-eq'\n",
      "\u001b[31m|\u001b[m\u001b[32m\\\u001b[m  \n",
      "\u001b[31m|\u001b[m * \u001b[33m557e440\u001b[m Added my_almost_eq\n",
      "* \u001b[32m|\u001b[m \u001b[33m864205a\u001b[m Using type checks\n",
      "\u001b[32m|\u001b[m\u001b[32m/\u001b[m  \n",
      "* \u001b[33mc3c4498\u001b[m Added try/except\n",
      "* \u001b[33m02b19f4\u001b[m First commit of my_abs (no try/except yet)\n"
     ]
    }
   ],
   "source": [
    "git log --oneline --graph --branches --remotes "
   ]
  },
  {
   "cell_type": "markdown",
   "id": "b5babdfd-ab69-4c52-ae45-3ee1a7fad7df",
   "metadata": {},
   "source": [
    "<img src=\"img/branches-14.png\" width=\"500\" />"
   ]
  },
  {
   "cell_type": "code",
   "execution_count": 79,
   "id": "d4a58bc1",
   "metadata": {},
   "outputs": [
    {
     "name": "stdout",
     "output_type": "stream",
     "text": [
      "import math\n",
      "import numbers\n",
      "\n",
      "def my_abs(x):\n",
      "    if isinstance(x, numbers.Real):\n",
      "        if x < 0:\n",
      "            return -x\n",
      "        else:\n",
      "            return x\n",
      "    elif isinstance(x, numbers.Complex):\n",
      "        return math.sqrt(\n",
      "            x.real ** 2 + x.imag ** 2)\n",
      "    else:\n",
      "        return math.nan\n",
      "\n",
      "def my_almost_eq(x, y):\n",
      "    return my_abs(x - y) < 1e-16\n",
      "\n"
     ]
    }
   ],
   "source": [
    "cat my_abs.py"
   ]
  }
 ],
 "metadata": {
  "celltoolbar": "Slideshow",
  "kernelspec": {
   "display_name": "Bash",
   "language": "bash",
   "name": "bash"
  },
  "language_info": {
   "codemirror_mode": "shell",
   "file_extension": ".sh",
   "mimetype": "text/x-sh",
   "name": "bash"
  }
 },
 "nbformat": 4,
 "nbformat_minor": 5
}
