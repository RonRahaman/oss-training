{
 "cells": [
  {
   "cell_type": "markdown",
   "id": "cb130dd5-bcf5-4260-9a92-2cd9cf007f94",
   "metadata": {},
   "source": [
    "* Issues\n",
    "* Pull Requests\n",
    "* Forks\n",
    "* The Fork-Pull Workflow"
   ]
  },
  {
   "cell_type": "markdown",
   "id": "a886500c-9d9f-4fc9-9df7-4d50026d0af5",
   "metadata": {},
   "source": [
    "# Issues\n",
    "* Using issues for feature requests, bug reports\n",
    "* Issues as a good starting point for OSS contributions\n",
    "* Integration with Pull Requests (how to link an issue to a PR, how to auto-close an Issue when a PR is accepted)\n",
    "* Using issues for project management\n",
    "* Refs: https://docs.github.com/en/issues/tracking-your-work-with-issues"
   ]
  },
  {
   "cell_type": "markdown",
   "id": "ad230560-1dfc-431a-a3ae-343b169ade00",
   "metadata": {},
   "source": [
    "<img src=\"img/numpy-issues-01.png\" width=\"600\" />"
   ]
  },
  {
   "cell_type": "markdown",
   "id": "52fb4be9-e552-4023-adc8-46f5145fed0a",
   "metadata": {},
   "source": [
    "<img src=\"img/numpy-issues-02.png\" width=\"600\" />"
   ]
  },
  {
   "attachments": {},
   "cell_type": "markdown",
   "id": "9c9e31f6-a021-44c0-a287-00a1efcdd522",
   "metadata": {},
   "source": [
    "When you create a issue, you are first prompted to chose they type of issue:  A bug report, a feature request, a documentation issue, and others\n",
    "\n",
    "<img src=\"img/numpy-issues-03.png\" width=\"600\" />"
   ]
  },
  {
   "cell_type": "markdown",
   "id": "d710f46b-3edb-478a-8f97-a501660db8df",
   "metadata": {},
   "source": [
    "Let's look at a bug request.  \n",
    "* Detailed instructions\n",
    "* Auto-populated with a **label**"
   ]
  },
  {
   "cell_type": "markdown",
   "id": "ab92b9b1-8e79-4e1d-b46e-f43160725056",
   "metadata": {},
   "source": [
    "<img src=\"img/numpy-issues-04.png\" width=\"600\" />"
   ]
  },
  {
   "cell_type": "markdown",
   "id": "1cdbedf8-9a80-4ade-81b6-bef5a5b30bbc",
   "metadata": {},
   "source": [
    "You can see issues with other labels:\n",
    "\n",
    "<img src=\"img/numpy-issues-05.png\" width=\"600\" />"
   ]
  },
  {
   "cell_type": "markdown",
   "id": "4b82d672-529e-4bb8-8fbc-7b723ba72dfd",
   "metadata": {},
   "source": [
    "NumPy uses many high-level GitHub features to manage the massive number of Issues.  Some differences you might see:\n",
    "\n",
    "* NumPy use the newer [Issue Forms](https://docs.github.com/en/communities/using-templates-to-encourage-useful-issues-and-pull-requests/configuring-issue-templates-for-your-repository#creating-issue-forms) feature but many repos use the simpler [Issue Templates](https://docs.github.com/en/communities/using-templates-to-encourage-useful-issues-and-pull-requests/configuring-issue-templates-for-your-repository#creating-issue-templates) feature\n",
    "\n",
    "The main thing that are the same are:\n",
    "* Labels\n",
    "* Assignees\n",
    "* Linking to a resolution"
   ]
  },
  {
   "cell_type": "markdown",
   "id": "a67c69a5-97e1-4bc9-ac21-8424791ad390",
   "metadata": {},
   "source": [
    "Let's look at these features in an existing Issue, [#26314](https://github.com/numpy/numpy/issues/26314)\n",
    "\n"
   ]
  },
  {
   "cell_type": "markdown",
   "id": "823eb584-d27b-4add-894f-648bd1547565",
   "metadata": {},
   "source": [
    "<img src=\"img/numpy-issues-06.png\" width=\"600\" />"
   ]
  },
  {
   "cell_type": "markdown",
   "id": "5a60a2bd-43b2-40c0-99c1-0b91cbaca3f5",
   "metadata": {},
   "source": [
    "<img src=\"img/numpy-issues-07.png\" width=\"400\" />"
   ]
  },
  {
   "cell_type": "code",
   "execution_count": null,
   "id": "d85d3525-3b32-4bd7-b3c1-b8a845a4609a",
   "metadata": {},
   "outputs": [],
   "source": []
  }
 ],
 "metadata": {
  "kernelspec": {
   "display_name": "",
   "name": ""
  },
  "language_info": {
   "name": ""
  }
 },
 "nbformat": 4,
 "nbformat_minor": 5
}
