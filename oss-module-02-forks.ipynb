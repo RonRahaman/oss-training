{
 "cells": [
  {
   "cell_type": "markdown",
   "id": "cb130dd5-bcf5-4260-9a92-2cd9cf007f94",
   "metadata": {},
   "source": [
    "* Issues\n",
    "* Pull Requests\n",
    "* Forks\n",
    "* The Fork-Pull Workflow"
   ]
  },
  {
   "cell_type": "markdown",
   "id": "a886500c-9d9f-4fc9-9df7-4d50026d0af5",
   "metadata": {},
   "source": [
    "# Issues\n",
    "* Using issues for feature requests, bug reports\n",
    "* Issues as a good starting point for OSS contributions\n",
    "* Integration with Pull Requests (how to link an issue to a PR, how to auto-close an Issue when a PR is accepted)\n",
    "* Using issues for project management\n",
    "* Refs: https://docs.github.com/en/issues/tracking-your-work-with-issues"
   ]
  },
  {
   "cell_type": "markdown",
   "id": "ad230560-1dfc-431a-a3ae-343b169ade00",
   "metadata": {},
   "source": [
    "<img src=\"img/numpy-issues-01.png\" width=\"600\" />"
   ]
  },
  {
   "cell_type": "markdown",
   "id": "52fb4be9-e552-4023-adc8-46f5145fed0a",
   "metadata": {},
   "source": [
    "<img src=\"img/numpy-issues-02.png\" width=\"600\" />"
   ]
  },
  {
   "attachments": {},
   "cell_type": "markdown",
   "id": "9c9e31f6-a021-44c0-a287-00a1efcdd522",
   "metadata": {},
   "source": [
    "When you create a issue, you are first prompted to chose they type of issue:  A bug report, a feature request, a documentation issue, and others\n",
    "\n",
    "<img src=\"img/numpy-issues-03.png\" width=\"600\" />"
   ]
  },
  {
   "cell_type": "markdown",
   "id": "d710f46b-3edb-478a-8f97-a501660db8df",
   "metadata": {},
   "source": [
    "Let's look at a bug request.  \n",
    "* Detailed instructions\n",
    "* Auto-populated with a **label**"
   ]
  },
  {
   "cell_type": "markdown",
   "id": "ab92b9b1-8e79-4e1d-b46e-f43160725056",
   "metadata": {},
   "source": [
    "<img src=\"img/numpy-issues-04.png\" width=\"600\" />"
   ]
  },
  {
   "cell_type": "markdown",
   "id": "1cdbedf8-9a80-4ade-81b6-bef5a5b30bbc",
   "metadata": {},
   "source": [
    "You can see issues with other labels:\n",
    "\n",
    "<img src=\"img/numpy-issues-05.png\" width=\"600\" />"
   ]
  },
  {
   "cell_type": "markdown",
   "id": "4b82d672-529e-4bb8-8fbc-7b723ba72dfd",
   "metadata": {},
   "source": [
    "NumPy uses many high-level GitHub features to manage the massive number of Issues.  Some differences you might see:\n",
    "\n",
    "* NumPy use the newer [Issue Forms](https://docs.github.com/en/communities/using-templates-to-encourage-useful-issues-and-pull-requests/configuring-issue-templates-for-your-repository#creating-issue-forms) feature but many repos use the simpler [Issue Templates](https://docs.github.com/en/communities/using-templates-to-encourage-useful-issues-and-pull-requests/configuring-issue-templates-for-your-repository#creating-issue-templates) feature\n",
    "\n",
    "The main thing that are the same are:\n",
    "* Labels\n",
    "* Assignees\n",
    "* Linking to a resolution"
   ]
  },
  {
   "cell_type": "markdown",
   "id": "a67c69a5-97e1-4bc9-ac21-8424791ad390",
   "metadata": {},
   "source": [
    "Let's look at these features in an existing Issue, [#26314](https://github.com/numpy/numpy/issues/26314)\n",
    "\n"
   ]
  },
  {
   "cell_type": "markdown",
   "id": "823eb584-d27b-4add-894f-648bd1547565",
   "metadata": {},
   "source": [
    "<img src=\"img/numpy-issues-06.png\" width=\"600\" />"
   ]
  },
  {
   "cell_type": "markdown",
   "id": "645993e7-421c-4727-a884-7451a9c466f7",
   "metadata": {},
   "source": [
    "This is attached to a pull request"
   ]
  },
  {
   "cell_type": "markdown",
   "id": "5a60a2bd-43b2-40c0-99c1-0b91cbaca3f5",
   "metadata": {},
   "source": [
    "<img src=\"img/numpy-issues-07.png\" width=\"400\" />"
   ]
  },
  {
   "cell_type": "markdown",
   "id": "63fd790b-54e7-4fa9-baca-585279e3f82a",
   "metadata": {},
   "source": [
    "Some projects have labels for a good first issue:\n",
    "\n",
    "https://github.com/pandas-dev/pandas/labels/good%20first%20issue"
   ]
  },
  {
   "cell_type": "markdown",
   "id": "34b9a3af-9d1f-4d22-9124-9b4bbb4a14e6",
   "metadata": {},
   "source": [
    "Pull requests\n",
    "* How big should a PR be (lines of code, scope, …)\n",
    "* What should you write in the PR description?\n",
    "* How are PRs reviewed?\n",
    "* Refs:\n",
    "  * https://opensource.com/article/18/6/anatomy-perfect-pull-request\n",
    "  * https://docs.github.com/en/pull-requests/collaborating-with-pull-requests/getting-started/best-practices-for-pull-requests\n",
    "  * https://github.blog/2015-01-21-how-to-write-the-perfect-pull-request/"
   ]
  },
  {
   "cell_type": "markdown",
   "id": "3a43ec2c-8d57-41c9-ab3b-5d4675f9c4ea",
   "metadata": {},
   "source": [
    "# Pull Requests"
   ]
  },
  {
   "cell_type": "markdown",
   "id": "3556b33a-c1d0-4fcb-8a22-1f32c1531f67",
   "metadata": {},
   "source": [
    "* A pull request is a proposal to merge a set of changes from one branch into another.\n",
    "* In a pull request, collaborators can review and discuss the proposed set of changes before they integrate the changes into the main codebase.\n",
    "\n",
    "* https://docs.github.com/en/pull-requests/collaborating-with-pull-requests/proposing-changes-to-your-work-with-pull-requests/about-pull-requests\n",
    "\n",
    "In Module 1, we talked about how to merge topic branches into main in a **local working copy** of a repo.  Pull Requests are a way to merge branches in a **remote** repo.  \n",
    "\n",
    "The Pull Request is a **proposal** that is intended to initiate a conversation with the project maintainers.  The merge does not automatically happen *until* a human completes it. Submitting a PR can additionally trigger automated testing.  The repo is often configured with controls based on:\n",
    "* Require a review from designated reviewer(s) before merging\n",
    "* Require all tests to pass before merging\n",
    "\n"
   ]
  },
  {
   "cell_type": "markdown",
   "id": "e77ce900-703a-4071-8af1-c6f127bba03a",
   "metadata": {},
   "source": [
    "Returning to our Issue on NumPy, let's look at the associated PR\n",
    "\n",
    "<img src=\"img/numpy-pr-01.png\" width=\"400\" />"
   ]
  },
  {
   "cell_type": "markdown",
   "id": "1397d4ed-10b8-41b6-8aeb-07db324feee4",
   "metadata": {},
   "source": [
    "* Submitter is requesting to merge the topic branch `mtsokol:printoptions-contextvar` into the branch `numpy:main`\n",
    "* They have linked  it to an Issue by using \"Issue #26314\".  This is not required, but it can be extremely helpful for managing your project.  See https://docs.github.com/en/issues/tracking-your-work-with-issues/linking-a-pull-request-to-an-issue\n",
    "* Another developer has been assigned to review it\n",
    "* You can click on \"Files changed\" to see the diff (usual format for diffs)"
   ]
  },
  {
   "cell_type": "markdown",
   "id": "548ff0a1-3dfa-4bc2-9f10-ecc1436e82f3",
   "metadata": {},
   "source": [
    "<img src=\"img/numpy-pr-02.png\" width=\"400\" />\n",
    "\n",
    "Reviews can be very detailed with inline conversation threads"
   ]
  },
  {
   "cell_type": "markdown",
   "id": "efae8ace-9762-467d-a0e0-f0eb7ec4a8ca",
   "metadata": {},
   "source": [
    "<img src=\"img/numpy-pr-03.png\" width=\"400\" />\n",
    "\n",
    "This repo has automated tests.  This repo has code quality tests (like a linter), static analyis tools (mypy) and tests for the actual functionality."
   ]
  },
  {
   "cell_type": "code",
   "execution_count": null,
   "id": "08da6e3c-dc71-49d8-9714-e2dce3e664b0",
   "metadata": {},
   "outputs": [],
   "source": []
  }
 ],
 "metadata": {
  "kernelspec": {
   "display_name": "Python 3 (ipykernel)",
   "language": "python",
   "name": "python3"
  },
  "language_info": {
   "codemirror_mode": {
    "name": "ipython",
    "version": 3
   },
   "file_extension": ".py",
   "mimetype": "text/x-python",
   "name": "python",
   "nbconvert_exporter": "python",
   "pygments_lexer": "ipython3",
   "version": "3.12.3"
  }
 },
 "nbformat": 4,
 "nbformat_minor": 5
}
