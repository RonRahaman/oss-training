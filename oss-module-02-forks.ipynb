{
 "cells": [
  {
   "cell_type": "markdown",
   "id": "cb130dd5-bcf5-4260-9a92-2cd9cf007f94",
   "metadata": {},
   "source": [
    "* Issues\n",
    "* Pull Requests\n",
    "* Forks\n",
    "* The Fork-Pull Workflow"
   ]
  },
  {
   "cell_type": "markdown",
   "id": "a886500c-9d9f-4fc9-9df7-4d50026d0af5",
   "metadata": {},
   "source": [
    "# Issues\n",
    "* Using issues for feature requests, bug reports\n",
    "* Issues as a good starting point for OSS contributions\n",
    "* Integration with Pull Requests (how to link an issue to a PR, how to auto-close an Issue when a PR is accepted)\n",
    "* Using issues for project management\n",
    "* Refs: https://docs.github.com/en/issues/tracking-your-work-with-issues"
   ]
  },
  {
   "cell_type": "markdown",
   "id": "ad230560-1dfc-431a-a3ae-343b169ade00",
   "metadata": {},
   "source": [
    "<img src=\"img/numpy-issues-01.png\" width=\"600\" />"
   ]
  },
  {
   "cell_type": "markdown",
   "id": "52fb4be9-e552-4023-adc8-46f5145fed0a",
   "metadata": {},
   "source": [
    "<img src=\"img/numpy-issues-02.png\" width=\"600\" />"
   ]
  },
  {
   "attachments": {},
   "cell_type": "markdown",
   "id": "9c9e31f6-a021-44c0-a287-00a1efcdd522",
   "metadata": {},
   "source": [
    "When you create a issue, you are first prompted to chose they type of issue:  A bug report, a feature request, a documentation issue, and others\n",
    "\n",
    "<img src=\"img/numpy-issues-03.png\" width=\"600\" />"
   ]
  },
  {
   "cell_type": "markdown",
   "id": "d710f46b-3edb-478a-8f97-a501660db8df",
   "metadata": {},
   "source": [
    "Let's look at a bug request.  \n",
    "* Detailed instructions\n",
    "* Auto-populated with a **label**"
   ]
  },
  {
   "cell_type": "markdown",
   "id": "ab92b9b1-8e79-4e1d-b46e-f43160725056",
   "metadata": {},
   "source": [
    "<img src=\"img/numpy-issues-04.png\" width=\"600\" />"
   ]
  },
  {
   "cell_type": "markdown",
   "id": "1cdbedf8-9a80-4ade-81b6-bef5a5b30bbc",
   "metadata": {},
   "source": [
    "You can see issues with other labels:\n",
    "\n",
    "<img src=\"img/numpy-issues-05.png\" width=\"600\" />"
   ]
  },
  {
   "cell_type": "markdown",
   "id": "4b82d672-529e-4bb8-8fbc-7b723ba72dfd",
   "metadata": {},
   "source": [
    "NumPy uses many high-level GitHub features to manage the massive number of Issues.  Some differences you might see:\n",
    "\n",
    "* NumPy use the newer [Issue Forms](https://docs.github.com/en/communities/using-templates-to-encourage-useful-issues-and-pull-requests/configuring-issue-templates-for-your-repository#creating-issue-forms) feature but many repos use the simpler [Issue Templates](https://docs.github.com/en/communities/using-templates-to-encourage-useful-issues-and-pull-requests/configuring-issue-templates-for-your-repository#creating-issue-templates) feature\n",
    "\n",
    "The main thing that are the same are:\n",
    "* Labels\n",
    "* Assignees\n",
    "* Linking to a resolution"
   ]
  },
  {
   "cell_type": "markdown",
   "id": "a67c69a5-97e1-4bc9-ac21-8424791ad390",
   "metadata": {},
   "source": [
    "Let's look at these features in an existing Issue, [#26314](https://github.com/numpy/numpy/issues/26314)\n",
    "\n"
   ]
  },
  {
   "cell_type": "markdown",
   "id": "823eb584-d27b-4add-894f-648bd1547565",
   "metadata": {},
   "source": [
    "<img src=\"img/numpy-issues-06.png\" width=\"600\" />"
   ]
  },
  {
   "cell_type": "markdown",
   "id": "645993e7-421c-4727-a884-7451a9c466f7",
   "metadata": {},
   "source": [
    "This is attached to a pull request"
   ]
  },
  {
   "cell_type": "markdown",
   "id": "5a60a2bd-43b2-40c0-99c1-0b91cbaca3f5",
   "metadata": {},
   "source": [
    "<img src=\"img/numpy-issues-07.png\" width=\"400\" />"
   ]
  },
  {
   "cell_type": "markdown",
   "id": "63fd790b-54e7-4fa9-baca-585279e3f82a",
   "metadata": {},
   "source": [
    "Some projects have labels for a good first issue:\n",
    "\n",
    "https://github.com/pandas-dev/pandas/labels/good%20first%20issue"
   ]
  },
  {
   "cell_type": "markdown",
   "id": "34b9a3af-9d1f-4d22-9124-9b4bbb4a14e6",
   "metadata": {},
   "source": [
    "Pull requests\n",
    "* How big should a PR be (lines of code, scope, …)\n",
    "* What should you write in the PR description?\n",
    "* How are PRs reviewed?\n",
    "* Refs:\n",
    "  * https://opensource.com/article/18/6/anatomy-perfect-pull-request\n",
    "  * https://docs.github.com/en/pull-requests/collaborating-with-pull-requests/getting-started/best-practices-for-pull-requests\n",
    "  * https://github.blog/2015-01-21-how-to-write-the-perfect-pull-request/"
   ]
  },
  {
   "cell_type": "markdown",
   "id": "3a43ec2c-8d57-41c9-ab3b-5d4675f9c4ea",
   "metadata": {},
   "source": [
    "# Pull Requests"
   ]
  },
  {
   "cell_type": "markdown",
   "id": "3556b33a-c1d0-4fcb-8a22-1f32c1531f67",
   "metadata": {},
   "source": [
    "* A pull request is a proposal to merge a set of changes from one branch into another.\n",
    "* In a pull request, collaborators can review and discuss the proposed set of changes before they integrate the changes into the main codebase.\n",
    "\n",
    "* https://docs.github.com/en/pull-requests/collaborating-with-pull-requests/proposing-changes-to-your-work-with-pull-requests/about-pull-requests\n",
    "\n",
    "In Module 1, we talked about how to merge topic branches into main in a **local working copy** of a repo.  Pull Requests are a way to merge branches in a **remote** repo.  \n",
    "\n",
    "The Pull Request is a **proposal** that is intended to initiate a conversation with the project maintainers.  The merge does not automatically happen *until* a human completes it. Submitting a PR can additionally trigger automated testing.  The repo is often configured with controls based on:\n",
    "* Require a review from designated reviewer(s) before merging\n",
    "* Require all tests to pass before merging\n",
    "\n"
   ]
  },
  {
   "cell_type": "markdown",
   "id": "e77ce900-703a-4071-8af1-c6f127bba03a",
   "metadata": {},
   "source": [
    "Returning to our Issue on NumPy, let's look at the associated PR\n",
    "\n",
    "<img src=\"img/numpy-pr-01.png\" width=\"400\" />"
   ]
  },
  {
   "cell_type": "markdown",
   "id": "1397d4ed-10b8-41b6-8aeb-07db324feee4",
   "metadata": {},
   "source": [
    "* Submitter is requesting to merge the topic branch `mtsokol:printoptions-contextvar` into the branch `numpy:main`\n",
    "* They have linked  it to an Issue by using \"Issue #26314\".  This is not required, but it can be extremely helpful for managing your project.  See https://docs.github.com/en/issues/tracking-your-work-with-issues/linking-a-pull-request-to-an-issue\n",
    "* Another developer has been assigned to review it\n",
    "* You can click on \"Files changed\" to see the diff (usual format for diffs)"
   ]
  },
  {
   "cell_type": "markdown",
   "id": "548ff0a1-3dfa-4bc2-9f10-ecc1436e82f3",
   "metadata": {},
   "source": [
    "<img src=\"img/numpy-pr-02.png\" width=\"400\" />\n",
    "\n",
    "Reviews can be very detailed with inline conversation threads"
   ]
  },
  {
   "cell_type": "markdown",
   "id": "efae8ace-9762-467d-a0e0-f0eb7ec4a8ca",
   "metadata": {},
   "source": [
    "<img src=\"img/numpy-pr-03.png\" width=\"400\" />\n",
    "\n",
    "This repo has automated tests.  This repo has code quality tests (like a linter), static analyis tools (mypy) and tests for the actual functionality."
   ]
  },
  {
   "cell_type": "markdown",
   "id": "f41d566c-9797-4aa5-b0ae-bfd4a58ca602",
   "metadata": {},
   "source": [
    "# Forks\n",
    "* Why is forking useful?\n",
    "* How do you manage your fork?  \n",
    "* Using multiple remotes (origin, upstream, etc)\n",
    "* Keeping fork up-to-date with upstream (fetching and merging from different remote tracking branches)\n",
    "* Mention that some projects (esp. smaller teams and private repos) might keep all topic branches on the main repo (without forks)\n",
    "* Refs:\n",
    "https://docs.github.com/en/pull-requests/collaborating-with-pull-requests/working-with-forks"
   ]
  },
  {
   "cell_type": "markdown",
   "id": "f006b039-4c2c-4479-adf1-20ca29d89f0a",
   "metadata": {},
   "source": [
    "Forks let you make changes to a project without affecting the original repository, also known as the \"upstream\" repository. After you fork a repository, you can fetch updates from the upstream repository to keep your fork up to date, and you can propose changes from your fork to the upstream repository with pull requests. A fork can be owned by either a personal account or an organization.\n",
    "\n",
    "https://docs.github.com/en/pull-requests/collaborating-with-pull-requests/working-with-forks/about-forks"
   ]
  },
  {
   "cell_type": "markdown",
   "id": "b1fd34ac-6f88-441e-9d6b-f29a2bd6424e",
   "metadata": {},
   "source": [
    "# Creating a fork"
   ]
  },
  {
   "cell_type": "markdown",
   "id": "c2a949f6-55a5-4703-983e-8e026eb0c9f8",
   "metadata": {},
   "source": [
    "Start from:  https://github.com/gt-ospo/summer-internship-program\n",
    "* Owned by the organization `gt-ospo`\n",
    "\n",
    "<img src=\"img/gt-ospo-fork-01.png\" width=\"400\" />\n"
   ]
  },
  {
   "cell_type": "markdown",
   "id": "2a44d423-839a-453d-a633-298aa5e31fa1",
   "metadata": {},
   "source": [
    "<img src=\"img/gt-ospo-fork-02.png\" width=\"400\" />"
   ]
  },
  {
   "cell_type": "markdown",
   "id": "18dbd9ac-f5a1-44b3-8455-6e2ab3f962d9",
   "metadata": {},
   "source": [
    "* Creating this in my personal account (could be another org\n",
    "* Getting all the branches (I like to do this, but might not want to do that if there are a whole bunch of branches)"
   ]
  },
  {
   "cell_type": "markdown",
   "id": "c333c191-ab22-4973-8e39-a7bffccdd1d0",
   "metadata": {},
   "source": [
    "<img src=\"img/gt-ospo-fork-03.png\" width=\"400\" />\n",
    "\n",
    "Now I have my own repo at:  https://github.com/RonRahaman/summer-internship-program\n",
    "Share a history with the upstream"
   ]
  },
  {
   "cell_type": "markdown",
   "id": "45617687-487c-4173-a32e-59f9b21fb1ab",
   "metadata": {},
   "source": [
    "At this point, I can clone my fork as usual:"
   ]
  },
  {
   "cell_type": "code",
   "execution_count": null,
   "id": "68627070-b642-4430-ad5d-20d51581c985",
   "metadata": {},
   "outputs": [],
   "source": [
    "git clone git@github.com:RonRahaman/summer-internship-program.git"
   ]
  },
  {
   "cell_type": "code",
   "execution_count": null,
   "id": "618fe02b-8727-42c1-a1d1-8195fa739868",
   "metadata": {},
   "outputs": [],
   "source": [
    "cd summer-internship-program"
   ]
  },
  {
   "cell_type": "markdown",
   "id": "c3e40fc9-86cd-4162-b079-369329b5bdae",
   "metadata": {},
   "source": [
    "In my working copy, I my fork is named \"origin\""
   ]
  },
  {
   "cell_type": "code",
   "execution_count": null,
   "id": "598d219b-8456-451a-aef5-316561825a06",
   "metadata": {},
   "outputs": [],
   "source": [
    "git remote -v"
   ]
  },
  {
   "cell_type": "markdown",
   "id": "775a65df-9933-4084-90fb-880164adc0ce",
   "metadata": {},
   "source": [
    "Now, I will add the original repo as an upstream.  \n",
    "\n",
    "Recall that we can use the command `git remote add NAME URL` to add a new remote.  The NAME can be anything and doesn't affect GitHub.  But to keep myself sane, I'll follow the widespread convention that the original repo is named \"upstream\""
   ]
  },
  {
   "cell_type": "code",
   "execution_count": null,
   "id": "0354c8a7-81ce-4c62-86fe-0bda1563c993",
   "metadata": {},
   "outputs": [],
   "source": [
    "git remote add upstream git@github.com:gt-ospo/summer-internship-program.git"
   ]
  },
  {
   "cell_type": "markdown",
   "id": "8c053892-235a-45a0-b6d5-dd67353fc122",
   "metadata": {},
   "source": [
    "Now we can see both remotes:"
   ]
  },
  {
   "cell_type": "code",
   "execution_count": null,
   "id": "01af79d9-97c0-4876-b686-91fb930fdc6d",
   "metadata": {},
   "outputs": [],
   "source": [
    "git remote -v"
   ]
  },
  {
   "cell_type": "markdown",
   "id": "95a5ab41-31d7-48ac-9e7d-421842a5eb5b",
   "metadata": {},
   "source": [
    "But at this point, you will only see remote tracking branches from \"origin\".  Recall that `origin/main` shows the known status of the branch \"main\" on the remote \"origin\""
   ]
  },
  {
   "cell_type": "code",
   "execution_count": null,
   "id": "ca5c6fb9-6af4-4026-a212-4117524ec922",
   "metadata": {},
   "outputs": [],
   "source": [
    "git log --remotes --oneline"
   ]
  },
  {
   "cell_type": "markdown",
   "id": "9713af28-2055-476a-90d7-3e74a90da082",
   "metadata": {},
   "source": [
    "To get this remote tracking info, we use `git fetch`.  Recall that `git fetch` will update our remote tracking branches.  We could use `git fetch upstream` to fetch remote tracking branches from upstream.  We can also use `git fetch --all` if we want to fetch from all our remotes at once.  "
   ]
  },
  {
   "cell_type": "code",
   "execution_count": null,
   "id": "fc3fe7bc-d2ff-4b1a-a7d8-10d47f67ed46",
   "metadata": {},
   "outputs": [],
   "source": [
    "git fetch upstream"
   ]
  },
  {
   "cell_type": "markdown",
   "id": "f095b017-4d9f-410a-bd98-b7cc1f2bb04b",
   "metadata": {},
   "source": [
    "Now we can see that we have remote tracking branches for upstream, too.  Note that `origin/main`, `upstream/main`, and `main` are all in the same place now."
   ]
  },
  {
   "cell_type": "markdown",
   "id": "bf432a03-0286-42e9-b2a5-bcd0291d73d4",
   "metadata": {},
   "source": [
    "I'm going to make a change to `README.md`, then commit and push it to my fork."
   ]
  },
  {
   "cell_type": "code",
   "execution_count": null,
   "id": "06e24996-1b74-40e1-a0c7-d33cbb82d8bc",
   "metadata": {},
   "outputs": [],
   "source": [
    "git checkout -b module02-training"
   ]
  },
  {
   "cell_type": "code",
   "execution_count": null,
   "id": "38819fcf-dd41-483e-a531-762cf94b9f67",
   "metadata": {},
   "outputs": [],
   "source": [
    "git add README.md"
   ]
  },
  {
   "cell_type": "code",
   "execution_count": null,
   "id": "523a5f5c-02e3-4ef5-bd77-fa1e776aad90",
   "metadata": {},
   "outputs": [],
   "source": [
    "git commit -m \"RR: Correct hyphen in 'open-source'\""
   ]
  },
  {
   "cell_type": "code",
   "execution_count": null,
   "id": "b7a251f1-897d-4663-aa2b-9396a62984c3",
   "metadata": {},
   "outputs": [],
   "source": [
    "git push -u origin module02-training"
   ]
  },
  {
   "cell_type": "markdown",
   "id": "d20edb87-6b1b-4142-bb8f-224f1b358de7",
   "metadata": {},
   "source": [
    "Now I will begin the process of submitting a pull request."
   ]
  },
  {
   "cell_type": "markdown",
   "id": "c99e041d-ad5f-48f1-8940-a008d00999ac",
   "metadata": {},
   "source": [
    "After it's complete, let's go back to our working copy and check on our branches.  As we'd expect, the remote tracking branches are *not* yet up-to-date since we haven't explicitly fetched them"
   ]
  },
  {
   "cell_type": "code",
   "execution_count": null,
   "id": "2322b4f8-1db6-4518-a4b4-020a22cc10d1",
   "metadata": {},
   "outputs": [],
   "source": [
    "git log --remotes --oneline"
   ]
  },
  {
   "cell_type": "markdown",
   "id": "fe63edd8-9437-4909-9f19-58410beda756",
   "metadata": {},
   "source": [
    "Let's go ahead and fetch all our remotes"
   ]
  },
  {
   "cell_type": "code",
   "execution_count": null,
   "id": "82638245-b803-4649-bb91-71a275aa8828",
   "metadata": {},
   "outputs": [],
   "source": [
    "git fetch -all"
   ]
  },
  {
   "cell_type": "markdown",
   "id": "905d05d7-5665-40c2-b26d-2b45316daef1",
   "metadata": {},
   "source": [
    "And we can see that `upstream/main` is up-to-date.  But notice that `origin/main` and `main` do not have the merge.  The PR didn't affect them at all.  How do we fix it?"
   ]
  },
  {
   "cell_type": "code",
   "execution_count": null,
   "id": "e1aea23c-fa26-4e23-926e-7cd71a757720",
   "metadata": {},
   "outputs": [],
   "source": [
    "git log --remotes --oneline"
   ]
  },
  {
   "cell_type": "markdown",
   "id": "367f240f-5e78-4f12-8e36-873ad674c254",
   "metadata": {},
   "source": [
    "This is one process that just relies on Git (not any GitHub-specific features).  As such, it will work on GitHub, Bitbucket, etc.  It is described at https://docs.github.com/en/pull-requests/collaborating-with-pull-requests/working-with-forks/syncing-a-fork#syncing-a-fork-branch-from-the-command-line \n",
    "1. Pull \"main\" from upstream"
   ]
  },
  {
   "cell_type": "code",
   "execution_count": null,
   "id": "9c603d6e-152f-4d6d-8562-52bdb2f92597",
   "metadata": {},
   "outputs": [],
   "source": [
    "git checkout main"
   ]
  },
  {
   "cell_type": "code",
   "execution_count": null,
   "id": "26b515a3-b1b0-42a9-802f-9c8421962fd8",
   "metadata": {},
   "outputs": [],
   "source": [
    "git pull upstream main"
   ]
  },
  {
   "cell_type": "markdown",
   "id": "b0ef4752-aa71-40e5-a4d5-bd3b656e78e0",
   "metadata": {},
   "source": [
    "2. Then push main to origin"
   ]
  },
  {
   "cell_type": "code",
   "execution_count": null,
   "id": "e4aa8447-0213-4878-81a1-a9e0cd111965",
   "metadata": {},
   "outputs": [],
   "source": [
    "git push origin main"
   ]
  },
  {
   "cell_type": "markdown",
   "id": "06c47693-a329-46bf-9000-92af47cd1ccf",
   "metadata": {},
   "source": [
    "GitHub additionally has a way to sync forks from the web UI:  https://docs.github.com/en/pull-requests/collaborating-with-pull-requests/working-with-forks/syncing-a-fork#syncing-a-fork-branch-from-the-web-ui "
   ]
  },
  {
   "cell_type": "code",
   "execution_count": null,
   "id": "c925a306-1287-4857-8386-80b38dd916da",
   "metadata": {},
   "outputs": [],
   "source": []
  }
 ],
 "metadata": {
  "kernelspec": {
   "display_name": "Bash",
   "language": "bash",
   "name": "bash"
  },
  "language_info": {
   "codemirror_mode": "shell",
   "file_extension": ".sh",
   "mimetype": "text/x-sh",
   "name": "bash"
  }
 },
 "nbformat": 4,
 "nbformat_minor": 5
}
