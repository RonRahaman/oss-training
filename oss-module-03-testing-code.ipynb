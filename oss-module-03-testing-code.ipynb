{
  "cells": [
    {
      "cell_type": "markdown",
      "source": [
        "# Testing: What, Why and How To"
      ],
      "metadata": {
        "collapsed": false,
        "id": "3bb47eff3a262dce"
      },
      "id": "3bb47eff3a262dce"
    },
    {
      "cell_type": "markdown",
      "source": [
        "## The Many Types of [Software] Tests\n",
        "\n",
        "There are many types of tests broadly divided into two categories:\n",
        "\n",
        "* **functional testing** ⬜ 📜 testing the functionality\n",
        "* **non-functional testing** 💣 🔨 testing the system as a whole without regard for intended functionality\n",
        "\n",
        "Another dimension you can categorize tests by is whether they are:\n",
        "* **automated** 🤖\n",
        "* or **manual** 🧑\n",
        "\n",
        "The specific categories of tests you will most likely see out in the wild include:\n",
        "\n",
        "* **unit** testing (atomic functionality)\n",
        "* **integration** testing (interrelated functionality)\n",
        "* **user acceptance** testing (does it fulfill the user contract)\n",
        "* **compliance** testing (does it comply with prescribed regulations)\n",
        "* **end-to-end** testing (full user/system workflows)\n",
        "* **usability** testing (human friendly)\n",
        "* **accessibility** testing (disability friendly)\n",
        "* **load** testing (regular traffic)\n",
        "* **stress** testing (worst case traffic)\n",
        "* **penetration** testing (hackers)\n",
        "* **fuzz** testing (random inputs)"
      ],
      "metadata": {
        "collapsed": false,
        "id": "34a69328ea7acb4e"
      },
      "id": "34a69328ea7acb4e"
    },
    {
      "cell_type": "markdown",
      "source": [
        "#### We will be focusing on functional, automated, **unit tests**."
      ],
      "metadata": {
        "id": "oOsw2ccf8n6t"
      },
      "id": "oOsw2ccf8n6t"
    },
    {
      "cell_type": "markdown",
      "source": [
        "## Why should we take the time to write automated tests?\n",
        "\n",
        "Testing is a fundamental practice in software development. It allows us to:\n",
        "\n",
        "* Tests provide **documentation** 📜 of how our code is supposed to work for collaborators and for our future selves\n",
        "\n",
        "* Tests help **engineers onboard into established codebases** without anxiety 😬 🙈\n",
        "\n",
        "* Regular testing helps maintain the reliability and stability of our codebase so that we can **confidently expand** our projects without time wasted tracking down regressions\n",
        "\n",
        "* Ensure code quality by **catching bugs 🐛 early** and keeping them **out of production** 🚨"
      ],
      "metadata": {
        "id": "nDynVot36kMs"
      },
      "id": "nDynVot36kMs"
    },
    {
      "cell_type": "markdown",
      "source": [
        " There are **many languages** out there. We have to choose one, so we'll use Python here. The **high level concepts and features of our testing framework** are **fairly universal**."
      ],
      "metadata": {
        "id": "3UG2YSpyV0Yv"
      },
      "id": "3UG2YSpyV0Yv"
    },
    {
      "cell_type": "markdown",
      "source": [
        "## The pytest Testing Framework\n",
        "\n",
        "`unittest` is baked in to Python, but we'll be using [pytest](https://realpython.com/pytest-python-testing/)  \n",
        "- less setup\n",
        "- simple syntax\n",
        "- large ecosystem of [plugins](https://pytest.org/en/stable/reference/plugin_list.html)\n",
        "\n",
        "- auto-finds tests, just as long as you make sure your test files and functions start with `test_`!"
      ],
      "metadata": {
        "id": "5m9YOkdepjra"
      },
      "id": "5m9YOkdepjra"
    },
    {
      "cell_type": "markdown",
      "source": [
        "## Test-Driven Development\n",
        "\n",
        "Test-Driven Development (TDD) is an iterative software development approach that encourages writing tests before writing the actual code.\n",
        "\n",
        "### Fail Fast 💣 🚀\n",
        "\n",
        "Writing the test first makes you stop to **carefully consider** what a function really needs to do. You're writing a specification, otherwise referred to as a requirements document, before you write your \"real\" code.\n",
        "\n",
        "You will sometimes see the TDD cycle referred to as:\n",
        "\n",
        "### 🔴🟢🔄 Red Green Refactor\n",
        "\n",
        "1. 🔴 **Write** a test that defines the expected behavior and outcomes of the function\n",
        "2. 🔴 **Run** the test and see that it fails because there's no functionality defined yet\n",
        "3. 🟢 **Write** the minimum code to pass the test\n",
        "4. 🟢 **Run** the test... see that it succeeds (if it fails... keep at it!)\n",
        "5. 🔄 **Check** over your function and your test, make any **tweaks** to make the code better or more descriptive/self-documenting/faster\n",
        "\n",
        "**Cycle** between tweaking the function and running the test until the test passes and you are happy with the functionality and the test code.\n",
        "\n",
        "Working in this way forces you to be **intentional** about the code you write and to really think through what the inputs and outputs should be. It also prevents the inevitable headache of debugging an **\"over-engineered\" monolith** of code... which is extremely demoralizing.\n",
        "\n",
        "The resulting code will be more **modular** and decoupled, making it more **reusable**. You'll find your code being used by other engineers because your test-covered, self-documenting functions are consistently reliable."
      ],
      "metadata": {
        "collapsed": false,
        "id": "307ad7c221d26da8"
      },
      "id": "307ad7c221d26da8"
    },
    {
      "cell_type": "markdown",
      "source": [
        "### First Unit Test\n",
        "\n",
        "We're going to write some utility functions for working with grades. First lets set up our environment."
      ],
      "metadata": {
        "collapsed": false,
        "id": "1a6908ba43b63307"
      },
      "id": "1a6908ba43b63307"
    },
    {
      "cell_type": "code",
      "outputs": [],
      "source": [
        "%%bash\n",
        "# set up code directory\n",
        "mkdir -p gradebook\n",
        "\n",
        "# colab will complain later without this\n",
        "apt install python3.10-venv"
      ],
      "metadata": {
        "ExecuteTime": {
          "end_time": "2024-06-02T19:03:00.526096Z",
          "start_time": "2024-06-02T19:03:00.522455Z"
        },
        "id": "cc5b253ff18d75a3"
      },
      "id": "cc5b253ff18d75a3",
      "execution_count": null
    },
    {
      "cell_type": "code",
      "source": [
        "# set up python\n",
        "!python3 -m venv venv\n",
        "!source venv/bin/activate\n",
        "!python3 -m pip install pytest"
      ],
      "metadata": {
        "id": "gDfhxjerYIOg"
      },
      "id": "gDfhxjerYIOg",
      "execution_count": null,
      "outputs": []
    },
    {
      "cell_type": "markdown",
      "source": [
        "We have to remember a few things as we start to write unit tests.\n",
        "\n",
        "* Unit tests are designed to **test individual bits of logic** (\"units\"), self-contained, **no dependencies**\n",
        "* Each test should focus on a single behavior or outcome, i.e. **don't try to cover every possible scenario or outcome in one test**"
      ],
      "metadata": {
        "collapsed": false,
        "id": "df89e32a890476cc"
      },
      "id": "df89e32a890476cc"
    },
    {
      "cell_type": "markdown",
      "source": [
        "You should approach building unit tests keeping in mind 3 steps:\n",
        "\n",
        "\n",
        "#### 1. Arrange\n",
        "set up the conditions for your test\n",
        "\n",
        "#### 2. Act\n",
        "invoke the unit of code being tested\n",
        "\n",
        "#### 3. Assert\n",
        "check that the result is what was expected"
      ],
      "metadata": {
        "id": "mLtDFSbJLUgG"
      },
      "id": "mLtDFSbJLUgG"
    },
    {
      "cell_type": "code",
      "source": [
        "!mkdir test"
      ],
      "metadata": {
        "id": "rAp5E3DBPsT-"
      },
      "id": "rAp5E3DBPsT-",
      "execution_count": null,
      "outputs": []
    },
    {
      "cell_type": "code",
      "outputs": [],
      "source": [
        "%%writefile test/test_averaging.py\n",
        "import pytest\n",
        "from gradebook.grade_utils import calculate_average\n",
        "\n",
        "def test_averaging():\n",
        "    grades = [90, 80, 70] # arrange\n",
        "    average = calculate_average(grades) # act\n",
        "    assert average == 80 # assert"
      ],
      "metadata": {
        "id": "a83dafe379c9cde2"
      },
      "id": "a83dafe379c9cde2",
      "execution_count": null
    },
    {
      "cell_type": "markdown",
      "source": [
        "Now lets run `pytest`. Remember that we're **anticipating failure.**"
      ],
      "metadata": {
        "collapsed": false,
        "id": "7e1e9d4767a25046"
      },
      "id": "7e1e9d4767a25046"
    },
    {
      "cell_type": "code",
      "outputs": [],
      "source": [
        "!python3 -m pytest"
      ],
      "metadata": {
        "id": "115358b3cfe43f8b",
        "collapsed": true
      },
      "id": "115358b3cfe43f8b",
      "execution_count": null
    },
    {
      "cell_type": "markdown",
      "source": [
        "#### That looks about right.\n",
        "\n",
        "Lets add a basic implementation."
      ],
      "metadata": {
        "id": "22OS2PnOb4TJ"
      },
      "id": "22OS2PnOb4TJ"
    },
    {
      "cell_type": "code",
      "source": [
        "!touch gradebook/__init__.py"
      ],
      "metadata": {
        "id": "xfKV8QpEWgeS"
      },
      "id": "xfKV8QpEWgeS",
      "execution_count": null,
      "outputs": []
    },
    {
      "cell_type": "code",
      "source": [
        "%%writefile gradebook/grade_utils.py\n",
        "\n",
        "def calculate_average(grades):\n",
        "    return sum(grades) / len(grades)\n"
      ],
      "metadata": {
        "id": "2MDKa-HbI6ov"
      },
      "id": "2MDKa-HbI6ov",
      "execution_count": null,
      "outputs": []
    },
    {
      "cell_type": "markdown",
      "source": [
        "Re-run our test..."
      ],
      "metadata": {
        "id": "AWfaS7-TJzK8"
      },
      "id": "AWfaS7-TJzK8"
    },
    {
      "cell_type": "code",
      "source": [
        "!python3 -m pytest"
      ],
      "metadata": {
        "id": "cfKIMTBJJ4BL"
      },
      "id": "cfKIMTBJJ4BL",
      "execution_count": null,
      "outputs": []
    },
    {
      "cell_type": "markdown",
      "source": [
        "I do 💚 love 💚 seeing that <span style='color:green'>green</span>."
      ],
      "metadata": {
        "id": "3B6VN3yXKAbx"
      },
      "id": "3B6VN3yXKAbx"
    },
    {
      "cell_type": "markdown",
      "source": [
        "If you want to see which specific tests were executed, you can pass the `--verbose` or `-v` parameter to pytest."
      ],
      "metadata": {
        "id": "5gHmSlVybr-n"
      },
      "id": "5gHmSlVybr-n"
    },
    {
      "cell_type": "code",
      "source": [
        "!python3 -m pytest -v"
      ],
      "metadata": {
        "id": "lMKVtfynb1A-"
      },
      "id": "lMKVtfynb1A-",
      "execution_count": null,
      "outputs": []
    },
    {
      "cell_type": "markdown",
      "source": [
        "Test names should always be **descriptive**, so lets give it a better name for those who come after us, and trim it down to be more Python-y now that you get the **arrange-act-assert** point."
      ],
      "metadata": {
        "collapsed": false,
        "id": "83708efa54d164a4"
      },
      "id": "83708efa54d164a4"
    },
    {
      "cell_type": "code",
      "outputs": [],
      "source": [
        "%%writefile test/test_averaging.py\n",
        "import pytest\n",
        "from gradebook.grade_utils import calculate_average\n",
        "\n",
        "def test_that_average_grade_returns_average_of_grades_provided():\n",
        "    assert calculate_average([90, 80, 70]) == 80\n"
      ],
      "metadata": {
        "id": "61bb24ac5223439c"
      },
      "id": "61bb24ac5223439c",
      "execution_count": null
    },
    {
      "cell_type": "code",
      "source": [
        "!python3 -m pytest -v"
      ],
      "metadata": {
        "id": "JjtBhtqTLZlR"
      },
      "id": "JjtBhtqTLZlR",
      "execution_count": null,
      "outputs": []
    },
    {
      "cell_type": "markdown",
      "source": [
        "##Fixtures\n",
        "Technically, we should not be hardcoding any values. We should use fixtures instead.\n",
        "\n",
        "This helps by **documenting** the expected values for anyone who looks at this code and also facilitates their **adding more tests** by giving them building blocks to start with."
      ],
      "metadata": {
        "collapsed": false,
        "id": "1cd9afcabc30f653"
      },
      "id": "1cd9afcabc30f653"
    },
    {
      "cell_type": "code",
      "outputs": [],
      "source": [
        "%%writefile test/test_averaging.py\n",
        "import pytest\n",
        "from gradebook.grade_utils import calculate_average\n",
        "\n",
        "@pytest.fixture\n",
        "def some_grades():\n",
        "    return [90, 80, 70]\n",
        "\n",
        "def test_that_average_grade_returns_average_of_grades_provided(some_grades):\n",
        "    assert calculate_average(some_grades) == 80"
      ],
      "metadata": {
        "id": "ca53376ce1b04b02"
      },
      "id": "ca53376ce1b04b02",
      "execution_count": null
    },
    {
      "cell_type": "code",
      "source": [
        "!python3 -m pytest"
      ],
      "metadata": {
        "id": "MptAHDz0QUUL"
      },
      "id": "MptAHDz0QUUL",
      "execution_count": null,
      "outputs": []
    },
    {
      "cell_type": "markdown",
      "source": [
        "**Maybe** we should discuss that `pytest` **abbreviated output**.\n",
        "\n",
        "- A green dot `.` means that the test passed\n",
        "- An `F` means that the test has failed\n",
        "- An `E` means that the test raised an unexpected exception"
      ],
      "metadata": {
        "id": "DWN0uNw8mnZa"
      },
      "id": "DWN0uNw8mnZa"
    },
    {
      "cell_type": "markdown",
      "source": [
        "Lets step back and consider whether this test covers every situation we may want to test for. 🤔\n",
        "\n",
        "What if the list is **empty**?"
      ],
      "metadata": {
        "collapsed": false,
        "id": "322d9c6055c7b6d6"
      },
      "id": "322d9c6055c7b6d6"
    },
    {
      "cell_type": "code",
      "source": [
        "%%writefile test/test_averaging_some_more.py\n",
        "import pytest\n",
        "from gradebook.grade_utils import calculate_average\n",
        "\n",
        "@pytest.fixture\n",
        "def no_grades():\n",
        "    return []\n",
        "\n",
        "def test_that_average_of_no_grades_still_works(no_grades):\n",
        "    assert calculate_average(no_grades) is None"
      ],
      "metadata": {
        "id": "7iLsIgb5V4U_"
      },
      "id": "7iLsIgb5V4U_",
      "execution_count": null,
      "outputs": []
    },
    {
      "cell_type": "code",
      "source": [
        "!python -m pytest -v"
      ],
      "metadata": {
        "id": "1wSzOwW5Yu_9"
      },
      "id": "1wSzOwW5Yu_9",
      "execution_count": null,
      "outputs": []
    },
    {
      "cell_type": "markdown",
      "source": [
        "#### Okay, now, lets **refactor** our function to handle the empty list."
      ],
      "metadata": {
        "id": "Ek_rQDo5Y1md"
      },
      "id": "Ek_rQDo5Y1md"
    },
    {
      "cell_type": "code",
      "source": [
        "%%writefile gradebook/grade_utils.py\n",
        "\n",
        "def calculate_average(grades):\n",
        "    if not grades:\n",
        "      return None\n",
        "    return sum(grades) / len(grades)"
      ],
      "metadata": {
        "id": "DGpd1EigY08v"
      },
      "id": "DGpd1EigY08v",
      "execution_count": null,
      "outputs": []
    },
    {
      "cell_type": "markdown",
      "source": [
        "I maintain that the average of an empty list is nothing, sending a clear message that the list of grades was empty and not a set of zeros, which could be a valid input.\n",
        "\n",
        "Gathering requirements is a topic for another day, but just wanted to point out how **writing tests first helps to shed light on ambiguity** so you can have a chat with the user requesting the change or the \"product owner\" in a larger org."
      ],
      "metadata": {
        "collapsed": false,
        "id": "d18eacfc7aa09188"
      },
      "id": "d18eacfc7aa09188"
    },
    {
      "cell_type": "code",
      "source": [
        "!python -m pytest"
      ],
      "metadata": {
        "id": "34xqDVtVWFxa"
      },
      "id": "34xqDVtVWFxa",
      "execution_count": null,
      "outputs": []
    },
    {
      "cell_type": "markdown",
      "source": [
        "And, you know, erring on the side of caution isn't a bad thing. It doesn't hurt to introduce tests just to make sure things work how you expect, e.g. if the input is not an empty list but nothing:"
      ],
      "metadata": {
        "id": "0qF5gjQ2NkPR"
      },
      "id": "0qF5gjQ2NkPR"
    },
    {
      "cell_type": "code",
      "source": [
        "%%writefile test/test_averaging_yet_again.py\n",
        "import pytest\n",
        "from gradebook.grade_utils import calculate_average\n",
        "\n",
        "def test_that_average_of_nothing_still_does_what_is_expected():\n",
        "    assert calculate_average(None) is None"
      ],
      "metadata": {
        "id": "t3q7yjyIbsLv"
      },
      "id": "t3q7yjyIbsLv",
      "execution_count": null,
      "outputs": []
    },
    {
      "cell_type": "code",
      "source": [
        "!python -m pytest -v"
      ],
      "metadata": {
        "id": "PbJ6_u3-cEvu"
      },
      "id": "PbJ6_u3-cEvu",
      "execution_count": null,
      "outputs": []
    },
    {
      "cell_type": "markdown",
      "source": [
        "##Markers\n",
        "In a **large codebase**, I have seen **automated tests take upwards of 30 minutes** to run because there are **so many**, each atomic, each \"arranging\" its setup. It may be beneficial to start using [markers](https://pytest-with-eric.com/pytest-best-practices/pytest-markers/) straight out of the gate so you can run only the tests in the scope you are modifying.\n",
        "\n",
        "This will also come in handy if you are deploying to multiple platforms and your test is only relevant to **specific architectures** or **specific versions** of dependencies. You can then configure CI/CD to run only a subset of tests depending which version you are building.\n",
        "\n",
        "**Markers** allow you to group your unit tests and run them by marker.\n",
        "\n",
        "Lets apply markers to 2 of the 3 tests and see what happens."
      ],
      "metadata": {
        "collapsed": false,
        "id": "1732189433a1cdfb"
      },
      "id": "1732189433a1cdfb"
    },
    {
      "cell_type": "code",
      "source": [
        "%%writefile test/test_averaging_yet_again.py\n",
        "import pytest\n",
        "from gradebook.grade_utils import calculate_average\n",
        "\n",
        "@pytest.mark.average\n",
        "def test_that_average_of_nothing_still_does_what_is_expected():\n",
        "    assert calculate_average(None) is None"
      ],
      "metadata": {
        "id": "GHfkTIR4g6kS"
      },
      "id": "GHfkTIR4g6kS",
      "execution_count": null,
      "outputs": []
    },
    {
      "cell_type": "code",
      "source": [
        "%%writefile test/test_averaging_some_more.py\n",
        "import pytest\n",
        "from gradebook.grade_utils import calculate_average\n",
        "\n",
        "@pytest.fixture\n",
        "def no_grades():\n",
        "    return []\n",
        "\n",
        "@pytest.mark.average\n",
        "def test_that_average_of_no_grades_still_works(no_grades):\n",
        "    assert calculate_average(no_grades) is None"
      ],
      "metadata": {
        "id": "csHvQhCrhSaY"
      },
      "id": "csHvQhCrhSaY",
      "execution_count": null,
      "outputs": []
    },
    {
      "cell_type": "markdown",
      "source": [
        "All three of our tests will still run with no parameters passed."
      ],
      "metadata": {
        "id": "Ky6rNSIRhpni"
      },
      "id": "Ky6rNSIRhpni"
    },
    {
      "cell_type": "code",
      "source": [
        "!python -m pytest"
      ],
      "metadata": {
        "id": "hHLhe9ePhh0m"
      },
      "id": "hHLhe9ePhh0m",
      "execution_count": null,
      "outputs": []
    },
    {
      "cell_type": "markdown",
      "source": [
        "But if we pass the marker parameter with the marker name \"average\"..."
      ],
      "metadata": {
        "id": "5ifUfaGChulV"
      },
      "id": "5ifUfaGChulV"
    },
    {
      "cell_type": "code",
      "source": [
        "!python -m pytest -m average"
      ],
      "metadata": {
        "id": "JuKf8W4Ph8aP"
      },
      "id": "JuKf8W4Ph8aP",
      "execution_count": null,
      "outputs": []
    },
    {
      "cell_type": "markdown",
      "source": [
        "It's just a warning, but we should really register our markers, if only to keep a record of what markers are available when other engineers run our tests and want to find out what markers there are to choose from:"
      ],
      "metadata": {
        "id": "DvfgeRD-imAG"
      },
      "id": "DvfgeRD-imAG"
    },
    {
      "cell_type": "code",
      "source": [
        "!python -m pytest --markers"
      ],
      "metadata": {
        "id": "xk3WUgi8iwpN"
      },
      "id": "xk3WUgi8iwpN",
      "execution_count": null,
      "outputs": []
    },
    {
      "cell_type": "markdown",
      "source": [
        "We can add our custom marker to a dedicated `pytest.ini` file or a `pyproject.toml` file. I would recommend adding to `pyproject.toml` if there is one. It's always good to go best practice instead of ignoring these warnings so let's configure a `pyproject.toml` so we stop seeing this warning in subsequent runs."
      ],
      "metadata": {
        "id": "9jr2vWc0jN6t"
      },
      "id": "9jr2vWc0jN6t"
    },
    {
      "cell_type": "code",
      "source": [
        "%%writefile pyproject.toml\n",
        "[tool.pytest.ini_options]\n",
        "markers = [\n",
        "    \"average: used to mark all tests associated with averaging grades\"\n",
        "]"
      ],
      "metadata": {
        "id": "nAgIj_BGjqPb"
      },
      "id": "nAgIj_BGjqPb",
      "execution_count": null,
      "outputs": []
    },
    {
      "cell_type": "code",
      "source": [
        "!python -m pytest --markers"
      ],
      "metadata": {
        "id": "KFmH6mdYkFvW"
      },
      "id": "KFmH6mdYkFvW",
      "execution_count": null,
      "outputs": []
    },
    {
      "cell_type": "markdown",
      "source": [
        "#### Neat!\n",
        "\n",
        "There are many other configuration settings for `pytest`. Read more about them in the [official docs](https://docs.pytest.org/en/7.1.x/reference/reference.html#ini-options-ref).\n",
        "\n",
        "Now lets see if the warning went away."
      ],
      "metadata": {
        "id": "yTyJhxmykHUJ"
      },
      "id": "yTyJhxmykHUJ"
    },
    {
      "cell_type": "code",
      "source": [
        "!python -m pytest -m average"
      ],
      "metadata": {
        "id": "8a6zYyDAkNtC"
      },
      "id": "8a6zYyDAkNtC",
      "execution_count": null,
      "outputs": []
    },
    {
      "cell_type": "markdown",
      "source": [
        "Love it! You can also **exclude** a marker instead of including it by quoting the marker and preceding with a `not`, e.g.:"
      ],
      "metadata": {
        "id": "1y6AAp6RkTjQ"
      },
      "id": "1y6AAp6RkTjQ"
    },
    {
      "cell_type": "code",
      "source": [
        "!python -m pytest -m \"not average\""
      ],
      "metadata": {
        "id": "1thHqA-TkaSv"
      },
      "id": "1thHqA-TkaSv",
      "execution_count": null,
      "outputs": []
    },
    {
      "cell_type": "markdown",
      "source": [
        "Lets go back and add that `average` marker to the 3rd test to be consistent."
      ],
      "metadata": {
        "id": "k-fANXc_ksZw"
      },
      "id": "k-fANXc_ksZw"
    },
    {
      "cell_type": "code",
      "source": [
        "%%writefile test/test_averaging.py\n",
        "import pytest\n",
        "from gradebook.grade_utils import calculate_average\n",
        "\n",
        "@pytest.fixture\n",
        "def some_grades():\n",
        "    return [90, 80, 70]\n",
        "\n",
        "@pytest.mark.average\n",
        "def test_that_average_grade_returns_average_of_grades_provided(some_grades):\n",
        "    assert calculate_average(some_grades) == 80"
      ],
      "metadata": {
        "id": "mbBt6toQhabK"
      },
      "id": "mbBt6toQhabK",
      "execution_count": null,
      "outputs": []
    },
    {
      "cell_type": "markdown",
      "source": [
        "Test that it worked. We should have no tests that are not marked average."
      ],
      "metadata": {
        "id": "-FNFF7I4gw5y"
      },
      "id": "-FNFF7I4gw5y"
    },
    {
      "cell_type": "code",
      "source": [
        "!python -m pytest -m \"not average\""
      ],
      "metadata": {
        "id": "rKSxWJD3kzs8"
      },
      "id": "rKSxWJD3kzs8",
      "execution_count": null,
      "outputs": []
    },
    {
      "cell_type": "markdown",
      "source": [
        "Lets add a few more tests so we can see how fixtures can be shared. Here I will borrow the `some_grades` fixture from earlier in our new tests."
      ],
      "metadata": {
        "id": "gKIle7ANhcKS"
      },
      "id": "gKIle7ANhcKS"
    },
    {
      "cell_type": "code",
      "outputs": [],
      "source": [
        "%%writefile test/test_highest_lowest.py\n",
        "import pytest\n",
        "from gradebook.grade_utils import find_highest_grade, find_lowest_grade\n",
        "\n",
        "@pytest.mark.hilo\n",
        "@pytest.mark.highest\n",
        "def test_find_highest_grade(some_grades):\n",
        "    assert find_highest_grade(some_grades) == 90\n",
        "\n",
        "@pytest.mark.hilo\n",
        "@pytest.mark.lowest\n",
        "def test_find_lowest_grade(some_grades):\n",
        "    assert find_lowest_grade(some_grades) == 70"
      ],
      "metadata": {
        "id": "a9e01c2f527e81ec"
      },
      "id": "a9e01c2f527e81ec",
      "execution_count": null
    },
    {
      "cell_type": "markdown",
      "source": [
        "Notice that we are applying **multiple markers** to our new tests.\n",
        "\n",
        "I will go ahead and create the logic as well."
      ],
      "metadata": {
        "id": "puLCTY4Yn-In"
      },
      "id": "puLCTY4Yn-In"
    },
    {
      "cell_type": "code",
      "source": [
        "%%writefile gradebook/grade_utils.py\n",
        "\n",
        "def calculate_average(grades):\n",
        "    \"\"\"Return the average grade\"\"\"\n",
        "    if not grades:\n",
        "      return None\n",
        "    return sum(grades) / len(grades)\n",
        "\n",
        "\n",
        "def find_highest_grade(grades):\n",
        "    \"\"\"Return the highest grade\"\"\"\n",
        "    if not grades:\n",
        "        return None\n",
        "    return max(grades)\n",
        "\n",
        "\n",
        "def find_lowest_grade(grades):\n",
        "    \"\"\"Return the lowest grade\"\"\"\n",
        "    if not grades:\n",
        "        return None\n",
        "    return min(grades)\n"
      ],
      "metadata": {
        "id": "7vb1Nn2An9TS"
      },
      "id": "7vb1Nn2An9TS",
      "execution_count": null,
      "outputs": []
    },
    {
      "cell_type": "code",
      "outputs": [],
      "source": [
        "!python -m pytest"
      ],
      "metadata": {
        "id": "197bd456c71d3a29"
      },
      "id": "197bd456c71d3a29",
      "execution_count": null
    },
    {
      "cell_type": "markdown",
      "source": [
        "Okay, so we have a few **new markers** that we will register, but the only **error** is that our fixture is `not found`. Lets address that fixture first. We can share fixtures with all of our tests. Lets move `some_grades` to a `conftest.py` (`pytest` does expect the shared fixtures to live in a file of this specific name) so that we can have a place to add fixtures as our codebase grows."
      ],
      "metadata": {
        "id": "hpgm9F5vopps"
      },
      "id": "hpgm9F5vopps"
    },
    {
      "cell_type": "code",
      "source": [
        "%%writefile test/conftest.py\n",
        "import pytest\n",
        "\n",
        "@pytest.fixture(scope=\"function\")\n",
        "def some_grades():\n",
        "    return [90, 80, 70]"
      ],
      "metadata": {
        "id": "IfAsffoYqJ7M"
      },
      "id": "IfAsffoYqJ7M",
      "execution_count": null,
      "outputs": []
    },
    {
      "cell_type": "markdown",
      "source": [
        "When fixtures are defined in `conftest.py`, they can have a **scope** applied. The scope determines when the fixture will be invoked. In this case, this fixture will be invoked for each function in which it is used. This is actually the **default**.\n",
        "\n",
        "There are several options because some fixtures are complex. You can instantiate a class or a service as a fixture, and you will not want **expensive operations** to be performed more often than necessary.\n",
        "\n",
        "The other options are:\n",
        "\n",
        "- class\n",
        "- module\n",
        "- session\n",
        "\n",
        "[Real world example](https://github.com/getsentry/sentry/blob/a471c8ad53dcd956f6b886c06ee1555697966002/src/sentry/testutils/pytest/kafka.py#L14.) of why you might want to scope fixtures."
      ],
      "metadata": {
        "id": "011cH189jcC6"
      },
      "id": "011cH189jcC6"
    },
    {
      "cell_type": "markdown",
      "source": [
        "Lets **remove** the fixture from where it had originally been declared."
      ],
      "metadata": {
        "id": "WdNAE3bCRbFb"
      },
      "id": "WdNAE3bCRbFb"
    },
    {
      "cell_type": "code",
      "source": [
        "%%writefile test/test_averaging.py\n",
        "import pytest\n",
        "from gradebook.grade_utils import calculate_average\n",
        "\n",
        "@pytest.mark.average\n",
        "def test_that_average_grade_returns_average_of_grades_provided(some_grades):\n",
        "    assert calculate_average(some_grades) == 80"
      ],
      "metadata": {
        "id": "OaCPrO9YrbDA"
      },
      "id": "OaCPrO9YrbDA",
      "execution_count": null,
      "outputs": []
    },
    {
      "cell_type": "markdown",
      "source": [
        "Lets also **register our new markers**."
      ],
      "metadata": {
        "id": "QZeUuidvqioE"
      },
      "id": "QZeUuidvqioE"
    },
    {
      "cell_type": "code",
      "source": [
        "%%writefile pyproject.toml\n",
        "[tool.pytest.ini_options]\n",
        "markers = [\n",
        "    \"average: used to mark all tests associated with averaging grades\",\n",
        "    \"hilo: used to mark tests associated with identifying the extreme grades\",\n",
        "    \"highest: used to mark tests associated with identfying the highest grade\",\n",
        "    \"lowest: used to mark tests associated with identifying the lowest grade\"\n",
        "]"
      ],
      "metadata": {
        "id": "BfbWwXTHojZ7"
      },
      "id": "BfbWwXTHojZ7",
      "execution_count": null,
      "outputs": []
    },
    {
      "cell_type": "markdown",
      "source": [
        "After applying **multiple markers** to the same tests, we can now refer to any of the markers associated with a test to run that test."
      ],
      "metadata": {
        "id": "5lIlE3M6pViO"
      },
      "id": "5lIlE3M6pViO"
    },
    {
      "cell_type": "code",
      "source": [
        "!python -m pytest -m hilo -v"
      ],
      "metadata": {
        "id": "A8XH-Jxophgo"
      },
      "id": "A8XH-Jxophgo",
      "execution_count": null,
      "outputs": []
    },
    {
      "cell_type": "markdown",
      "source": [
        "Both of the tests in the hilo file ran!\n",
        "\n",
        "And to demonstrate the point that we can use **any of the markers** applied to a test to run that test..."
      ],
      "metadata": {
        "id": "BhP2gnlbujyw"
      },
      "id": "BhP2gnlbujyw"
    },
    {
      "cell_type": "code",
      "source": [
        "!python -m pytest -m highest -v"
      ],
      "metadata": {
        "id": "ALmf-GOXuqjz"
      },
      "id": "ALmf-GOXuqjz",
      "execution_count": null,
      "outputs": []
    },
    {
      "cell_type": "markdown",
      "source": [
        "Lots of marker settings available, including **conditional skipping** and **intentional failure**, which can be used as a placeholder to address an issue, and **timeout** markers that will cause the test to error if it exceeds the set time.\n",
        "\n",
        "More examples with explanations can be found on this handy blog: https://pytest-with-eric.com/pytest-best-practices/pytest-markers/\n"
      ],
      "metadata": {
        "collapsed": false,
        "id": "f561b41c6079f2c2"
      },
      "id": "f561b41c6079f2c2"
    },
    {
      "cell_type": "markdown",
      "source": [
        "Markers can also be used to [skip tests based on conditions](https://github.com/urllib3/urllib3/blob/da410581b6b3df73da976b5ce5eb20a4bd030437/dummyserver/testcase.py#L314)."
      ],
      "metadata": {
        "id": "D-inP5afas8E"
      },
      "id": "D-inP5afas8E"
    },
    {
      "cell_type": "markdown",
      "source": [
        "Before we add more tests, some additional considerations...\n",
        "\n",
        "* Tests should not be **interdependent**.\n",
        "* Tests need to be able to run **in any order**.\n",
        "* Unit tests should have a low **execution time** because there will be many of them.\n",
        "* Tests need to be run **frequently**, preferably **automatically** as a pre-commit hook or, much better, as part of a CI workflow."
      ],
      "metadata": {
        "collapsed": false,
        "id": "2cf6a81fd549ce57"
      },
      "id": "2cf6a81fd549ce57"
    },
    {
      "cell_type": "code",
      "source": [
        "!python -m pytest --durations=0 -vv"
      ],
      "metadata": {
        "id": "3-qlT1OtgQHp"
      },
      "id": "3-qlT1OtgQHp",
      "execution_count": null,
      "outputs": []
    },
    {
      "cell_type": "markdown",
      "source": [
        "Lets add some more tests and some more functions and then rerun our new test suite."
      ],
      "metadata": {
        "collapsed": false,
        "id": "cd744bc7ee9f0c82"
      },
      "id": "cd744bc7ee9f0c82"
    },
    {
      "cell_type": "code",
      "source": [
        "%%writefile test/test_integrated_functionality.py\n",
        "import pytest\n",
        "from gradebook.grade_utils import calculate_average, determine_letter_grade\n",
        "\n",
        "def test_letter_grade_average(some_grades):\n",
        "    # calculate_average\n",
        "    average = calculate_average(some_grades)\n",
        "\n",
        "    # determine_letter_grade for the average\n",
        "    average_letter_grade = determine_letter_grade(average)\n",
        "    assert average_letter_grade == \"B\""
      ],
      "metadata": {
        "id": "FXOTWFftf0dD"
      },
      "id": "FXOTWFftf0dD",
      "execution_count": null,
      "outputs": []
    },
    {
      "cell_type": "markdown",
      "source": [
        "#### That's technically a super lightweight **integration** test because it checks that two different parts of our codebase work together."
      ],
      "metadata": {
        "collapsed": false,
        "id": "166debb8921957d4"
      },
      "id": "166debb8921957d4"
    },
    {
      "cell_type": "markdown",
      "source": [
        "Let's add the code to return a letter grade for a numeric grade."
      ],
      "metadata": {
        "id": "EOwQ4Q_xmhph"
      },
      "id": "EOwQ4Q_xmhph"
    },
    {
      "cell_type": "code",
      "source": [
        "%%bash\n",
        "cat << _EOF >> gradebook/grade_utils.py\n",
        "\n",
        "\n",
        "def determine_letter_grade(grade):\n",
        "    \"\"\"Return the letter grade for a numeric grade.\"\"\"\n",
        "    if grade >= 90:\n",
        "        return \"A\"\n",
        "    elif grade >= 80:\n",
        "        return \"B\"\n",
        "    elif grade >= 70:\n",
        "        return \"C\"\n",
        "    elif grade >= 60:\n",
        "        return \"D\"\n",
        "    else:\n",
        "        return \"F\"\n",
        "_EOF"
      ],
      "metadata": {
        "id": "N4BYm2tGlfai"
      },
      "id": "N4BYm2tGlfai",
      "execution_count": null,
      "outputs": []
    },
    {
      "cell_type": "code",
      "outputs": [],
      "source": [
        "!python -m pytest"
      ],
      "metadata": {
        "id": "6ab32cfdedf2b9e3"
      },
      "id": "6ab32cfdedf2b9e3",
      "execution_count": null
    },
    {
      "cell_type": "markdown",
      "source": [
        "###Parametrization\n",
        "Now that we've added the letter grade function, it would be a great time to bring up **parametrization**. Parametrization comes in handy if you find yourself writing a lot of tests that look very similar, or if you have to test for a long list of scenarios that could be easily expressed as parameters."
      ],
      "metadata": {
        "id": "3uWXN2RHvVcH"
      },
      "id": "3uWXN2RHvVcH"
    },
    {
      "cell_type": "code",
      "source": [
        "%%writefile test/test_parametrized_letter_grades.py\n",
        "import pytest\n",
        "\n",
        "from gradebook.grade_utils import determine_letter_grade\n",
        "\n",
        "\n",
        "grade_ranges = {\n",
        "    \"A\": range(90, 101),\n",
        "    \"B\": range(80, 90),\n",
        "    \"C\": range(70, 80),\n",
        "    \"D\": range(60, 70),\n",
        "    \"F\": range(0, 60),\n",
        "}\n",
        "\n",
        "@pytest.mark.parametrize(\"letter,number\",\n",
        "                         [(letter, number) for letter, numbers in grade_ranges.items() for number in numbers])\n",
        "\n",
        "def test_is_letter_grade(letter, number):\n",
        "    assert determine_letter_grade(number) == letter"
      ],
      "metadata": {
        "id": "MmqFAAgPv2WU"
      },
      "id": "MmqFAAgPv2WU",
      "execution_count": null,
      "outputs": []
    },
    {
      "cell_type": "markdown",
      "source": [
        "###Brace yourself..."
      ],
      "metadata": {
        "id": "nDuMQSoHv_WZ"
      },
      "id": "nDuMQSoHv_WZ"
    },
    {
      "cell_type": "code",
      "source": [
        "!python -m pytest"
      ],
      "metadata": {
        "id": "8ALitQF1wDdn"
      },
      "id": "8ALitQF1wDdn",
      "execution_count": null,
      "outputs": []
    },
    {
      "cell_type": "code",
      "source": [
        "!python -m pytest -v"
      ],
      "metadata": {
        "id": "5Kqtt5W2kHlG"
      },
      "id": "5Kqtt5W2kHlG",
      "execution_count": null,
      "outputs": []
    },
    {
      "cell_type": "markdown",
      "source": [
        "Now that we've looked at a silly example, a [real example of parametrization](https://github.com/tiangolo/fastapi/blob/a9819dfd8da39a754837cc134df4aca6c0a9a3f6/tests/test_param_include_in_schema.py#L168)."
      ],
      "metadata": {
        "id": "RNqdmG9fSm8Z"
      },
      "id": "RNqdmG9fSm8Z"
    },
    {
      "cell_type": "markdown",
      "source": [
        "## Mocking Complex Dependencies\n",
        "\n",
        "The last feature that will be essential as you begin to work with established codebases is **mocking**. [`pytest-mock`](https://pytest-mock.readthedocs.io/en/latest/usage.html) is a `pytest` plugin that provides mocking functionality. You should not connect to an actual database or your 3rd party API during unit testing. You should \"mock\" these dependencies instead.\n",
        "\n",
        "### Why mock?\n",
        "Because unit tests should be isolated, have **no dependencies**, and be **fast**, avoiding latency like that found in networking and database or disk operations\n",
        "\n",
        "You can mock pretty much anything:\n",
        "- HTTP requests\n",
        "- Database query results\n",
        "- File system manipulation\n",
        "- Built-in functions and constants\n",
        "- Complex classes we do not want to have to initialize\n",
        "- 3rd party libraries"
      ],
      "metadata": {
        "collapsed": false,
        "id": "aaee3243dd5bd362"
      },
      "id": "aaee3243dd5bd362"
    },
    {
      "cell_type": "code",
      "outputs": [],
      "source": [
        "!python -m pip install pytest-mock"
      ],
      "metadata": {
        "id": "8e54134c294d53e1"
      },
      "id": "8e54134c294d53e1",
      "execution_count": null
    },
    {
      "cell_type": "markdown",
      "source": [
        "Now we will create a simple function to write the grades list to a file."
      ],
      "metadata": {
        "id": "HGxmgW7-rtyg"
      },
      "id": "HGxmgW7-rtyg"
    },
    {
      "cell_type": "code",
      "source": [
        "%%writefile gradebook/save_grades.py\n",
        "def write_to_file(grades) -> None:\n",
        "    \"\"\"\n",
        "    Function to write our grades to a file\n",
        "    :param grades: grades list\n",
        "    :return: None\n",
        "    \"\"\"\n",
        "    with open(f\"grades.txt\", \"w\") as f:\n",
        "        f.write(str(grades))\n"
      ],
      "metadata": {
        "id": "U-TQSe_pragx"
      },
      "id": "U-TQSe_pragx",
      "execution_count": null,
      "outputs": []
    },
    {
      "cell_type": "markdown",
      "source": [
        "This function opens a file and writes the grades. Super simple. We don't want to actually open a file or actually write to a file, so we will mock the opening and writing. We will intercept these calls."
      ],
      "metadata": {
        "id": "eiGlZi1gr8uh"
      },
      "id": "eiGlZi1gr8uh"
    },
    {
      "cell_type": "code",
      "source": [
        "%%writefile test/test_write_to_file.py\n",
        "import pytest\n",
        "\n",
        "from gradebook.save_grades import write_to_file\n",
        "\n",
        "# first we pass the mocker in\n",
        "def test_write_grades_to_file(mocker):\n",
        "    \"\"\"\n",
        "    Function to test writing grades to a file\n",
        "    \"\"\"\n",
        "\n",
        "    # mock the 'open' function call to return a file object\n",
        "    # using a builtin from unittest\n",
        "    mock_file = mocker.mock_open()\n",
        "    mocker.patch(\"builtins.open\", mock_file)\n",
        "\n",
        "    # now we can call our function that writes to a file\n",
        "    write_to_file([50,75,100])\n",
        "\n",
        "    # assert that the 'open' function was called with the expected arguments\n",
        "    mock_file.assert_called_once_with(\"grades.txt\", \"w\")\n",
        "\n",
        "    # assert that the file was written to with the expected text\n",
        "    mock_file().write.assert_called_once_with(str([50,75,100]))"
      ],
      "metadata": {
        "id": "kcn1Mu5As4Vj"
      },
      "id": "kcn1Mu5As4Vj",
      "execution_count": null,
      "outputs": []
    },
    {
      "cell_type": "code",
      "source": [
        "!python -m pytest"
      ],
      "metadata": {
        "id": "q9aRd_C5uVD-"
      },
      "id": "q9aRd_C5uVD-",
      "execution_count": null,
      "outputs": []
    },
    {
      "cell_type": "markdown",
      "source": [
        "Beyond mocks there are also **spies**, but mocks are plenty on their own. Read all about mocking features in the [docs](https://pytest-mock.readthedocs.io/en/latest/usage.html). Mocks replace functionality with hardcoded values and spies replace only portions of real classes/modules which can be useful when you want to make sure that a deeper method in a 3rd party library or legacy codebase was invoked."
      ],
      "metadata": {
        "id": "OHKbt4oP0E3_"
      },
      "id": "OHKbt4oP0E3_"
    },
    {
      "cell_type": "markdown",
      "source": [
        "#### Here's [a real mock example](https://github.com/microsoft/timewarp/blob/44dca8474cb6182458830677763261cffccfaac4/utilities/fixtures.py#L80) from Microsoft!\n",
        "\n",
        "#### And a [real spy example](https://github.com/slackapi/python-slack-events-api/blob/2884d7d21fea634d1e5e7926409ed87f6fcc14cf/tests/test_server.py#L179) from Slack."
      ],
      "metadata": {
        "id": "UFMGfqgXaLY7"
      },
      "id": "UFMGfqgXaLY7"
    },
    {
      "cell_type": "markdown",
      "source": [
        "## Code Coverage\n",
        "\n",
        "**Aim** for **high** code coverage, but don't obsess.\n",
        "\n",
        "The coverage **Statement** coverage measures how many statements in the code were executed\n",
        "\n",
        "Lets see what our coverage looks like!"
      ],
      "metadata": {
        "collapsed": false,
        "id": "519a2d58faccc1"
      },
      "id": "519a2d58faccc1"
    },
    {
      "cell_type": "code",
      "outputs": [],
      "source": [
        "!python -m pip install coverage"
      ],
      "metadata": {
        "id": "a8a00635d9e81f0"
      },
      "id": "a8a00635d9e81f0",
      "execution_count": null
    },
    {
      "cell_type": "code",
      "source": [
        "!coverage run -m pytest"
      ],
      "metadata": {
        "id": "2bXtp5LV4ChW"
      },
      "id": "2bXtp5LV4ChW",
      "execution_count": null,
      "outputs": []
    },
    {
      "cell_type": "markdown",
      "source": [
        "Well that looks exactly like our usual `pytest` output..."
      ],
      "metadata": {
        "id": "n1pXg6sM4SLj"
      },
      "id": "n1pXg6sM4SLj"
    },
    {
      "cell_type": "code",
      "source": [
        "!coverage report -m"
      ],
      "metadata": {
        "id": "LH1y3Edv4Vqy"
      },
      "id": "LH1y3Edv4Vqy",
      "execution_count": null,
      "outputs": []
    },
    {
      "cell_type": "markdown",
      "source": [
        "### That's pretty good!\n",
        "\n",
        "In case you're wondering what those headings mean:  \n",
        "\n",
        "**Stmts** The total number of statements in the package.  \n",
        "**Miss** The number of statements that were not executed during testing.  \n",
        "**Cover** The percentage of statements that were executed during testing."
      ],
      "metadata": {
        "collapsed": false,
        "id": "b4c4df4ab7bcdbc9"
      },
      "id": "b4c4df4ab7bcdbc9"
    },
    {
      "cell_type": "markdown",
      "source": [
        "But say we don't want to have to go poking around in the files trying to figure out where we missed some opportunities to write tests. Say we rather point and click."
      ],
      "metadata": {
        "id": "uSic6lDU4wA1"
      },
      "id": "uSic6lDU4wA1"
    },
    {
      "cell_type": "code",
      "source": [
        "!coverage html"
      ],
      "metadata": {
        "id": "EnMzPVmk5Efq"
      },
      "id": "EnMzPVmk5Efq",
      "execution_count": null,
      "outputs": []
    },
    {
      "cell_type": "code",
      "source": [
        "from IPython.core.display import display, HTML\n",
        "file_path = 'htmlcov/index.html'\n",
        "with open(file_path, 'r') as file:\n",
        "    html_content = file.read()\n",
        "display(HTML(html_content))"
      ],
      "metadata": {
        "id": "6-eqFjwL6pk8"
      },
      "id": "6-eqFjwL6pk8",
      "execution_count": null,
      "outputs": []
    },
    {
      "cell_type": "markdown",
      "source": [
        "### A real example from [FastAPI](https://github.com/tiangolo/fastapi), just check on their impressive 100% code coverage badge to see their report!"
      ],
      "metadata": {
        "id": "SvABrRbuWKar"
      },
      "id": "SvABrRbuWKar"
    }
  ],
  "metadata": {
    "kernelspec": {
      "display_name": "Python 3",
      "language": "python",
      "name": "python3"
    },
    "language_info": {
      "codemirror_mode": {
        "name": "ipython",
        "version": 2
      },
      "file_extension": ".py",
      "mimetype": "text/x-python",
      "name": "python",
      "nbconvert_exporter": "python",
      "pygments_lexer": "ipython2",
      "version": "2.7.6"
    },
    "colab": {
      "provenance": []
    }
  },
  "nbformat": 4,
  "nbformat_minor": 5
}